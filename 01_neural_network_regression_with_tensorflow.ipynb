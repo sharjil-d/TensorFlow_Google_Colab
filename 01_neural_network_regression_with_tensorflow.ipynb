{
  "nbformat": 4,
  "nbformat_minor": 0,
  "metadata": {
    "colab": {
      "provenance": [],
      "authorship_tag": "ABX9TyMWf8QETo8GBb5LAA31U35L",
      "include_colab_link": true
    },
    "kernelspec": {
      "name": "python3",
      "display_name": "Python 3"
    },
    "language_info": {
      "name": "python"
    }
  },
  "cells": [
    {
      "cell_type": "markdown",
      "metadata": {
        "id": "view-in-github",
        "colab_type": "text"
      },
      "source": [
        "<a href=\"https://colab.research.google.com/github/sharjil-d/TensorFlow_Google_Colab/blob/main/01_neural_network_regression_with_tensorflow.ipynb\" target=\"_parent\"><img src=\"https://colab.research.google.com/assets/colab-badge.svg\" alt=\"Open In Colab\"/></a>"
      ]
    },
    {
      "cell_type": "markdown",
      "source": [],
      "metadata": {
        "id": "i8oWeWCAF4S9"
      }
    },
    {
      "cell_type": "markdown",
      "source": [
        "# introduction to regression with neural networks in tensor flow\n",
        "ex: predicting a numberical variable on other combination of variables"
      ],
      "metadata": {
        "id": "WWtrWfpVF5mX"
      }
    },
    {
      "cell_type": "code",
      "source": [
        "import tensorflow as tf\n",
        "print(tf.__version__)"
      ],
      "metadata": {
        "colab": {
          "base_uri": "https://localhost:8080/"
        },
        "id": "A47tieasGHa5",
        "outputId": "706e03dd-76e5-4d57-d461-1d2c23bdfbcc"
      },
      "execution_count": null,
      "outputs": [
        {
          "output_type": "stream",
          "name": "stdout",
          "text": [
            "2.12.0\n"
          ]
        }
      ]
    },
    {
      "cell_type": "markdown",
      "source": [
        "Creating data to view and fit"
      ],
      "metadata": {
        "id": "ddZdP1YsGTj2"
      }
    },
    {
      "cell_type": "code",
      "source": [
        "import numpy as np\n",
        "import matplotlib.pyplot as plt\n",
        "\n",
        "# create features\n",
        "X=np.array([-7,-4,-2,2,8,12])\n",
        "#create labels\n",
        "y=np.array([3,6,8,12,18,22])\n",
        "\n",
        "#visualize\n",
        "plt.scatter(X,y)"
      ],
      "metadata": {
        "colab": {
          "base_uri": "https://localhost:8080/",
          "height": 447
        },
        "id": "sOBWZFTPGSHb",
        "outputId": "4a0f2ecb-178d-406f-8972-574643a63f37"
      },
      "execution_count": null,
      "outputs": [
        {
          "output_type": "execute_result",
          "data": {
            "text/plain": [
              "<matplotlib.collections.PathCollection at 0x7fd370cb5a50>"
            ]
          },
          "metadata": {},
          "execution_count": 4
        },
        {
          "output_type": "display_data",
          "data": {
            "text/plain": [
              "<Figure size 640x480 with 1 Axes>"
            ],
            "image/png": "[encoded data removed]"
          },
          "metadata": {}
        }
      ]
    },
    {
      "cell_type": "code",
      "source": [
        "y==X+10"
      ],
      "metadata": {
        "colab": {
          "base_uri": "https://localhost:8080/"
        },
        "id": "q6dDu9M8HgsI",
        "outputId": "eb305889-fe46-4608-94f6-58379db7e106"
      },
      "execution_count": null,
      "outputs": [
        {
          "output_type": "execute_result",
          "data": {
            "text/plain": [
              "array([ True,  True,  True,  True,  True,  True])"
            ]
          },
          "metadata": {},
          "execution_count": 5
        }
      ]
    },
    {
      "cell_type": "markdown",
      "source": [
        "input and output shapes"
      ],
      "metadata": {
        "id": "ELdlIA_OH20M"
      }
    },
    {
      "cell_type": "code",
      "source": [
        "# create a demo tensor for our housing price prediction problem\n",
        "house_info=tf.constant(['bedroom','bathroom','garage'])\n",
        "house_price=tf.constant([939700])\n",
        "house_info,house_price"
      ],
      "metadata": {
        "colab": {
          "base_uri": "https://localhost:8080/"
        },
        "id": "ETDb0lRgHpQF",
        "outputId": "d57c866f-e9f9-4580-e019-d292482e55e7"
      },
      "execution_count": null,
      "outputs": [
        {
          "output_type": "execute_result",
          "data": {
            "text/plain": [
              "(<tf.Tensor: shape=(3,), dtype=string, numpy=array([b'bedroom', b'bathroom', b'garage'], dtype=object)>,\n",
              " <tf.Tensor: shape=(1,), dtype=int32, numpy=array([939700], dtype=int32)>)"
            ]
          },
          "metadata": {},
          "execution_count": 6
        }
      ]
    },
    {
      "cell_type": "code",
      "source": [
        "X.shape"
      ],
      "metadata": {
        "colab": {
          "base_uri": "https://localhost:8080/"
        },
        "id": "gtnqjzziIRWF",
        "outputId": "e7b4fde3-a9c6-49f2-aaff-27bdb26f7e61"
      },
      "execution_count": null,
      "outputs": [
        {
          "output_type": "execute_result",
          "data": {
            "text/plain": [
              "(6,)"
            ]
          },
          "metadata": {},
          "execution_count": 7
        }
      ]
    },
    {
      "cell_type": "code",
      "source": [
        "y[0].shape"
      ],
      "metadata": {
        "colab": {
          "base_uri": "https://localhost:8080/"
        },
        "id": "v5zla4tSIVST",
        "outputId": "2a7bda96-caa2-45be-e4a6-69a1ad08e449"
      },
      "execution_count": null,
      "outputs": [
        {
          "output_type": "execute_result",
          "data": {
            "text/plain": [
              "()"
            ]
          },
          "metadata": {},
          "execution_count": 8
        }
      ]
    },
    {
      "cell_type": "code",
      "source": [
        "#turn numpy to tensor\n",
        "X=tf.constant(X)\n",
        "y=tf.constant(y)\n",
        "X,y"
      ],
      "metadata": {
        "colab": {
          "base_uri": "https://localhost:8080/"
        },
        "id": "Egjjph5FJ97I",
        "outputId": "b433d136-e062-496b-e860-f85c6f657687"
      },
      "execution_count": null,
      "outputs": [
        {
          "output_type": "execute_result",
          "data": {
            "text/plain": [
              "(<tf.Tensor: shape=(6,), dtype=int64, numpy=array([-7, -4, -2,  2,  8, 12])>,\n",
              " <tf.Tensor: shape=(6,), dtype=int64, numpy=array([ 3,  6,  8, 12, 18, 22])>)"
            ]
          },
          "metadata": {},
          "execution_count": 9
        }
      ]
    },
    {
      "cell_type": "code",
      "source": [
        "X.ndim,X"
      ],
      "metadata": {
        "colab": {
          "base_uri": "https://localhost:8080/"
        },
        "id": "VNVWJnw9Nla-",
        "outputId": "fde81e29-dcc1-455d-b0e5-48c7bb120652"
      },
      "execution_count": null,
      "outputs": [
        {
          "output_type": "execute_result",
          "data": {
            "text/plain": [
              "(1,\n",
              " <tf.Tensor: shape=(6,), dtype=int64, numpy=array([-7, -4, -2,  2,  8, 12])>)"
            ]
          },
          "metadata": {},
          "execution_count": 10
        }
      ]
    },
    {
      "cell_type": "code",
      "source": [
        "aa=tf.expand_dims(X,axis=-1)\n",
        "aa.ndim,aa"
      ],
      "metadata": {
        "colab": {
          "base_uri": "https://localhost:8080/"
        },
        "id": "udj8ntt5Npqa",
        "outputId": "306c8fd9-6e80-47a4-c5dc-38d3c292bd5c"
      },
      "execution_count": null,
      "outputs": [
        {
          "output_type": "execute_result",
          "data": {
            "text/plain": [
              "(2,\n",
              " <tf.Tensor: shape=(6, 1), dtype=int64, numpy=\n",
              " array([[-7],\n",
              "        [-4],\n",
              "        [-2],\n",
              "        [ 2],\n",
              "        [ 8],\n",
              "        [12]])>)"
            ]
          },
          "metadata": {},
          "execution_count": 11
        }
      ]
    },
    {
      "cell_type": "markdown",
      "source": [
        "## steps in modeling with tensorflow\n",
        "\n",
        "\n",
        "1.   create a model - define input,output and hidden layer\n",
        "2.   compile a model - define loss function ands evaluation metrics\n",
        "3.   fitting a model\n",
        "\n"
      ],
      "metadata": {
        "id": "P64swQwSKWF9"
      }
    },
    {
      "cell_type": "code",
      "source": [
        "# set random seed\n",
        "tf.random.set_seed(42)\n",
        "\n",
        "#1. create a model suing sequential API\n",
        "model=tf.keras.Sequential([\n",
        "    tf.keras.layers.Dense(1)\n",
        "])\n",
        "\n",
        "# 2. compile the model\n",
        "model.compile(loss=tf.keras.losses.mae,\n",
        "              optimizer=tf.keras.optimizers.SGD(),\n",
        "              metrics=['mae'])\n",
        "#3. fit the model\n",
        "model.fit(tf.expand_dims(X,axis=-1),y,epochs=5)"
      ],
      "metadata": {
        "colab": {
          "base_uri": "https://localhost:8080/"
        },
        "id": "R1BXadqbKsz8",
        "outputId": "726b4659-55c8-46d0-d725-3fda09cb7e05"
      },
      "execution_count": null,
      "outputs": [
        {
          "output_type": "stream",
          "name": "stdout",
          "text": [
            "Epoch 1/5\n",
            "1/1 [==============================] - 0s 411ms/step - loss: 11.5728 - mae: 11.5728\n",
            "Epoch 2/5\n",
            "1/1 [==============================] - 0s 7ms/step - loss: 11.5403 - mae: 11.5403\n",
            "Epoch 3/5\n",
            "1/1 [==============================] - 0s 6ms/step - loss: 11.5078 - mae: 11.5078\n",
            "Epoch 4/5\n",
            "1/1 [==============================] - 0s 9ms/step - loss: 11.4753 - mae: 11.4753\n",
            "Epoch 5/5\n",
            "1/1 [==============================] - 0s 5ms/step - loss: 11.4428 - mae: 11.4428\n"
          ]
        },
        {
          "output_type": "execute_result",
          "data": {
            "text/plain": [
              "<keras.callbacks.History at 0x7fd36c32a7a0>"
            ]
          },
          "metadata": {},
          "execution_count": 12
        }
      ]
    },
    {
      "cell_type": "code",
      "source": [
        "# Check out X and y\n",
        "X,y"
      ],
      "metadata": {
        "colab": {
          "base_uri": "https://localhost:8080/"
        },
        "id": "A_ZhJKnuOqnZ",
        "outputId": "27e48c14-14de-41f3-8071-b059c4f71bf4"
      },
      "execution_count": null,
      "outputs": [
        {
          "output_type": "execute_result",
          "data": {
            "text/plain": [
              "(<tf.Tensor: shape=(6,), dtype=int64, numpy=array([-7, -4, -2,  2,  8, 12])>,\n",
              " <tf.Tensor: shape=(6,), dtype=int64, numpy=array([ 3,  6,  8, 12, 18, 22])>)"
            ]
          },
          "metadata": {},
          "execution_count": 13
        }
      ]
    },
    {
      "cell_type": "code",
      "source": [
        "# try and make a prediction using our model\n",
        "y_pred=model.predict([17.0])\n",
        "y_pred"
      ],
      "metadata": {
        "colab": {
          "base_uri": "https://localhost:8080/"
        },
        "id": "hyX0RQxUOufy",
        "outputId": "a3f0ebf5-da98-4bbc-848b-065f04183705"
      },
      "execution_count": null,
      "outputs": [
        {
          "output_type": "stream",
          "name": "stdout",
          "text": [
            "1/1 [==============================] - 0s 61ms/step\n"
          ]
        },
        {
          "output_type": "execute_result",
          "data": {
            "text/plain": [
              "array([[0.50034285]], dtype=float32)"
            ]
          },
          "metadata": {},
          "execution_count": 14
        }
      ]
    },
    {
      "cell_type": "markdown",
      "source": [
        "Improve our model\n",
        "\n",
        "we can imrove the model by altering steps we took to create a model\n",
        "1. creating a model: add more layers, increase the number of hidden units(neurons)\n",
        "2. compiling a model: we might change opt function or learning rate of opt function\n",
        "3. fitting a model: fit for more epochs"
      ],
      "metadata": {
        "id": "KcFS4xTyPzlt"
      }
    },
    {
      "cell_type": "code",
      "source": [
        "from keras.api._v2.keras import metrics\n",
        "# lets rebuild our model\n",
        "\n",
        "# create the model\n",
        "model=tf.keras.Sequential([   # sequential means botttom to top\n",
        "    tf.keras.layers.Dense(1)\n",
        "])\n",
        "\n",
        "# compile\n",
        "\n",
        "model.compile(\n",
        "    loss=tf.keras.losses.mae,  # mean absolute error\n",
        "    optimizer=tf.keras.optimizers.SGD(),\n",
        "    metrics=['mae']\n",
        "\n",
        ")\n",
        "\n",
        "#fit\n",
        "model.fit(tf.expand_dims(X,axis=-1),y,epochs=100) # epochs means longer training"
      ],
      "metadata": {
        "colab": {
          "base_uri": "https://localhost:8080/"
        },
        "id": "1rkEJN9-P2RK",
        "outputId": "7168bcfe-e5d6-4a6d-842f-1a8ad9d0c66b"
      },
      "execution_count": null,
      "outputs": [
        {
          "output_type": "stream",
          "name": "stdout",
          "text": [
            "Epoch 1/100\n",
            "1/1 [==============================] - 0s 223ms/step - loss: 11.1470 - mae: 11.1470\n",
            "Epoch 2/100\n",
            "1/1 [==============================] - 0s 8ms/step - loss: 11.1145 - mae: 11.1145\n",
            "Epoch 3/100\n",
            "1/1 [==============================] - 0s 8ms/step - loss: 11.0820 - mae: 11.0820\n",
            "Epoch 4/100\n",
            "1/1 [==============================] - 0s 7ms/step - loss: 11.0495 - mae: 11.0495\n",
            "Epoch 5/100\n",
            "1/1 [==============================] - 0s 6ms/step - loss: 11.0170 - mae: 11.0170\n",
            "Epoch 6/100\n",
            "1/1 [==============================] - 0s 6ms/step - loss: 10.9845 - mae: 10.9845\n",
            "Epoch 7/100\n",
            "1/1 [==============================] - 0s 6ms/step - loss: 10.9520 - mae: 10.9520\n",
            "Epoch 8/100\n",
            "1/1 [==============================] - 0s 6ms/step - loss: 10.9195 - mae: 10.9195\n",
            "Epoch 9/100\n",
            "1/1 [==============================] - 0s 8ms/step - loss: 10.8870 - mae: 10.8870\n",
            "Epoch 10/100\n",
            "1/1 [==============================] - 0s 8ms/step - loss: 10.8545 - mae: 10.8545\n",
            "Epoch 11/100\n",
            "1/1 [==============================] - 0s 8ms/step - loss: 10.8220 - mae: 10.8220\n",
            "Epoch 12/100\n",
            "1/1 [==============================] - 0s 8ms/step - loss: 10.7895 - mae: 10.7895\n",
            "Epoch 13/100\n",
            "1/1 [==============================] - 0s 7ms/step - loss: 10.7570 - mae: 10.7570\n",
            "Epoch 14/100\n",
            "1/1 [==============================] - 0s 6ms/step - loss: 10.7245 - mae: 10.7245\n",
            "Epoch 15/100\n",
            "1/1 [==============================] - 0s 6ms/step - loss: 10.6920 - mae: 10.6920\n",
            "Epoch 16/100\n",
            "1/1 [==============================] - 0s 5ms/step - loss: 10.6595 - mae: 10.6595\n",
            "Epoch 17/100\n",
            "1/1 [==============================] - 0s 5ms/step - loss: 10.6270 - mae: 10.6270\n",
            "Epoch 18/100\n",
            "1/1 [==============================] - 0s 6ms/step - loss: 10.5945 - mae: 10.5945\n",
            "Epoch 19/100\n",
            "1/1 [==============================] - 0s 6ms/step - loss: 10.5620 - mae: 10.5620\n",
            "Epoch 20/100\n",
            "1/1 [==============================] - 0s 6ms/step - loss: 10.5295 - mae: 10.5295\n",
            "Epoch 21/100\n",
            "1/1 [==============================] - 0s 6ms/step - loss: 10.4970 - mae: 10.4970\n",
            "Epoch 22/100\n",
            "1/1 [==============================] - 0s 6ms/step - loss: 10.4645 - mae: 10.4645\n",
            "Epoch 23/100\n",
            "1/1 [==============================] - 0s 6ms/step - loss: 10.4320 - mae: 10.4320\n",
            "Epoch 24/100\n",
            "1/1 [==============================] - 0s 7ms/step - loss: 10.3995 - mae: 10.3995\n",
            "Epoch 25/100\n",
            "1/1 [==============================] - 0s 6ms/step - loss: 10.3670 - mae: 10.3670\n",
            "Epoch 26/100\n",
            "1/1 [==============================] - 0s 7ms/step - loss: 10.3345 - mae: 10.3345\n",
            "Epoch 27/100\n",
            "1/1 [==============================] - 0s 7ms/step - loss: 10.3020 - mae: 10.3020\n",
            "Epoch 28/100\n",
            "1/1 [==============================] - 0s 8ms/step - loss: 10.2695 - mae: 10.2695\n",
            "Epoch 29/100\n",
            "1/1 [==============================] - 0s 6ms/step - loss: 10.2370 - mae: 10.2370\n",
            "Epoch 30/100\n",
            "1/1 [==============================] - 0s 7ms/step - loss: 10.2045 - mae: 10.2045\n",
            "Epoch 31/100\n",
            "1/1 [==============================] - 0s 7ms/step - loss: 10.1720 - mae: 10.1720\n",
            "Epoch 32/100\n",
            "1/1 [==============================] - 0s 6ms/step - loss: 10.1395 - mae: 10.1395\n",
            "Epoch 33/100\n",
            "1/1 [==============================] - 0s 6ms/step - loss: 10.1070 - mae: 10.1070\n",
            "Epoch 34/100\n",
            "1/1 [==============================] - 0s 6ms/step - loss: 10.0745 - mae: 10.0745\n",
            "Epoch 35/100\n",
            "1/1 [==============================] - 0s 6ms/step - loss: 10.0420 - mae: 10.0420\n",
            "Epoch 36/100\n",
            "1/1 [==============================] - 0s 6ms/step - loss: 10.0095 - mae: 10.0095\n",
            "Epoch 37/100\n",
            "1/1 [==============================] - 0s 6ms/step - loss: 9.9770 - mae: 9.9770\n",
            "Epoch 38/100\n",
            "1/1 [==============================] - 0s 6ms/step - loss: 9.9445 - mae: 9.9445\n",
            "Epoch 39/100\n",
            "1/1 [==============================] - 0s 6ms/step - loss: 9.9120 - mae: 9.9120\n",
            "Epoch 40/100\n",
            "1/1 [==============================] - 0s 6ms/step - loss: 9.8795 - mae: 9.8795\n",
            "Epoch 41/100\n",
            "1/1 [==============================] - 0s 6ms/step - loss: 9.8470 - mae: 9.8470\n",
            "Epoch 42/100\n",
            "1/1 [==============================] - 0s 7ms/step - loss: 9.8145 - mae: 9.8145\n",
            "Epoch 43/100\n",
            "1/1 [==============================] - 0s 6ms/step - loss: 9.7820 - mae: 9.7820\n",
            "Epoch 44/100\n",
            "1/1 [==============================] - 0s 5ms/step - loss: 9.7495 - mae: 9.7495\n",
            "Epoch 45/100\n",
            "1/1 [==============================] - 0s 5ms/step - loss: 9.7170 - mae: 9.7170\n",
            "Epoch 46/100\n",
            "1/1 [==============================] - 0s 6ms/step - loss: 9.6845 - mae: 9.6845\n",
            "Epoch 47/100\n",
            "1/1 [==============================] - 0s 6ms/step - loss: 9.6520 - mae: 9.6520\n",
            "Epoch 48/100\n",
            "1/1 [==============================] - 0s 6ms/step - loss: 9.6195 - mae: 9.6195\n",
            "Epoch 49/100\n",
            "1/1 [==============================] - 0s 6ms/step - loss: 9.5870 - mae: 9.5870\n",
            "Epoch 50/100\n",
            "1/1 [==============================] - 0s 6ms/step - loss: 9.5545 - mae: 9.5545\n",
            "Epoch 51/100\n",
            "1/1 [==============================] - 0s 5ms/step - loss: 9.5220 - mae: 9.5220\n",
            "Epoch 52/100\n",
            "1/1 [==============================] - 0s 5ms/step - loss: 9.4895 - mae: 9.4895\n",
            "Epoch 53/100\n",
            "1/1 [==============================] - 0s 7ms/step - loss: 9.4570 - mae: 9.4570\n",
            "Epoch 54/100\n",
            "1/1 [==============================] - 0s 6ms/step - loss: 9.4245 - mae: 9.4245\n",
            "Epoch 55/100\n",
            "1/1 [==============================] - 0s 6ms/step - loss: 9.3920 - mae: 9.3920\n",
            "Epoch 56/100\n",
            "1/1 [==============================] - 0s 5ms/step - loss: 9.3595 - mae: 9.3595\n",
            "Epoch 57/100\n",
            "1/1 [==============================] - 0s 6ms/step - loss: 9.3270 - mae: 9.3270\n",
            "Epoch 58/100\n",
            "1/1 [==============================] - 0s 5ms/step - loss: 9.2945 - mae: 9.2945\n",
            "Epoch 59/100\n",
            "1/1 [==============================] - 0s 5ms/step - loss: 9.2620 - mae: 9.2620\n",
            "Epoch 60/100\n",
            "1/1 [==============================] - 0s 5ms/step - loss: 9.2295 - mae: 9.2295\n",
            "Epoch 61/100\n",
            "1/1 [==============================] - 0s 6ms/step - loss: 9.1970 - mae: 9.1970\n",
            "Epoch 62/100\n",
            "1/1 [==============================] - 0s 6ms/step - loss: 9.1645 - mae: 9.1645\n",
            "Epoch 63/100\n",
            "1/1 [==============================] - 0s 6ms/step - loss: 9.1320 - mae: 9.1320\n",
            "Epoch 64/100\n",
            "1/1 [==============================] - 0s 6ms/step - loss: 9.0995 - mae: 9.0995\n",
            "Epoch 65/100\n",
            "1/1 [==============================] - 0s 6ms/step - loss: 9.0670 - mae: 9.0670\n",
            "Epoch 66/100\n",
            "1/1 [==============================] - 0s 5ms/step - loss: 9.0345 - mae: 9.0345\n",
            "Epoch 67/100\n",
            "1/1 [==============================] - 0s 6ms/step - loss: 9.0020 - mae: 9.0020\n",
            "Epoch 68/100\n",
            "1/1 [==============================] - 0s 5ms/step - loss: 8.9695 - mae: 8.9695\n",
            "Epoch 69/100\n",
            "1/1 [==============================] - 0s 6ms/step - loss: 8.9370 - mae: 8.9370\n",
            "Epoch 70/100\n",
            "1/1 [==============================] - 0s 6ms/step - loss: 8.9045 - mae: 8.9045\n",
            "Epoch 71/100\n",
            "1/1 [==============================] - 0s 5ms/step - loss: 8.8720 - mae: 8.8720\n",
            "Epoch 72/100\n",
            "1/1 [==============================] - 0s 4ms/step - loss: 8.8395 - mae: 8.8395\n",
            "Epoch 73/100\n",
            "1/1 [==============================] - 0s 4ms/step - loss: 8.8070 - mae: 8.8070\n",
            "Epoch 74/100\n",
            "1/1 [==============================] - 0s 4ms/step - loss: 8.7745 - mae: 8.7745\n",
            "Epoch 75/100\n",
            "1/1 [==============================] - 0s 4ms/step - loss: 8.7420 - mae: 8.7420\n",
            "Epoch 76/100\n",
            "1/1 [==============================] - 0s 4ms/step - loss: 8.7095 - mae: 8.7095\n",
            "Epoch 77/100\n",
            "1/1 [==============================] - 0s 4ms/step - loss: 8.6770 - mae: 8.6770\n",
            "Epoch 78/100\n",
            "1/1 [==============================] - 0s 6ms/step - loss: 8.6445 - mae: 8.6445\n",
            "Epoch 79/100\n",
            "1/1 [==============================] - 0s 4ms/step - loss: 8.6120 - mae: 8.6120\n",
            "Epoch 80/100\n",
            "1/1 [==============================] - 0s 4ms/step - loss: 8.5795 - mae: 8.5795\n",
            "Epoch 81/100\n",
            "1/1 [==============================] - 0s 4ms/step - loss: 8.5470 - mae: 8.5470\n",
            "Epoch 82/100\n",
            "1/1 [==============================] - 0s 4ms/step - loss: 8.5145 - mae: 8.5145\n",
            "Epoch 83/100\n",
            "1/1 [==============================] - 0s 4ms/step - loss: 8.4820 - mae: 8.4820\n",
            "Epoch 84/100\n",
            "1/1 [==============================] - 0s 6ms/step - loss: 8.4495 - mae: 8.4495\n",
            "Epoch 85/100\n",
            "1/1 [==============================] - 0s 5ms/step - loss: 8.4170 - mae: 8.4170\n",
            "Epoch 86/100\n",
            "1/1 [==============================] - 0s 6ms/step - loss: 8.3845 - mae: 8.3845\n",
            "Epoch 87/100\n",
            "1/1 [==============================] - 0s 4ms/step - loss: 8.3520 - mae: 8.3520\n",
            "Epoch 88/100\n",
            "1/1 [==============================] - 0s 3ms/step - loss: 8.3195 - mae: 8.3195\n",
            "Epoch 89/100\n",
            "1/1 [==============================] - 0s 4ms/step - loss: 8.2870 - mae: 8.2870\n",
            "Epoch 90/100\n",
            "1/1 [==============================] - 0s 5ms/step - loss: 8.2545 - mae: 8.2545\n",
            "Epoch 91/100\n",
            "1/1 [==============================] - 0s 4ms/step - loss: 8.2220 - mae: 8.2220\n",
            "Epoch 92/100\n",
            "1/1 [==============================] - 0s 6ms/step - loss: 8.1895 - mae: 8.1895\n",
            "Epoch 93/100\n",
            "1/1 [==============================] - 0s 5ms/step - loss: 8.1570 - mae: 8.1570\n",
            "Epoch 94/100\n",
            "1/1 [==============================] - 0s 10ms/step - loss: 8.1245 - mae: 8.1245\n",
            "Epoch 95/100\n",
            "1/1 [==============================] - 0s 4ms/step - loss: 8.0920 - mae: 8.0920\n",
            "Epoch 96/100\n",
            "1/1 [==============================] - 0s 5ms/step - loss: 8.0595 - mae: 8.0595\n",
            "Epoch 97/100\n",
            "1/1 [==============================] - 0s 6ms/step - loss: 8.0270 - mae: 8.0270\n",
            "Epoch 98/100\n",
            "1/1 [==============================] - 0s 4ms/step - loss: 7.9945 - mae: 7.9945\n",
            "Epoch 99/100\n",
            "1/1 [==============================] - 0s 4ms/step - loss: 7.9620 - mae: 7.9620\n",
            "Epoch 100/100\n",
            "1/1 [==============================] - 0s 4ms/step - loss: 7.9295 - mae: 7.9295\n"
          ]
        },
        {
          "output_type": "execute_result",
          "data": {
            "text/plain": [
              "<keras.callbacks.History at 0x7fd35cefb220>"
            ]
          },
          "metadata": {},
          "execution_count": 15
        }
      ]
    },
    {
      "cell_type": "code",
      "source": [
        "model.predict([28])"
      ],
      "metadata": {
        "colab": {
          "base_uri": "https://localhost:8080/"
        },
        "id": "WPzJrIJjS7tK",
        "outputId": "6a4f0dd5-269b-4f1f-e1cb-c2a40ac5863e"
      },
      "execution_count": null,
      "outputs": [
        {
          "output_type": "stream",
          "name": "stdout",
          "text": [
            "1/1 [==============================] - 0s 74ms/step\n"
          ]
        },
        {
          "output_type": "execute_result",
          "data": {
            "text/plain": [
              "array([[49.590195]], dtype=float32)"
            ]
          },
          "metadata": {},
          "execution_count": 16
        }
      ]
    },
    {
      "cell_type": "code",
      "source": [
        "from keras.layers.attention.multi_head_attention import activation\n",
        "#altering while creation\n",
        "\n",
        "model=tf.keras.Sequential([\n",
        "    tf.keras.layers.Dense(100,activation='relu'),\n",
        "    tf.keras.layers.Dense(1)\n",
        "])\n",
        "model.compile(\n",
        "    loss=tf.keras.losses.mae,\n",
        "    optimizer=tf.keras.optimizers.SGD(),\n",
        "    metrics=['mae']\n",
        ")\n",
        "\n",
        "model.fit(tf.expand_dims(X,axis=-1),y,epochs=100)"
      ],
      "metadata": {
        "colab": {
          "base_uri": "https://localhost:8080/"
        },
        "id": "jrv7_a0yVgKS",
        "outputId": "fd8373c8-a76c-4df5-aead-c1a0efb3572b"
      },
      "execution_count": null,
      "outputs": [
        {
          "output_type": "stream",
          "name": "stdout",
          "text": [
            "Epoch 1/100\n",
            "1/1 [==============================] - 0s 287ms/step - loss: 11.0347 - mae: 11.0347\n",
            "Epoch 2/100\n",
            "1/1 [==============================] - 0s 7ms/step - loss: 10.6497 - mae: 10.6497\n",
            "Epoch 3/100\n",
            "1/1 [==============================] - 0s 9ms/step - loss: 10.2867 - mae: 10.2867\n",
            "Epoch 4/100\n",
            "1/1 [==============================] - 0s 8ms/step - loss: 10.0192 - mae: 10.0192\n",
            "Epoch 5/100\n",
            "1/1 [==============================] - 0s 6ms/step - loss: 9.7520 - mae: 9.7520\n",
            "Epoch 6/100\n",
            "1/1 [==============================] - 0s 6ms/step - loss: 9.4818 - mae: 9.4818\n",
            "Epoch 7/100\n",
            "1/1 [==============================] - 0s 6ms/step - loss: 9.2137 - mae: 9.2137\n",
            "Epoch 8/100\n",
            "1/1 [==============================] - 0s 6ms/step - loss: 8.9317 - mae: 8.9317\n",
            "Epoch 9/100\n",
            "1/1 [==============================] - 0s 6ms/step - loss: 8.6456 - mae: 8.6456\n",
            "Epoch 10/100\n",
            "1/1 [==============================] - 0s 6ms/step - loss: 8.3502 - mae: 8.3502\n",
            "Epoch 11/100\n",
            "1/1 [==============================] - 0s 6ms/step - loss: 8.0447 - mae: 8.0447\n",
            "Epoch 12/100\n",
            "1/1 [==============================] - 0s 6ms/step - loss: 7.7329 - mae: 7.7329\n",
            "Epoch 13/100\n",
            "1/1 [==============================] - 0s 5ms/step - loss: 7.4091 - mae: 7.4091\n",
            "Epoch 14/100\n",
            "1/1 [==============================] - 0s 8ms/step - loss: 7.0706 - mae: 7.0706\n",
            "Epoch 15/100\n",
            "1/1 [==============================] - 0s 6ms/step - loss: 6.7143 - mae: 6.7143\n",
            "Epoch 16/100\n",
            "1/1 [==============================] - 0s 6ms/step - loss: 6.3385 - mae: 6.3385\n",
            "Epoch 17/100\n",
            "1/1 [==============================] - 0s 6ms/step - loss: 5.9434 - mae: 5.9434\n",
            "Epoch 18/100\n",
            "1/1 [==============================] - 0s 6ms/step - loss: 5.5281 - mae: 5.5281\n",
            "Epoch 19/100\n",
            "1/1 [==============================] - 0s 6ms/step - loss: 5.0918 - mae: 5.0918\n",
            "Epoch 20/100\n",
            "1/1 [==============================] - 0s 6ms/step - loss: 4.6273 - mae: 4.6273\n",
            "Epoch 21/100\n",
            "1/1 [==============================] - 0s 6ms/step - loss: 4.1320 - mae: 4.1320\n",
            "Epoch 22/100\n",
            "1/1 [==============================] - 0s 6ms/step - loss: 3.7646 - mae: 3.7646\n",
            "Epoch 23/100\n",
            "1/1 [==============================] - 0s 6ms/step - loss: 3.7576 - mae: 3.7576\n",
            "Epoch 24/100\n",
            "1/1 [==============================] - 0s 6ms/step - loss: 3.7505 - mae: 3.7505\n",
            "Epoch 25/100\n",
            "1/1 [==============================] - 0s 6ms/step - loss: 3.7484 - mae: 3.7484\n",
            "Epoch 26/100\n",
            "1/1 [==============================] - 0s 6ms/step - loss: 3.7829 - mae: 3.7829\n",
            "Epoch 27/100\n",
            "1/1 [==============================] - 0s 6ms/step - loss: 3.7879 - mae: 3.7879\n",
            "Epoch 28/100\n",
            "1/1 [==============================] - 0s 6ms/step - loss: 3.7805 - mae: 3.7805\n",
            "Epoch 29/100\n",
            "1/1 [==============================] - 0s 6ms/step - loss: 3.7732 - mae: 3.7732\n",
            "Epoch 30/100\n",
            "1/1 [==============================] - 0s 6ms/step - loss: 3.7660 - mae: 3.7660\n",
            "Epoch 31/100\n",
            "1/1 [==============================] - 0s 6ms/step - loss: 3.7588 - mae: 3.7588\n",
            "Epoch 32/100\n",
            "1/1 [==============================] - 0s 9ms/step - loss: 3.7517 - mae: 3.7517\n",
            "Epoch 33/100\n",
            "1/1 [==============================] - 0s 6ms/step - loss: 3.7446 - mae: 3.7446\n",
            "Epoch 34/100\n",
            "1/1 [==============================] - 0s 6ms/step - loss: 3.7375 - mae: 3.7375\n",
            "Epoch 35/100\n",
            "1/1 [==============================] - 0s 6ms/step - loss: 3.7305 - mae: 3.7305\n",
            "Epoch 36/100\n",
            "1/1 [==============================] - 0s 5ms/step - loss: 3.7235 - mae: 3.7235\n",
            "Epoch 37/100\n",
            "1/1 [==============================] - 0s 7ms/step - loss: 3.7165 - mae: 3.7165\n",
            "Epoch 38/100\n",
            "1/1 [==============================] - 0s 6ms/step - loss: 3.7133 - mae: 3.7133\n",
            "Epoch 39/100\n",
            "1/1 [==============================] - 0s 6ms/step - loss: 3.7526 - mae: 3.7526\n",
            "Epoch 40/100\n",
            "1/1 [==============================] - 0s 7ms/step - loss: 3.7454 - mae: 3.7454\n",
            "Epoch 41/100\n",
            "1/1 [==============================] - 0s 6ms/step - loss: 3.7382 - mae: 3.7382\n",
            "Epoch 42/100\n",
            "1/1 [==============================] - 0s 4ms/step - loss: 3.7310 - mae: 3.7310\n",
            "Epoch 43/100\n",
            "1/1 [==============================] - 0s 6ms/step - loss: 3.7316 - mae: 3.7316\n",
            "Epoch 44/100\n",
            "1/1 [==============================] - 0s 5ms/step - loss: 3.7254 - mae: 3.7254\n",
            "Epoch 45/100\n",
            "1/1 [==============================] - 0s 6ms/step - loss: 3.7180 - mae: 3.7180\n",
            "Epoch 46/100\n",
            "1/1 [==============================] - 0s 8ms/step - loss: 3.7107 - mae: 3.7107\n",
            "Epoch 47/100\n",
            "1/1 [==============================] - 0s 7ms/step - loss: 3.7037 - mae: 3.7037\n",
            "Epoch 48/100\n",
            "1/1 [==============================] - 0s 6ms/step - loss: 3.6968 - mae: 3.6968\n",
            "Epoch 49/100\n",
            "1/1 [==============================] - 0s 6ms/step - loss: 3.6898 - mae: 3.6898\n",
            "Epoch 50/100\n",
            "1/1 [==============================] - 0s 7ms/step - loss: 3.6829 - mae: 3.6829\n",
            "Epoch 51/100\n",
            "1/1 [==============================] - 0s 5ms/step - loss: 3.6895 - mae: 3.6895\n",
            "Epoch 52/100\n",
            "1/1 [==============================] - 0s 6ms/step - loss: 3.7186 - mae: 3.7186\n",
            "Epoch 53/100\n",
            "1/1 [==============================] - 0s 6ms/step - loss: 3.7114 - mae: 3.7114\n",
            "Epoch 54/100\n",
            "1/1 [==============================] - 0s 8ms/step - loss: 3.7043 - mae: 3.7043\n",
            "Epoch 55/100\n",
            "1/1 [==============================] - 0s 5ms/step - loss: 3.6973 - mae: 3.6973\n",
            "Epoch 56/100\n",
            "1/1 [==============================] - 0s 6ms/step - loss: 3.6902 - mae: 3.6902\n",
            "Epoch 57/100\n",
            "1/1 [==============================] - 0s 5ms/step - loss: 3.6832 - mae: 3.6832\n",
            "Epoch 58/100\n",
            "1/1 [==============================] - 0s 7ms/step - loss: 3.6762 - mae: 3.6762\n",
            "Epoch 59/100\n",
            "1/1 [==============================] - 0s 6ms/step - loss: 3.6692 - mae: 3.6692\n",
            "Epoch 60/100\n",
            "1/1 [==============================] - 0s 6ms/step - loss: 3.6660 - mae: 3.6660\n",
            "Epoch 61/100\n",
            "1/1 [==============================] - 0s 6ms/step - loss: 3.6641 - mae: 3.6641\n",
            "Epoch 62/100\n",
            "1/1 [==============================] - 0s 5ms/step - loss: 3.6568 - mae: 3.6568\n",
            "Epoch 63/100\n",
            "1/1 [==============================] - 0s 6ms/step - loss: 3.6497 - mae: 3.6497\n",
            "Epoch 64/100\n",
            "1/1 [==============================] - 0s 6ms/step - loss: 3.6612 - mae: 3.6612\n",
            "Epoch 65/100\n",
            "1/1 [==============================] - 0s 6ms/step - loss: 3.6850 - mae: 3.6850\n",
            "Epoch 66/100\n",
            "1/1 [==============================] - 0s 5ms/step - loss: 3.6779 - mae: 3.6779\n",
            "Epoch 67/100\n",
            "1/1 [==============================] - 0s 5ms/step - loss: 3.6708 - mae: 3.6708\n",
            "Epoch 68/100\n",
            "1/1 [==============================] - 0s 6ms/step - loss: 3.6638 - mae: 3.6638\n",
            "Epoch 69/100\n",
            "1/1 [==============================] - 0s 5ms/step - loss: 3.6568 - mae: 3.6568\n",
            "Epoch 70/100\n",
            "1/1 [==============================] - 0s 7ms/step - loss: 3.6498 - mae: 3.6498\n",
            "Epoch 71/100\n",
            "1/1 [==============================] - 0s 5ms/step - loss: 3.6429 - mae: 3.6429\n",
            "Epoch 72/100\n",
            "1/1 [==============================] - 0s 7ms/step - loss: 3.6360 - mae: 3.6360\n",
            "Epoch 73/100\n",
            "1/1 [==============================] - 0s 5ms/step - loss: 3.6291 - mae: 3.6291\n",
            "Epoch 74/100\n",
            "1/1 [==============================] - 0s 5ms/step - loss: 3.6223 - mae: 3.6223\n",
            "Epoch 75/100\n",
            "1/1 [==============================] - 0s 5ms/step - loss: 3.6155 - mae: 3.6155\n",
            "Epoch 76/100\n",
            "1/1 [==============================] - 0s 5ms/step - loss: 3.6087 - mae: 3.6087\n",
            "Epoch 77/100\n",
            "1/1 [==============================] - 0s 7ms/step - loss: 3.6219 - mae: 3.6219\n",
            "Epoch 78/100\n",
            "1/1 [==============================] - 0s 5ms/step - loss: 3.6497 - mae: 3.6497\n",
            "Epoch 79/100\n",
            "1/1 [==============================] - 0s 5ms/step - loss: 3.6453 - mae: 3.6453\n",
            "Epoch 80/100\n",
            "1/1 [==============================] - 0s 5ms/step - loss: 3.6380 - mae: 3.6380\n",
            "Epoch 81/100\n",
            "1/1 [==============================] - 0s 5ms/step - loss: 3.6307 - mae: 3.6307\n",
            "Epoch 82/100\n",
            "1/1 [==============================] - 0s 5ms/step - loss: 3.6237 - mae: 3.6237\n",
            "Epoch 83/100\n",
            "1/1 [==============================] - 0s 5ms/step - loss: 3.6168 - mae: 3.6168\n",
            "Epoch 84/100\n",
            "1/1 [==============================] - 0s 5ms/step - loss: 3.6099 - mae: 3.6099\n",
            "Epoch 85/100\n",
            "1/1 [==============================] - 0s 5ms/step - loss: 3.6031 - mae: 3.6031\n",
            "Epoch 86/100\n",
            "1/1 [==============================] - 0s 6ms/step - loss: 3.5962 - mae: 3.5962\n",
            "Epoch 87/100\n",
            "1/1 [==============================] - 0s 6ms/step - loss: 3.5895 - mae: 3.5895\n",
            "Epoch 88/100\n",
            "1/1 [==============================] - 0s 5ms/step - loss: 3.5827 - mae: 3.5827\n",
            "Epoch 89/100\n",
            "1/1 [==============================] - 0s 5ms/step - loss: 3.5760 - mae: 3.5760\n",
            "Epoch 90/100\n",
            "1/1 [==============================] - 0s 5ms/step - loss: 3.5850 - mae: 3.5850\n",
            "Epoch 91/100\n",
            "1/1 [==============================] - 0s 4ms/step - loss: 3.6107 - mae: 3.6107\n",
            "Epoch 92/100\n",
            "1/1 [==============================] - 0s 4ms/step - loss: 3.6038 - mae: 3.6038\n",
            "Epoch 93/100\n",
            "1/1 [==============================] - 0s 4ms/step - loss: 3.5968 - mae: 3.5968\n",
            "Epoch 94/100\n",
            "1/1 [==============================] - 0s 6ms/step - loss: 3.5899 - mae: 3.5899\n",
            "Epoch 95/100\n",
            "1/1 [==============================] - 0s 6ms/step - loss: 3.5835 - mae: 3.5835\n",
            "Epoch 96/100\n",
            "1/1 [==============================] - 0s 5ms/step - loss: 3.5847 - mae: 3.5847\n",
            "Epoch 97/100\n",
            "1/1 [==============================] - 0s 4ms/step - loss: 3.5776 - mae: 3.5776\n",
            "Epoch 98/100\n",
            "1/1 [==============================] - 0s 5ms/step - loss: 3.5705 - mae: 3.5705\n",
            "Epoch 99/100\n",
            "1/1 [==============================] - 0s 8ms/step - loss: 3.5636 - mae: 3.5636\n",
            "Epoch 100/100\n",
            "1/1 [==============================] - 0s 4ms/step - loss: 3.5569 - mae: 3.5569\n"
          ]
        },
        {
          "output_type": "execute_result",
          "data": {
            "text/plain": [
              "<keras.callbacks.History at 0x7fd35cdf7340>"
            ]
          },
          "metadata": {},
          "execution_count": 17
        }
      ]
    },
    {
      "cell_type": "code",
      "source": [
        "model.predict([17])"
      ],
      "metadata": {
        "colab": {
          "base_uri": "https://localhost:8080/"
        },
        "id": "f0006nwVWVhJ",
        "outputId": "cb945fb5-0446-4ada-ad63-fabe8f1be882"
      },
      "execution_count": null,
      "outputs": [
        {
          "output_type": "stream",
          "name": "stdout",
          "text": [
            "1/1 [==============================] - 0s 53ms/step\n"
          ]
        },
        {
          "output_type": "execute_result",
          "data": {
            "text/plain": [
              "array([[31.158009]], dtype=float32)"
            ]
          },
          "metadata": {},
          "execution_count": 18
        }
      ]
    },
    {
      "cell_type": "code",
      "source": [
        "from keras.layers.attention.multi_head_attention import activation\n",
        "#altering while creation\n",
        "\n",
        "model=tf.keras.Sequential([\n",
        "    tf.keras.layers.Dense(100,activation='relu'),\n",
        "    tf.keras.layers.Dense(1)\n",
        "])\n",
        "model.compile(\n",
        "    loss=tf.keras.losses.mae,\n",
        "    optimizer=tf.keras.optimizers.Adam(learning_rate=0.0001),\n",
        "    metrics=['mae']\n",
        ")\n",
        "\n",
        "model.fit(tf.expand_dims(X,axis=-1),y,epochs=100)"
      ],
      "metadata": {
        "colab": {
          "base_uri": "https://localhost:8080/"
        },
        "id": "rVrLhLupb8C7",
        "outputId": "ddf33fe5-d2d9-47db-d3d5-99ae122cd06d"
      },
      "execution_count": null,
      "outputs": [
        {
          "output_type": "stream",
          "name": "stdout",
          "text": [
            "Epoch 1/100\n",
            "1/1 [==============================] - 0s 392ms/step - loss: 10.6675 - mae: 10.6675\n",
            "Epoch 2/100\n",
            "1/1 [==============================] - 0s 7ms/step - loss: 10.6602 - mae: 10.6602\n",
            "Epoch 3/100\n",
            "1/1 [==============================] - 0s 6ms/step - loss: 10.6529 - mae: 10.6529\n",
            "Epoch 4/100\n",
            "1/1 [==============================] - 0s 6ms/step - loss: 10.6456 - mae: 10.6456\n",
            "Epoch 5/100\n",
            "1/1 [==============================] - 0s 6ms/step - loss: 10.6383 - mae: 10.6383\n",
            "Epoch 6/100\n",
            "1/1 [==============================] - 0s 6ms/step - loss: 10.6310 - mae: 10.6310\n",
            "Epoch 7/100\n",
            "1/1 [==============================] - 0s 6ms/step - loss: 10.6236 - mae: 10.6236\n",
            "Epoch 8/100\n",
            "1/1 [==============================] - 0s 7ms/step - loss: 10.6163 - mae: 10.6163\n",
            "Epoch 9/100\n",
            "1/1 [==============================] - 0s 6ms/step - loss: 10.6090 - mae: 10.6090\n",
            "Epoch 10/100\n",
            "1/1 [==============================] - 0s 6ms/step - loss: 10.6017 - mae: 10.6017\n",
            "Epoch 11/100\n",
            "1/1 [==============================] - 0s 6ms/step - loss: 10.5944 - mae: 10.5944\n",
            "Epoch 12/100\n",
            "1/1 [==============================] - 0s 6ms/step - loss: 10.5871 - mae: 10.5871\n",
            "Epoch 13/100\n",
            "1/1 [==============================] - 0s 6ms/step - loss: 10.5798 - mae: 10.5798\n",
            "Epoch 14/100\n",
            "1/1 [==============================] - 0s 8ms/step - loss: 10.5724 - mae: 10.5724\n",
            "Epoch 15/100\n",
            "1/1 [==============================] - 0s 6ms/step - loss: 10.5651 - mae: 10.5651\n",
            "Epoch 16/100\n",
            "1/1 [==============================] - 0s 6ms/step - loss: 10.5578 - mae: 10.5578\n",
            "Epoch 17/100\n",
            "1/1 [==============================] - 0s 6ms/step - loss: 10.5505 - mae: 10.5505\n",
            "Epoch 18/100\n",
            "1/1 [==============================] - 0s 6ms/step - loss: 10.5431 - mae: 10.5431\n",
            "Epoch 19/100\n",
            "1/1 [==============================] - 0s 7ms/step - loss: 10.5358 - mae: 10.5358\n",
            "Epoch 20/100\n",
            "1/1 [==============================] - 0s 6ms/step - loss: 10.5285 - mae: 10.5285\n",
            "Epoch 21/100\n",
            "1/1 [==============================] - 0s 6ms/step - loss: 10.5211 - mae: 10.5211\n",
            "Epoch 22/100\n",
            "1/1 [==============================] - 0s 6ms/step - loss: 10.5138 - mae: 10.5138\n",
            "Epoch 23/100\n",
            "1/1 [==============================] - 0s 6ms/step - loss: 10.5065 - mae: 10.5065\n",
            "Epoch 24/100\n",
            "1/1 [==============================] - 0s 6ms/step - loss: 10.4991 - mae: 10.4991\n",
            "Epoch 25/100\n",
            "1/1 [==============================] - 0s 8ms/step - loss: 10.4918 - mae: 10.4918\n",
            "Epoch 26/100\n",
            "1/1 [==============================] - 0s 8ms/step - loss: 10.4845 - mae: 10.4845\n",
            "Epoch 27/100\n",
            "1/1 [==============================] - 0s 6ms/step - loss: 10.4771 - mae: 10.4771\n",
            "Epoch 28/100\n",
            "1/1 [==============================] - 0s 6ms/step - loss: 10.4698 - mae: 10.4698\n",
            "Epoch 29/100\n",
            "1/1 [==============================] - 0s 6ms/step - loss: 10.4624 - mae: 10.4624\n",
            "Epoch 30/100\n",
            "1/1 [==============================] - 0s 6ms/step - loss: 10.4551 - mae: 10.4551\n",
            "Epoch 31/100\n",
            "1/1 [==============================] - 0s 6ms/step - loss: 10.4477 - mae: 10.4477\n",
            "Epoch 32/100\n",
            "1/1 [==============================] - 0s 6ms/step - loss: 10.4404 - mae: 10.4404\n",
            "Epoch 33/100\n",
            "1/1 [==============================] - 0s 6ms/step - loss: 10.4330 - mae: 10.4330\n",
            "Epoch 34/100\n",
            "1/1 [==============================] - 0s 5ms/step - loss: 10.4257 - mae: 10.4257\n",
            "Epoch 35/100\n",
            "1/1 [==============================] - 0s 7ms/step - loss: 10.4183 - mae: 10.4183\n",
            "Epoch 36/100\n",
            "1/1 [==============================] - 0s 7ms/step - loss: 10.4110 - mae: 10.4110\n",
            "Epoch 37/100\n",
            "1/1 [==============================] - 0s 6ms/step - loss: 10.4036 - mae: 10.4036\n",
            "Epoch 38/100\n",
            "1/1 [==============================] - 0s 6ms/step - loss: 10.3962 - mae: 10.3962\n",
            "Epoch 39/100\n",
            "1/1 [==============================] - 0s 7ms/step - loss: 10.3889 - mae: 10.3889\n",
            "Epoch 40/100\n",
            "1/1 [==============================] - 0s 7ms/step - loss: 10.3815 - mae: 10.3815\n",
            "Epoch 41/100\n",
            "1/1 [==============================] - 0s 6ms/step - loss: 10.3741 - mae: 10.3741\n",
            "Epoch 42/100\n",
            "1/1 [==============================] - 0s 6ms/step - loss: 10.3668 - mae: 10.3668\n",
            "Epoch 43/100\n",
            "1/1 [==============================] - 0s 6ms/step - loss: 10.3594 - mae: 10.3594\n",
            "Epoch 44/100\n",
            "1/1 [==============================] - 0s 6ms/step - loss: 10.3520 - mae: 10.3520\n",
            "Epoch 45/100\n",
            "1/1 [==============================] - 0s 7ms/step - loss: 10.3446 - mae: 10.3446\n",
            "Epoch 46/100\n",
            "1/1 [==============================] - 0s 6ms/step - loss: 10.3373 - mae: 10.3373\n",
            "Epoch 47/100\n",
            "1/1 [==============================] - 0s 6ms/step - loss: 10.3299 - mae: 10.3299\n",
            "Epoch 48/100\n",
            "1/1 [==============================] - 0s 6ms/step - loss: 10.3225 - mae: 10.3225\n",
            "Epoch 49/100\n",
            "1/1 [==============================] - 0s 7ms/step - loss: 10.3151 - mae: 10.3151\n",
            "Epoch 50/100\n",
            "1/1 [==============================] - 0s 7ms/step - loss: 10.3077 - mae: 10.3077\n",
            "Epoch 51/100\n",
            "1/1 [==============================] - 0s 6ms/step - loss: 10.3003 - mae: 10.3003\n",
            "Epoch 52/100\n",
            "1/1 [==============================] - 0s 5ms/step - loss: 10.2929 - mae: 10.2929\n",
            "Epoch 53/100\n",
            "1/1 [==============================] - 0s 7ms/step - loss: 10.2855 - mae: 10.2855\n",
            "Epoch 54/100\n",
            "1/1 [==============================] - 0s 6ms/step - loss: 10.2782 - mae: 10.2782\n",
            "Epoch 55/100\n",
            "1/1 [==============================] - 0s 7ms/step - loss: 10.2708 - mae: 10.2708\n",
            "Epoch 56/100\n",
            "1/1 [==============================] - 0s 6ms/step - loss: 10.2634 - mae: 10.2634\n",
            "Epoch 57/100\n",
            "1/1 [==============================] - 0s 6ms/step - loss: 10.2559 - mae: 10.2559\n",
            "Epoch 58/100\n",
            "1/1 [==============================] - 0s 6ms/step - loss: 10.2485 - mae: 10.2485\n",
            "Epoch 59/100\n",
            "1/1 [==============================] - 0s 10ms/step - loss: 10.2411 - mae: 10.2411\n",
            "Epoch 60/100\n",
            "1/1 [==============================] - 0s 7ms/step - loss: 10.2337 - mae: 10.2337\n",
            "Epoch 61/100\n",
            "1/1 [==============================] - 0s 6ms/step - loss: 10.2263 - mae: 10.2263\n",
            "Epoch 62/100\n",
            "1/1 [==============================] - 0s 6ms/step - loss: 10.2189 - mae: 10.2189\n",
            "Epoch 63/100\n",
            "1/1 [==============================] - 0s 6ms/step - loss: 10.2115 - mae: 10.2115\n",
            "Epoch 64/100\n",
            "1/1 [==============================] - 0s 6ms/step - loss: 10.2040 - mae: 10.2040\n",
            "Epoch 65/100\n",
            "1/1 [==============================] - 0s 6ms/step - loss: 10.1966 - mae: 10.1966\n",
            "Epoch 66/100\n",
            "1/1 [==============================] - 0s 6ms/step - loss: 10.1892 - mae: 10.1892\n",
            "Epoch 67/100\n",
            "1/1 [==============================] - 0s 6ms/step - loss: 10.1818 - mae: 10.1818\n",
            "Epoch 68/100\n",
            "1/1 [==============================] - 0s 6ms/step - loss: 10.1743 - mae: 10.1743\n",
            "Epoch 69/100\n",
            "1/1 [==============================] - 0s 6ms/step - loss: 10.1669 - mae: 10.1669\n",
            "Epoch 70/100\n",
            "1/1 [==============================] - 0s 7ms/step - loss: 10.1595 - mae: 10.1595\n",
            "Epoch 71/100\n",
            "1/1 [==============================] - 0s 6ms/step - loss: 10.1520 - mae: 10.1520\n",
            "Epoch 72/100\n",
            "1/1 [==============================] - 0s 6ms/step - loss: 10.1446 - mae: 10.1446\n",
            "Epoch 73/100\n",
            "1/1 [==============================] - 0s 6ms/step - loss: 10.1371 - mae: 10.1371\n",
            "Epoch 74/100\n",
            "1/1 [==============================] - 0s 6ms/step - loss: 10.1297 - mae: 10.1297\n",
            "Epoch 75/100\n",
            "1/1 [==============================] - 0s 7ms/step - loss: 10.1222 - mae: 10.1222\n",
            "Epoch 76/100\n",
            "1/1 [==============================] - 0s 7ms/step - loss: 10.1148 - mae: 10.1148\n",
            "Epoch 77/100\n",
            "1/1 [==============================] - 0s 7ms/step - loss: 10.1073 - mae: 10.1073\n",
            "Epoch 78/100\n",
            "1/1 [==============================] - 0s 6ms/step - loss: 10.0999 - mae: 10.0999\n",
            "Epoch 79/100\n",
            "1/1 [==============================] - 0s 6ms/step - loss: 10.0924 - mae: 10.0924\n",
            "Epoch 80/100\n",
            "1/1 [==============================] - 0s 6ms/step - loss: 10.0850 - mae: 10.0850\n",
            "Epoch 81/100\n",
            "1/1 [==============================] - 0s 6ms/step - loss: 10.0775 - mae: 10.0775\n",
            "Epoch 82/100\n",
            "1/1 [==============================] - 0s 4ms/step - loss: 10.0700 - mae: 10.0700\n",
            "Epoch 83/100\n",
            "1/1 [==============================] - 0s 8ms/step - loss: 10.0625 - mae: 10.0625\n",
            "Epoch 84/100\n",
            "1/1 [==============================] - 0s 5ms/step - loss: 10.0551 - mae: 10.0551\n",
            "Epoch 85/100\n",
            "1/1 [==============================] - 0s 6ms/step - loss: 10.0476 - mae: 10.0476\n",
            "Epoch 86/100\n",
            "1/1 [==============================] - 0s 7ms/step - loss: 10.0401 - mae: 10.0401\n",
            "Epoch 87/100\n",
            "1/1 [==============================] - 0s 7ms/step - loss: 10.0326 - mae: 10.0326\n",
            "Epoch 88/100\n",
            "1/1 [==============================] - 0s 7ms/step - loss: 10.0252 - mae: 10.0252\n",
            "Epoch 89/100\n",
            "1/1 [==============================] - 0s 5ms/step - loss: 10.0177 - mae: 10.0177\n",
            "Epoch 90/100\n",
            "1/1 [==============================] - 0s 10ms/step - loss: 10.0102 - mae: 10.0102\n",
            "Epoch 91/100\n",
            "1/1 [==============================] - 0s 6ms/step - loss: 10.0027 - mae: 10.0027\n",
            "Epoch 92/100\n",
            "1/1 [==============================] - 0s 5ms/step - loss: 9.9952 - mae: 9.9952\n",
            "Epoch 93/100\n",
            "1/1 [==============================] - 0s 5ms/step - loss: 9.9878 - mae: 9.9878\n",
            "Epoch 94/100\n",
            "1/1 [==============================] - 0s 6ms/step - loss: 9.9803 - mae: 9.9803\n",
            "Epoch 95/100\n",
            "1/1 [==============================] - 0s 4ms/step - loss: 9.9728 - mae: 9.9728\n",
            "Epoch 96/100\n",
            "1/1 [==============================] - 0s 7ms/step - loss: 9.9653 - mae: 9.9653\n",
            "Epoch 97/100\n",
            "1/1 [==============================] - 0s 6ms/step - loss: 9.9578 - mae: 9.9578\n",
            "Epoch 98/100\n",
            "1/1 [==============================] - 0s 6ms/step - loss: 9.9503 - mae: 9.9503\n",
            "Epoch 99/100\n",
            "1/1 [==============================] - 0s 6ms/step - loss: 9.9428 - mae: 9.9428\n",
            "Epoch 100/100\n",
            "1/1 [==============================] - 0s 5ms/step - loss: 9.9353 - mae: 9.9353\n"
          ]
        },
        {
          "output_type": "execute_result",
          "data": {
            "text/plain": [
              "<keras.callbacks.History at 0x7fd35ff084f0>"
            ]
          },
          "metadata": {},
          "execution_count": 19
        }
      ]
    },
    {
      "cell_type": "code",
      "source": [
        "model.predict([17])"
      ],
      "metadata": {
        "colab": {
          "base_uri": "https://localhost:8080/"
        },
        "id": "UpOVZrqXcDHv",
        "outputId": "63750068-d305-47dc-d23a-2e00d32ae679"
      },
      "execution_count": null,
      "outputs": [
        {
          "output_type": "stream",
          "name": "stdout",
          "text": [
            "1/1 [==============================] - 0s 48ms/step\n"
          ]
        },
        {
          "output_type": "execute_result",
          "data": {
            "text/plain": [
              "array([[3.475254]], dtype=float32)"
            ]
          },
          "metadata": {},
          "execution_count": 20
        }
      ]
    },
    {
      "cell_type": "markdown",
      "source": [
        "Evualate model\n",
        "build a model ->? fit it -> evaluate it ->tweak a model -> fit it -> evaluate it ....."
      ],
      "metadata": {
        "id": "kFI8cwRoca-S"
      }
    },
    {
      "cell_type": "markdown",
      "source": [
        "Visualition\n",
        "\n",
        "1. the data - what data are we working with? what does it look like?\n",
        "\n",
        "2. the model itself - what does our model look like\n",
        "\n",
        "3. the training of a model - how does a model perform while it learns\n",
        "\n",
        "4. the prediction of model - how to predict model line\n"
      ],
      "metadata": {
        "id": "VT0xrzgQclS2"
      }
    },
    {
      "cell_type": "code",
      "source": [
        "#make a bigger dataset\n",
        "\n",
        "X=tf.range(-100,100,4)"
      ],
      "metadata": {
        "id": "YG4cTHQsc_2o"
      },
      "execution_count": null,
      "outputs": []
    },
    {
      "cell_type": "code",
      "source": [
        "# make labels for data sert\n",
        "y=X+10\n",
        "y"
      ],
      "metadata": {
        "colab": {
          "base_uri": "https://localhost:8080/"
        },
        "id": "Z40GWzppdTl0",
        "outputId": "2029ef19-ae7f-4f31-d862-7f292513d523"
      },
      "execution_count": null,
      "outputs": [
        {
          "output_type": "execute_result",
          "data": {
            "text/plain": [
              "<tf.Tensor: shape=(50,), dtype=int32, numpy=\n",
              "array([-90, -86, -82, -78, -74, -70, -66, -62, -58, -54, -50, -46, -42,\n",
              "       -38, -34, -30, -26, -22, -18, -14, -10,  -6,  -2,   2,   6,  10,\n",
              "        14,  18,  22,  26,  30,  34,  38,  42,  46,  50,  54,  58,  62,\n",
              "        66,  70,  74,  78,  82,  86,  90,  94,  98, 102, 106], dtype=int32)>"
            ]
          },
          "metadata": {},
          "execution_count": 22
        }
      ]
    },
    {
      "cell_type": "code",
      "source": [
        "plt.plot(X,y)"
      ],
      "metadata": {
        "colab": {
          "base_uri": "https://localhost:8080/",
          "height": 447
        },
        "id": "lnMntnOPdbTx",
        "outputId": "e024531d-5943-4d84-f07d-42dbb82e32f7"
      },
      "execution_count": null,
      "outputs": [
        {
          "output_type": "execute_result",
          "data": {
            "text/plain": [
              "[<matplotlib.lines.Line2D at 0x7fd35cfdba30>]"
            ]
          },
          "metadata": {},
          "execution_count": 23
        },
        {
          "output_type": "display_data",
          "data": {
            "text/plain": [
              "<Figure size 640x480 with 1 Axes>"
            ],
            "image/png": "[encoded data removed]"
          },
          "metadata": {}
        }
      ]
    },
    {
      "cell_type": "markdown",
      "source": [
        "## 3 sets\n",
        "1. **training set** - model learns from this data\n",
        "2. **validation set** - model gets tuned on this data\n",
        "3. **test set** - model gets evaluated on this data\n",
        "\n"
      ],
      "metadata": {
        "id": "AH0DGkl1gn_4"
      }
    },
    {
      "cell_type": "code",
      "source": [
        "# check the length of how many samples we have\n",
        "len(X)"
      ],
      "metadata": {
        "colab": {
          "base_uri": "https://localhost:8080/"
        },
        "id": "4V9kGbGohT_9",
        "outputId": "d0cf7165-80b6-46b1-a5b8-7e640cad7773"
      },
      "execution_count": null,
      "outputs": [
        {
          "output_type": "execute_result",
          "data": {
            "text/plain": [
              "50"
            ]
          },
          "metadata": {},
          "execution_count": 24
        }
      ]
    },
    {
      "cell_type": "code",
      "source": [
        "# split the data into train and test\n",
        "X_train=X[:40] # first 40 samples, 80%\n",
        "X_test=X[40:] # remaining\n",
        "\n",
        "y_train=y[:40]\n",
        "y_test=y[40:]\n"
      ],
      "metadata": {
        "id": "fJcVEPSChdYz"
      },
      "execution_count": null,
      "outputs": []
    },
    {
      "cell_type": "markdown",
      "source": [
        "## visualize the data\n",
        "visualize again\n"
      ],
      "metadata": {
        "id": "FZgpyA2vi9Sr"
      }
    },
    {
      "cell_type": "code",
      "source": [
        "# how to build neural network for our data\n",
        "#1. create a model\n",
        "model=tf.keras.Sequential([\n",
        "    tf.keras.layers.Dense(1)\n",
        "])\n",
        "model.compile(\n",
        "    loss='mae',\n",
        "    optimizer=tf.keras.optimizers.SGD(),\n",
        "    metrics='mae'\n",
        ")\n",
        "#model.fit(X_train,y_train,epochs=100)"
      ],
      "metadata": {
        "id": "h-WYZNdcj0yD"
      },
      "execution_count": null,
      "outputs": []
    },
    {
      "cell_type": "markdown",
      "source": [
        "Visualize the summary"
      ],
      "metadata": {
        "id": "E4Rmf3Qxky_d"
      }
    },
    {
      "cell_type": "code",
      "source": [
        "model.summary()"
      ],
      "metadata": {
        "colab": {
          "base_uri": "https://localhost:8080/",
          "height": 321
        },
        "id": "xmlAK3WOk1qj",
        "outputId": "59b933ce-164e-4504-c161-9bc5b62aa0d8"
      },
      "execution_count": null,
      "outputs": [
        {
          "output_type": "error",
          "ename": "ValueError",
          "evalue": "ignored",
          "traceback": [
            "\u001b[0;31m---------------------------------------------------------------------------\u001b[0m",
            "\u001b[0;31mValueError\u001b[0m                                Traceback (most recent call last)",
            "\u001b[0;32m<ipython-input-27-5f15418b3570>\u001b[0m in \u001b[0;36m<cell line: 1>\u001b[0;34m()\u001b[0m\n\u001b[0;32m----> 1\u001b[0;31m \u001b[0mmodel\u001b[0m\u001b[0;34m.\u001b[0m\u001b[0msummary\u001b[0m\u001b[0;34m(\u001b[0m\u001b[0;34m)\u001b[0m\u001b[0;34m\u001b[0m\u001b[0;34m\u001b[0m\u001b[0m\n\u001b[0m",
            "\u001b[0;32m/usr/local/lib/python3.10/dist-packages/keras/engine/training.py\u001b[0m in \u001b[0;36msummary\u001b[0;34m(self, line_length, positions, print_fn, expand_nested, show_trainable, layer_range)\u001b[0m\n\u001b[1;32m   3227\u001b[0m         \"\"\"\n\u001b[1;32m   3228\u001b[0m         \u001b[0;32mif\u001b[0m \u001b[0;32mnot\u001b[0m \u001b[0mself\u001b[0m\u001b[0;34m.\u001b[0m\u001b[0mbuilt\u001b[0m\u001b[0;34m:\u001b[0m\u001b[0;34m\u001b[0m\u001b[0;34m\u001b[0m\u001b[0m\n\u001b[0;32m-> 3229\u001b[0;31m             raise ValueError(\n\u001b[0m\u001b[1;32m   3230\u001b[0m                 \u001b[0;34m\"This model has not yet been built. \"\u001b[0m\u001b[0;34m\u001b[0m\u001b[0;34m\u001b[0m\u001b[0m\n\u001b[1;32m   3231\u001b[0m                 \u001b[0;34m\"Build the model first by calling `build()` or by calling \"\u001b[0m\u001b[0;34m\u001b[0m\u001b[0;34m\u001b[0m\u001b[0m\n",
            "\u001b[0;31mValueError\u001b[0m: This model has not yet been built. Build the model first by calling `build()` or by calling the model on a batch of data."
          ]
        }
      ]
    },
    {
      "cell_type": "code",
      "source": [
        "#lets create a model which builds automatically by defining input shape\n",
        "# how to build neural network for our data\n",
        "#1. create a model\n",
        "model=tf.keras.Sequential([\n",
        "    tf.keras.layers.Dense(1,input_shape=[1])\n",
        "])\n",
        "model.compile(\n",
        "    loss='mae',\n",
        "    optimizer=tf.keras.optimizers.SGD(),\n",
        "    metrics='mae'\n",
        ")\n",
        "#model.fit(X_train,y_train,epochs=100)"
      ],
      "metadata": {
        "id": "6VqO2p6_lERq"
      },
      "execution_count": null,
      "outputs": []
    },
    {
      "cell_type": "code",
      "source": [
        "model.summary()"
      ],
      "metadata": {
        "id": "gGpDx0jllc27"
      },
      "execution_count": null,
      "outputs": []
    },
    {
      "cell_type": "markdown",
      "source": [
        "total params - total number of parametrers\n",
        "trainable param: patterns that model can update as it trains"
      ],
      "metadata": {
        "id": "5wbwKVOSluxZ"
      }
    },
    {
      "cell_type": "code",
      "source": [
        "model=tf.keras.Sequential([\n",
        "    tf.keras.layers.Dense(10,input_shape=[1])\n",
        "])\n",
        "model.compile(\n",
        "    loss='mae',\n",
        "    optimizer=tf.keras.optimizers.SGD(),\n",
        "    metrics='mae'\n",
        ")\n",
        "#model.fit(X_train,y_train,epochs=100)"
      ],
      "metadata": {
        "id": "lsFBp-yStEJD"
      },
      "execution_count": null,
      "outputs": []
    },
    {
      "cell_type": "code",
      "source": [
        "model.summary()"
      ],
      "metadata": {
        "id": "FYJHFqOutnN3"
      },
      "execution_count": null,
      "outputs": []
    },
    {
      "cell_type": "code",
      "source": [
        "model=tf.keras.Sequential([\n",
        "    tf.keras.layers.Dense(10,input_shape=[1],name='input_layer'),\n",
        "    tf.keras.layers.Dense(1,name='output_layer')\n",
        "])\n",
        "model.compile(\n",
        "    loss='mae',\n",
        "    optimizer=tf.keras.optimizers.SGD(),\n",
        "    metrics='mae'\n",
        ")\n",
        "#model.fit(X_train,y_train,epochs=50)"
      ],
      "metadata": {
        "id": "XjUyxPAgttJ2"
      },
      "execution_count": null,
      "outputs": []
    },
    {
      "cell_type": "code",
      "source": [
        "model.summary()"
      ],
      "metadata": {
        "id": "lD7fOkMat51R"
      },
      "execution_count": null,
      "outputs": []
    },
    {
      "cell_type": "code",
      "source": [
        "from tensorflow.keras.utils import plot_model\n",
        "plot_model(model=model,show_shapes=True)"
      ],
      "metadata": {
        "id": "ylP5NV9At9tp"
      },
      "execution_count": null,
      "outputs": []
    },
    {
      "cell_type": "code",
      "source": [
        "model.fit(X_train,y_train,epochs=50)"
      ],
      "metadata": {
        "id": "dse850znvz3q"
      },
      "execution_count": null,
      "outputs": []
    },
    {
      "cell_type": "code",
      "source": [
        "y_pred=model.predict(X_test)"
      ],
      "metadata": {
        "id": "vZT2uN-qv7iN"
      },
      "execution_count": null,
      "outputs": []
    },
    {
      "cell_type": "code",
      "source": [
        "y_pred"
      ],
      "metadata": {
        "id": "lgffINUKwDoJ"
      },
      "execution_count": null,
      "outputs": []
    },
    {
      "cell_type": "code",
      "source": [
        "y_test"
      ],
      "metadata": {
        "id": "vL12hIFLwHeq"
      },
      "execution_count": null,
      "outputs": []
    },
    {
      "cell_type": "code",
      "source": [
        "# lets create a plotting function\n",
        "def plot_predictions(train_data=X_train,\n",
        "                     train_labels=y_train,\n",
        "                     test_data=X_test,\n",
        "                     test_labels=y_test,\n",
        "                     predictions=y_pred):\n",
        "  plt.figure(figsize=(10,7))\n",
        "  plt.scatter(train_data,train_labels,c='b')\n",
        "  plt.scatter(test_data,test_labels,c='g')\n",
        "  plt.scatter(test_data,predictions,c='r')\n",
        "  plt.legend()"
      ],
      "metadata": {
        "id": "CLQeRoDlwM0d"
      },
      "execution_count": null,
      "outputs": []
    },
    {
      "cell_type": "code",
      "source": [
        "plot_predictions()"
      ],
      "metadata": {
        "id": "l7ss7wbDxgM0"
      },
      "execution_count": null,
      "outputs": []
    },
    {
      "cell_type": "markdown",
      "source": [
        "Evaluating our prediction with evaluation matrix\n",
        "MAE - on average how wrong is each of my model prediction\n",
        "MSE - square the average error"
      ],
      "metadata": {
        "id": "n_s4AocJyR0S"
      }
    },
    {
      "cell_type": "code",
      "source": [
        "model.evaluate(X_test,y_test)"
      ],
      "metadata": {
        "id": "HB98S7YHH3Sc"
      },
      "execution_count": null,
      "outputs": []
    },
    {
      "cell_type": "code",
      "source": [
        "# calculate the mean absolute error\n",
        "mae=tf.keras.losses.mean_absolute_error(y_test,tf.constant(y_pred))\n",
        "mae"
      ],
      "metadata": {
        "id": "YBdwA-WRICOm"
      },
      "execution_count": null,
      "outputs": []
    },
    {
      "cell_type": "code",
      "source": [
        "#both y_pred and y_test are in different shape\n",
        "# removing one dimension in ypred\n",
        "tf.squeeze(y_pred)"
      ],
      "metadata": {
        "id": "9-QOv9AnI8Uh"
      },
      "execution_count": null,
      "outputs": []
    },
    {
      "cell_type": "code",
      "source": [
        "mae=tf.keras.losses.mean_absolute_error(y_test,tf.squeeze(y_pred))\n",
        "mae"
      ],
      "metadata": {
        "id": "CfIav41QJJaw"
      },
      "execution_count": null,
      "outputs": []
    },
    {
      "cell_type": "code",
      "source": [
        "mse=tf.keras.losses.mean_squared_error(y_test,tf.squeeze(y_pred))\n",
        "mse"
      ],
      "metadata": {
        "id": "iRDSnuKyJXV8"
      },
      "execution_count": null,
      "outputs": []
    },
    {
      "cell_type": "code",
      "source": [
        "def mae(y_test,y_pred):\n",
        "  return tf.keras.losses.mae(y_test,tf.squeeze(y_pred))\n",
        "def mse(y_test,y_pred):\n",
        "   return tf.keras.losses.mse(y_test,tf.squeeze(y_pred))"
      ],
      "metadata": {
        "id": "H_-i6QmONZin"
      },
      "execution_count": null,
      "outputs": []
    },
    {
      "cell_type": "markdown",
      "source": [
        "## running experiments to improve model\n"
      ],
      "metadata": {
        "id": "1-ebYTvxKDtF"
      }
    },
    {
      "cell_type": "code",
      "source": [
        "y_train.shape"
      ],
      "metadata": {
        "id": "YedONJ1FMPe3"
      },
      "execution_count": null,
      "outputs": []
    },
    {
      "cell_type": "code",
      "source": [
        "X_train.shape"
      ],
      "metadata": {
        "id": "KFafvGYLMSrd"
      },
      "execution_count": null,
      "outputs": []
    },
    {
      "cell_type": "code",
      "source": [
        "# set random seed\n",
        "tf.random.set_seed(42)\n",
        "\n",
        "model_1=tf.keras.Sequential([\n",
        "    tf.keras.layers.Dense(1)\n",
        "])\n",
        "model_1.compile(\n",
        "    loss=tf.keras.losses.mae,\n",
        "    optimizer=tf.keras.optimizers.SGD(),\n",
        "    metrics=['mae']\n",
        ")\n",
        "model_1.fit(tf.expand_dims(X_train,axis=-1),y_train,epochs=100)"
      ],
      "metadata": {
        "id": "IGKF9XSqLeKF"
      },
      "execution_count": null,
      "outputs": []
    },
    {
      "cell_type": "code",
      "source": [
        "# make and plot pred for model 1\n",
        "y_preds_1=model_1.predict(X_test)\n",
        "plot_predictions(predictions=y_preds_1)"
      ],
      "metadata": {
        "id": "6lhnrHphM1mP"
      },
      "execution_count": null,
      "outputs": []
    },
    {
      "cell_type": "code",
      "source": [
        "#calculate model_1 evaluation matrix\n",
        "mae_1=mae(y_test,y_preds_1)\n",
        "mse_1=mse(y_test,y_preds_1)\n",
        "mae_1,mse_1"
      ],
      "metadata": {
        "id": "_m3Epja5NQzA"
      },
      "execution_count": null,
      "outputs": []
    },
    {
      "cell_type": "code",
      "source": [
        "# set random seed\n",
        "tf.random.set_seed(42)\n",
        "\n",
        "model_2=tf.keras.Sequential([\n",
        "    tf.keras.layers.Dense(90),\n",
        "    tf.keras.layers.Dense(1)\n",
        "])\n",
        "model_2.compile(\n",
        "    loss=tf.keras.losses.mae,\n",
        "    optimizer=tf.keras.optimizers.SGD(),\n",
        "    metrics=['mse']\n",
        ")\n",
        "model_2.fit(tf.expand_dims(X_train,axis=-1),y_train,epochs=89)"
      ],
      "metadata": {
        "id": "SQSmgKU4OoAI"
      },
      "execution_count": null,
      "outputs": []
    },
    {
      "cell_type": "code",
      "source": [
        "y_preds_2=model_2.predict(X_test)\n",
        "plot_predictions(predictions=y_preds_2)"
      ],
      "metadata": {
        "id": "Y7FASAcCPC1a"
      },
      "execution_count": null,
      "outputs": []
    },
    {
      "cell_type": "code",
      "source": [
        "mae_2=mae(y_test,y_preds_2)\n",
        "mse_2=mse(y_test,y_preds_2)\n",
        "mae_2,mse_2"
      ],
      "metadata": {
        "id": "t6ayYIX1PZhE"
      },
      "execution_count": null,
      "outputs": []
    },
    {
      "cell_type": "code",
      "source": [
        "# set random seed\n",
        "tf.random.set_seed(42)\n",
        "\n",
        "model_3=tf.keras.Sequential([\n",
        "    tf.keras.layers.Dense(100),\n",
        "    tf.keras.layers.Dense(1)\n",
        "])\n",
        "model_3.compile(\n",
        "    loss=tf.keras.losses.mae,\n",
        "    optimizer=tf.keras.optimizers.SGD(),\n",
        "    metrics=['mse']\n",
        ")\n",
        "model_3.fit(tf.expand_dims(X_train,axis=-1),y_train,epochs=100)"
      ],
      "metadata": {
        "id": "sXXYgCV-PtKU"
      },
      "execution_count": null,
      "outputs": []
    },
    {
      "cell_type": "code",
      "source": [
        "y_preds_3=model_3.predict(X_test)"
      ],
      "metadata": {
        "id": "vQFqujPLP-SL"
      },
      "execution_count": null,
      "outputs": []
    },
    {
      "cell_type": "code",
      "source": [
        "plot_predictions(predictions=y_preds_3)"
      ],
      "metadata": {
        "id": "oIwx0ScAQIf9"
      },
      "execution_count": null,
      "outputs": []
    },
    {
      "cell_type": "code",
      "source": [
        "mae_3=mae(y_test,y_preds_3)\n",
        "mse_3=mse(y_test,y_preds_3)\n",
        "mae_3,mse_3"
      ],
      "metadata": {
        "id": "t1vdys0KQlxG"
      },
      "execution_count": null,
      "outputs": []
    },
    {
      "cell_type": "code",
      "source": [
        "#comparing the result of our experiments using pands\n",
        "import pandas as pd\n",
        "model_results=[\n",
        "     ['model_1',mae_1.numpy(),mse_1.numpy()],\n",
        "     ['model_2',mae_2.numpy(),mse_2.numpy()],\n",
        "     ['model_3',mae_3.numpy(),mse_3.numpy()]\n",
        "]\n",
        "all_results=pd.DataFrame(model_results,columns=['model','mae','mse'])\n",
        "all_results\n"
      ],
      "metadata": {
        "id": "i3DuCLp_QsBc"
      },
      "execution_count": null,
      "outputs": []
    },
    {
      "cell_type": "markdown",
      "source": [
        "our main goal should be minimize the time between experiments"
      ],
      "metadata": {
        "id": "Nwg11smsYVF9"
      }
    },
    {
      "cell_type": "markdown",
      "source": [
        "We can track the results of our experiments\n",
        "there are tools to help us\n",
        "\n",
        "\n",
        "\n",
        "1.   Tensorboard\n",
        "2.   Weights & biases\n",
        "\n"
      ],
      "metadata": {
        "id": "dwba7he2ZoaJ"
      }
    },
    {
      "cell_type": "markdown",
      "source": [
        "Saving our models allows us to use it in web app or mobile app\n",
        "\n",
        "there are two main formats\n",
        "\n",
        "\n",
        "1.   savemodel format\n",
        "2.   HDF5 Format\n",
        "\n"
      ],
      "metadata": {
        "id": "qHvv-HGza1Ij"
      }
    },
    {
      "cell_type": "code",
      "source": [
        "model_2.save(\"bestmodel\")"
      ],
      "metadata": {
        "id": "YOLDTubpbdNo"
      },
      "execution_count": null,
      "outputs": []
    },
    {
      "cell_type": "code",
      "source": [
        "#save model using hdf5 format\n",
        "model_2.save('best_model_hdf5.h5')"
      ],
      "metadata": {
        "id": "XqjC6gi2cvjK"
      },
      "execution_count": null,
      "outputs": []
    },
    {
      "cell_type": "code",
      "source": [
        "# loading in saved model\n",
        "loaded_saved_model=tf.keras.models.load_model('bestmodel')\n",
        "loaded_saved_model.summary()"
      ],
      "metadata": {
        "id": "ldDN8YOIdJ66"
      },
      "execution_count": null,
      "outputs": []
    },
    {
      "cell_type": "code",
      "source": [
        "model_2.summary()"
      ],
      "metadata": {
        "id": "sjmBzSlPeB9s"
      },
      "execution_count": null,
      "outputs": []
    },
    {
      "cell_type": "markdown",
      "source": [
        "A larger example"
      ],
      "metadata": {
        "id": "Z5EkEF-7h3u5"
      }
    },
    {
      "cell_type": "code",
      "source": [
        "import tensorflow as tf\n",
        "import pandas as pd\n",
        "import matplotlib.pyplot as plt"
      ],
      "metadata": {
        "id": "71vNMTVph8b5"
      },
      "execution_count": null,
      "outputs": []
    },
    {
      "cell_type": "code",
      "source": [
        "insurance=pd.read_csv('insurance.csv')\n",
        "insurance"
      ],
      "metadata": {
        "colab": {
          "base_uri": "https://localhost:8080/",
          "height": 424
        },
        "id": "AAhikRtCiNYU",
        "outputId": "381d4931-eee5-4f46-8dc4-f247f294c2a8"
      },
      "execution_count": null,
      "outputs": [
        {
          "output_type": "execute_result",
          "data": {
            "text/plain": [
              "      age     sex     bmi  children smoker     region      charges\n",
              "0      19  female  27.900         0    yes  southwest  16884.92400\n",
              "1      18    male  33.770         1     no  southeast   1725.55230\n",
              "2      28    male  33.000         3     no  southeast   4449.46200\n",
              "3      33    male  22.705         0     no  northwest  21984.47061\n",
              "4      32    male  28.880         0     no  northwest   3866.85520\n",
              "...   ...     ...     ...       ...    ...        ...          ...\n",
              "1333   50    male  30.970         3     no  northwest  10600.54830\n",
              "1334   18  female  31.920         0     no  northeast   2205.98080\n",
              "1335   18  female  36.850         0     no  southeast   1629.83350\n",
              "1336   21  female  25.800         0     no  southwest   2007.94500\n",
              "1337   61  female  29.070         0    yes  northwest  29141.36030\n",
              "\n",
              "[1338 rows x 7 columns]"
            ],
            "text/html": [
              "\n",
              "  <div id=\"df-f81d00aa-b45f-417e-aae9-90b23b632e2d\">\n",
              "    <div class=\"colab-df-container\">\n",
              "      <div>\n",
              "<style scoped>\n",
              "    .dataframe tbody tr th:only-of-type {\n",
              "        vertical-align: middle;\n",
              "    }\n",
              "\n",
              "    .dataframe tbody tr th {\n",
              "        vertical-align: top;\n",
              "    }\n",
              "\n",
              "    .dataframe thead th {\n",
              "        text-align: right;\n",
              "    }\n",
              "</style>\n",
              "<table border=\"1\" class=\"dataframe\">\n",
              "  <thead>\n",
              "    <tr style=\"text-align: right;\">\n",
              "      <th></th>\n",
              "      <th>age</th>\n",
              "      <th>sex</th>\n",
              "      <th>bmi</th>\n",
              "      <th>children</th>\n",
              "      <th>smoker</th>\n",
              "      <th>region</th>\n",
              "      <th>charges</th>\n",
              "    </tr>\n",
              "  </thead>\n",
              "  <tbody>\n",
              "    <tr>\n",
              "      <th>0</th>\n",
              "      <td>19</td>\n",
              "      <td>female</td>\n",
              "      <td>27.900</td>\n",
              "      <td>0</td>\n",
              "      <td>yes</td>\n",
              "      <td>southwest</td>\n",
              "      <td>16884.92400</td>\n",
              "    </tr>\n",
              "    <tr>\n",
              "      <th>1</th>\n",
              "      <td>18</td>\n",
              "      <td>male</td>\n",
              "      <td>33.770</td>\n",
              "      <td>1</td>\n",
              "      <td>no</td>\n",
              "      <td>southeast</td>\n",
              "      <td>1725.55230</td>\n",
              "    </tr>\n",
              "    <tr>\n",
              "      <th>2</th>\n",
              "      <td>28</td>\n",
              "      <td>male</td>\n",
              "      <td>33.000</td>\n",
              "      <td>3</td>\n",
              "      <td>no</td>\n",
              "      <td>southeast</td>\n",
              "      <td>4449.46200</td>\n",
              "    </tr>\n",
              "    <tr>\n",
              "      <th>3</th>\n",
              "      <td>33</td>\n",
              "      <td>male</td>\n",
              "      <td>22.705</td>\n",
              "      <td>0</td>\n",
              "      <td>no</td>\n",
              "      <td>northwest</td>\n",
              "      <td>21984.47061</td>\n",
              "    </tr>\n",
              "    <tr>\n",
              "      <th>4</th>\n",
              "      <td>32</td>\n",
              "      <td>male</td>\n",
              "      <td>28.880</td>\n",
              "      <td>0</td>\n",
              "      <td>no</td>\n",
              "      <td>northwest</td>\n",
              "      <td>3866.85520</td>\n",
              "    </tr>\n",
              "    <tr>\n",
              "      <th>...</th>\n",
              "      <td>...</td>\n",
              "      <td>...</td>\n",
              "      <td>...</td>\n",
              "      <td>...</td>\n",
              "      <td>...</td>\n",
              "      <td>...</td>\n",
              "      <td>...</td>\n",
              "    </tr>\n",
              "    <tr>\n",
              "      <th>1333</th>\n",
              "      <td>50</td>\n",
              "      <td>male</td>\n",
              "      <td>30.970</td>\n",
              "      <td>3</td>\n",
              "      <td>no</td>\n",
              "      <td>northwest</td>\n",
              "      <td>10600.54830</td>\n",
              "    </tr>\n",
              "    <tr>\n",
              "      <th>1334</th>\n",
              "      <td>18</td>\n",
              "      <td>female</td>\n",
              "      <td>31.920</td>\n",
              "      <td>0</td>\n",
              "      <td>no</td>\n",
              "      <td>northeast</td>\n",
              "      <td>2205.98080</td>\n",
              "    </tr>\n",
              "    <tr>\n",
              "      <th>1335</th>\n",
              "      <td>18</td>\n",
              "      <td>female</td>\n",
              "      <td>36.850</td>\n",
              "      <td>0</td>\n",
              "      <td>no</td>\n",
              "      <td>southeast</td>\n",
              "      <td>1629.83350</td>\n",
              "    </tr>\n",
              "    <tr>\n",
              "      <th>1336</th>\n",
              "      <td>21</td>\n",
              "      <td>female</td>\n",
              "      <td>25.800</td>\n",
              "      <td>0</td>\n",
              "      <td>no</td>\n",
              "      <td>southwest</td>\n",
              "      <td>2007.94500</td>\n",
              "    </tr>\n",
              "    <tr>\n",
              "      <th>1337</th>\n",
              "      <td>61</td>\n",
              "      <td>female</td>\n",
              "      <td>29.070</td>\n",
              "      <td>0</td>\n",
              "      <td>yes</td>\n",
              "      <td>northwest</td>\n",
              "      <td>29141.36030</td>\n",
              "    </tr>\n",
              "  </tbody>\n",
              "</table>\n",
              "<p>1338 rows × 7 columns</p>\n",
              "</div>\n",
              "      <button class=\"colab-df-convert\" onclick=\"convertToInteractive('df-f81d00aa-b45f-417e-aae9-90b23b632e2d')\"\n",
              "              title=\"Convert this dataframe to an interactive table.\"\n",
              "              style=\"display:none;\">\n",
              "        \n",
              "  <svg xmlns=\"http://www.w3.org/2000/svg\" height=\"24px\"viewBox=\"0 0 24 24\"\n",
              "       width=\"24px\">\n",
              "    <path d=\"M0 0h24v24H0V0z\" fill=\"none\"/>\n",
              "    <path d=\"M18.56 5.44l.94 2.06.94-2.06 2.06-.94-2.06-.94-.94-2.06-.94 2.06-2.06.94zm-11 1L8.5 8.5l.94-2.06 2.06-.94-2.06-.94L8.5 2.5l-.94 2.06-2.06.94zm10 10l.94 2.06.94-2.06 2.06-.94-2.06-.94-.94-2.06-.94 2.06-2.06.94z\"/><path d=\"M17.41 7.96l-1.37-1.37c-.4-.4-.92-.59-1.43-.59-.52 0-1.04.2-1.43.59L10.3 9.45l-7.72 7.72c-.78.78-.78 2.05 0 2.83L4 21.41c.39.39.9.59 1.41.59.51 0 1.02-.2 1.41-.59l7.78-7.78 2.81-2.81c.8-.78.8-2.07 0-2.86zM5.41 20L4 18.59l7.72-7.72 1.47 1.35L5.41 20z\"/>\n",
              "  </svg>\n",
              "      </button>\n",
              "      \n",
              "  <style>\n",
              "    .colab-df-container {\n",
              "      display:flex;\n",
              "      flex-wrap:wrap;\n",
              "      gap: 12px;\n",
              "    }\n",
              "\n",
              "    .colab-df-convert {\n",
              "      background-color: #E8F0FE;\n",
              "      border: none;\n",
              "      border-radius: 50%;\n",
              "      cursor: pointer;\n",
              "      display: none;\n",
              "      fill: #1967D2;\n",
              "      height: 32px;\n",
              "      padding: 0 0 0 0;\n",
              "      width: 32px;\n",
              "    }\n",
              "\n",
              "    .colab-df-convert:hover {\n",
              "      background-color: #E2EBFA;\n",
              "      box-shadow: 0px 1px 2px rgba(60, 64, 67, 0.3), 0px 1px 3px 1px rgba(60, 64, 67, 0.15);\n",
              "      fill: #174EA6;\n",
              "    }\n",
              "\n",
              "    [theme=dark] .colab-df-convert {\n",
              "      background-color: #3B4455;\n",
              "      fill: #D2E3FC;\n",
              "    }\n",
              "\n",
              "    [theme=dark] .colab-df-convert:hover {\n",
              "      background-color: #434B5C;\n",
              "      box-shadow: 0px 1px 3px 1px rgba(0, 0, 0, 0.15);\n",
              "      filter: drop-shadow(0px 1px 2px rgba(0, 0, 0, 0.3));\n",
              "      fill: #FFFFFF;\n",
              "    }\n",
              "  </style>\n",
              "\n",
              "      <script>\n",
              "        const buttonEl =\n",
              "          document.querySelector('#df-f81d00aa-b45f-417e-aae9-90b23b632e2d button.colab-df-convert');\n",
              "        buttonEl.style.display =\n",
              "          google.colab.kernel.accessAllowed ? 'block' : 'none';\n",
              "\n",
              "        async function convertToInteractive(key) {\n",
              "          const element = document.querySelector('#df-f81d00aa-b45f-417e-aae9-90b23b632e2d');\n",
              "          const dataTable =\n",
              "            await google.colab.kernel.invokeFunction('convertToInteractive',\n",
              "                                                     [key], {});\n",
              "          if (!dataTable) return;\n",
              "\n",
              "          const docLinkHtml = 'Like what you see? Visit the ' +\n",
              "            '<a target=\"_blank\" href=https://colab.research.google.com/notebooks/data_table.ipynb>data table notebook</a>'\n",
              "            + ' to learn more about interactive tables.';\n",
              "          element.innerHTML = '';\n",
              "          dataTable['output_type'] = 'display_data';\n",
              "          await google.colab.output.renderOutput(dataTable, element);\n",
              "          const docLink = document.createElement('div');\n",
              "          docLink.innerHTML = docLinkHtml;\n",
              "          element.appendChild(docLink);\n",
              "        }\n",
              "      </script>\n",
              "    </div>\n",
              "  </div>\n",
              "  "
            ]
          },
          "metadata": {},
          "execution_count": 33
        }
      ]
    },
    {
      "cell_type": "code",
      "source": [
        "insurance.isnull().value_counts()"
      ],
      "metadata": {
        "colab": {
          "base_uri": "https://localhost:8080/"
        },
        "id": "cHRwlVXjiYqj",
        "outputId": "ebb0a72d-3007-4b78-9ff9-f9fccc537ddb"
      },
      "execution_count": null,
      "outputs": [
        {
          "output_type": "execute_result",
          "data": {
            "text/plain": [
              "age    sex    bmi    children  smoker  region  charges\n",
              "False  False  False  False     False   False   False      1338\n",
              "dtype: int64"
            ]
          },
          "metadata": {},
          "execution_count": 34
        }
      ]
    },
    {
      "cell_type": "code",
      "source": [
        "insurance.dtypes"
      ],
      "metadata": {
        "colab": {
          "base_uri": "https://localhost:8080/"
        },
        "id": "GAwo99hEkvey",
        "outputId": "9b7ce24c-c316-46cf-b5cc-a75cc5b3c9c6"
      },
      "execution_count": null,
      "outputs": [
        {
          "output_type": "execute_result",
          "data": {
            "text/plain": [
              "age           int64\n",
              "sex          object\n",
              "bmi         float64\n",
              "children      int64\n",
              "smoker       object\n",
              "region       object\n",
              "charges     float64\n",
              "dtype: object"
            ]
          },
          "metadata": {},
          "execution_count": 35
        }
      ]
    },
    {
      "cell_type": "code",
      "source": [
        "insurance_onehot=pd.get_dummies(insurance)\n",
        "insurance_onehot"
      ],
      "metadata": {
        "colab": {
          "base_uri": "https://localhost:8080/",
          "height": 488
        },
        "id": "SiqgF7Opky7Z",
        "outputId": "35e31db7-9b70-4444-8df7-85b4d054bb8b"
      },
      "execution_count": null,
      "outputs": [
        {
          "output_type": "execute_result",
          "data": {
            "text/plain": [
              "      age     bmi  children      charges  sex_female  sex_male  smoker_no  \\\n",
              "0      19  27.900         0  16884.92400           1         0          0   \n",
              "1      18  33.770         1   1725.55230           0         1          1   \n",
              "2      28  33.000         3   4449.46200           0         1          1   \n",
              "3      33  22.705         0  21984.47061           0         1          1   \n",
              "4      32  28.880         0   3866.85520           0         1          1   \n",
              "...   ...     ...       ...          ...         ...       ...        ...   \n",
              "1333   50  30.970         3  10600.54830           0         1          1   \n",
              "1334   18  31.920         0   2205.98080           1         0          1   \n",
              "1335   18  36.850         0   1629.83350           1         0          1   \n",
              "1336   21  25.800         0   2007.94500           1         0          1   \n",
              "1337   61  29.070         0  29141.36030           1         0          0   \n",
              "\n",
              "      smoker_yes  region_northeast  region_northwest  region_southeast  \\\n",
              "0              1                 0                 0                 0   \n",
              "1              0                 0                 0                 1   \n",
              "2              0                 0                 0                 1   \n",
              "3              0                 0                 1                 0   \n",
              "4              0                 0                 1                 0   \n",
              "...          ...               ...               ...               ...   \n",
              "1333           0                 0                 1                 0   \n",
              "1334           0                 1                 0                 0   \n",
              "1335           0                 0                 0                 1   \n",
              "1336           0                 0                 0                 0   \n",
              "1337           1                 0                 1                 0   \n",
              "\n",
              "      region_southwest  \n",
              "0                    1  \n",
              "1                    0  \n",
              "2                    0  \n",
              "3                    0  \n",
              "4                    0  \n",
              "...                ...  \n",
              "1333                 0  \n",
              "1334                 0  \n",
              "1335                 0  \n",
              "1336                 1  \n",
              "1337                 0  \n",
              "\n",
              "[1338 rows x 12 columns]"
            ],
            "text/html": [
              "\n",
              "  <div id=\"df-63d4473a-0184-4af1-89ba-d977b41a581b\">\n",
              "    <div class=\"colab-df-container\">\n",
              "      <div>\n",
              "<style scoped>\n",
              "    .dataframe tbody tr th:only-of-type {\n",
              "        vertical-align: middle;\n",
              "    }\n",
              "\n",
              "    .dataframe tbody tr th {\n",
              "        vertical-align: top;\n",
              "    }\n",
              "\n",
              "    .dataframe thead th {\n",
              "        text-align: right;\n",
              "    }\n",
              "</style>\n",
              "<table border=\"1\" class=\"dataframe\">\n",
              "  <thead>\n",
              "    <tr style=\"text-align: right;\">\n",
              "      <th></th>\n",
              "      <th>age</th>\n",
              "      <th>bmi</th>\n",
              "      <th>children</th>\n",
              "      <th>charges</th>\n",
              "      <th>sex_female</th>\n",
              "      <th>sex_male</th>\n",
              "      <th>smoker_no</th>\n",
              "      <th>smoker_yes</th>\n",
              "      <th>region_northeast</th>\n",
              "      <th>region_northwest</th>\n",
              "      <th>region_southeast</th>\n",
              "      <th>region_southwest</th>\n",
              "    </tr>\n",
              "  </thead>\n",
              "  <tbody>\n",
              "    <tr>\n",
              "      <th>0</th>\n",
              "      <td>19</td>\n",
              "      <td>27.900</td>\n",
              "      <td>0</td>\n",
              "      <td>16884.92400</td>\n",
              "      <td>1</td>\n",
              "      <td>0</td>\n",
              "      <td>0</td>\n",
              "      <td>1</td>\n",
              "      <td>0</td>\n",
              "      <td>0</td>\n",
              "      <td>0</td>\n",
              "      <td>1</td>\n",
              "    </tr>\n",
              "    <tr>\n",
              "      <th>1</th>\n",
              "      <td>18</td>\n",
              "      <td>33.770</td>\n",
              "      <td>1</td>\n",
              "      <td>1725.55230</td>\n",
              "      <td>0</td>\n",
              "      <td>1</td>\n",
              "      <td>1</td>\n",
              "      <td>0</td>\n",
              "      <td>0</td>\n",
              "      <td>0</td>\n",
              "      <td>1</td>\n",
              "      <td>0</td>\n",
              "    </tr>\n",
              "    <tr>\n",
              "      <th>2</th>\n",
              "      <td>28</td>\n",
              "      <td>33.000</td>\n",
              "      <td>3</td>\n",
              "      <td>4449.46200</td>\n",
              "      <td>0</td>\n",
              "      <td>1</td>\n",
              "      <td>1</td>\n",
              "      <td>0</td>\n",
              "      <td>0</td>\n",
              "      <td>0</td>\n",
              "      <td>1</td>\n",
              "      <td>0</td>\n",
              "    </tr>\n",
              "    <tr>\n",
              "      <th>3</th>\n",
              "      <td>33</td>\n",
              "      <td>22.705</td>\n",
              "      <td>0</td>\n",
              "      <td>21984.47061</td>\n",
              "      <td>0</td>\n",
              "      <td>1</td>\n",
              "      <td>1</td>\n",
              "      <td>0</td>\n",
              "      <td>0</td>\n",
              "      <td>1</td>\n",
              "      <td>0</td>\n",
              "      <td>0</td>\n",
              "    </tr>\n",
              "    <tr>\n",
              "      <th>4</th>\n",
              "      <td>32</td>\n",
              "      <td>28.880</td>\n",
              "      <td>0</td>\n",
              "      <td>3866.85520</td>\n",
              "      <td>0</td>\n",
              "      <td>1</td>\n",
              "      <td>1</td>\n",
              "      <td>0</td>\n",
              "      <td>0</td>\n",
              "      <td>1</td>\n",
              "      <td>0</td>\n",
              "      <td>0</td>\n",
              "    </tr>\n",
              "    <tr>\n",
              "      <th>...</th>\n",
              "      <td>...</td>\n",
              "      <td>...</td>\n",
              "      <td>...</td>\n",
              "      <td>...</td>\n",
              "      <td>...</td>\n",
              "      <td>...</td>\n",
              "      <td>...</td>\n",
              "      <td>...</td>\n",
              "      <td>...</td>\n",
              "      <td>...</td>\n",
              "      <td>...</td>\n",
              "      <td>...</td>\n",
              "    </tr>\n",
              "    <tr>\n",
              "      <th>1333</th>\n",
              "      <td>50</td>\n",
              "      <td>30.970</td>\n",
              "      <td>3</td>\n",
              "      <td>10600.54830</td>\n",
              "      <td>0</td>\n",
              "      <td>1</td>\n",
              "      <td>1</td>\n",
              "      <td>0</td>\n",
              "      <td>0</td>\n",
              "      <td>1</td>\n",
              "      <td>0</td>\n",
              "      <td>0</td>\n",
              "    </tr>\n",
              "    <tr>\n",
              "      <th>1334</th>\n",
              "      <td>18</td>\n",
              "      <td>31.920</td>\n",
              "      <td>0</td>\n",
              "      <td>2205.98080</td>\n",
              "      <td>1</td>\n",
              "      <td>0</td>\n",
              "      <td>1</td>\n",
              "      <td>0</td>\n",
              "      <td>1</td>\n",
              "      <td>0</td>\n",
              "      <td>0</td>\n",
              "      <td>0</td>\n",
              "    </tr>\n",
              "    <tr>\n",
              "      <th>1335</th>\n",
              "      <td>18</td>\n",
              "      <td>36.850</td>\n",
              "      <td>0</td>\n",
              "      <td>1629.83350</td>\n",
              "      <td>1</td>\n",
              "      <td>0</td>\n",
              "      <td>1</td>\n",
              "      <td>0</td>\n",
              "      <td>0</td>\n",
              "      <td>0</td>\n",
              "      <td>1</td>\n",
              "      <td>0</td>\n",
              "    </tr>\n",
              "    <tr>\n",
              "      <th>1336</th>\n",
              "      <td>21</td>\n",
              "      <td>25.800</td>\n",
              "      <td>0</td>\n",
              "      <td>2007.94500</td>\n",
              "      <td>1</td>\n",
              "      <td>0</td>\n",
              "      <td>1</td>\n",
              "      <td>0</td>\n",
              "      <td>0</td>\n",
              "      <td>0</td>\n",
              "      <td>0</td>\n",
              "      <td>1</td>\n",
              "    </tr>\n",
              "    <tr>\n",
              "      <th>1337</th>\n",
              "      <td>61</td>\n",
              "      <td>29.070</td>\n",
              "      <td>0</td>\n",
              "      <td>29141.36030</td>\n",
              "      <td>1</td>\n",
              "      <td>0</td>\n",
              "      <td>0</td>\n",
              "      <td>1</td>\n",
              "      <td>0</td>\n",
              "      <td>1</td>\n",
              "      <td>0</td>\n",
              "      <td>0</td>\n",
              "    </tr>\n",
              "  </tbody>\n",
              "</table>\n",
              "<p>1338 rows × 12 columns</p>\n",
              "</div>\n",
              "      <button class=\"colab-df-convert\" onclick=\"convertToInteractive('df-63d4473a-0184-4af1-89ba-d977b41a581b')\"\n",
              "              title=\"Convert this dataframe to an interactive table.\"\n",
              "              style=\"display:none;\">\n",
              "        \n",
              "  <svg xmlns=\"http://www.w3.org/2000/svg\" height=\"24px\"viewBox=\"0 0 24 24\"\n",
              "       width=\"24px\">\n",
              "    <path d=\"M0 0h24v24H0V0z\" fill=\"none\"/>\n",
              "    <path d=\"M18.56 5.44l.94 2.06.94-2.06 2.06-.94-2.06-.94-.94-2.06-.94 2.06-2.06.94zm-11 1L8.5 8.5l.94-2.06 2.06-.94-2.06-.94L8.5 2.5l-.94 2.06-2.06.94zm10 10l.94 2.06.94-2.06 2.06-.94-2.06-.94-.94-2.06-.94 2.06-2.06.94z\"/><path d=\"M17.41 7.96l-1.37-1.37c-.4-.4-.92-.59-1.43-.59-.52 0-1.04.2-1.43.59L10.3 9.45l-7.72 7.72c-.78.78-.78 2.05 0 2.83L4 21.41c.39.39.9.59 1.41.59.51 0 1.02-.2 1.41-.59l7.78-7.78 2.81-2.81c.8-.78.8-2.07 0-2.86zM5.41 20L4 18.59l7.72-7.72 1.47 1.35L5.41 20z\"/>\n",
              "  </svg>\n",
              "      </button>\n",
              "      \n",
              "  <style>\n",
              "    .colab-df-container {\n",
              "      display:flex;\n",
              "      flex-wrap:wrap;\n",
              "      gap: 12px;\n",
              "    }\n",
              "\n",
              "    .colab-df-convert {\n",
              "      background-color: #E8F0FE;\n",
              "      border: none;\n",
              "      border-radius: 50%;\n",
              "      cursor: pointer;\n",
              "      display: none;\n",
              "      fill: #1967D2;\n",
              "      height: 32px;\n",
              "      padding: 0 0 0 0;\n",
              "      width: 32px;\n",
              "    }\n",
              "\n",
              "    .colab-df-convert:hover {\n",
              "      background-color: #E2EBFA;\n",
              "      box-shadow: 0px 1px 2px rgba(60, 64, 67, 0.3), 0px 1px 3px 1px rgba(60, 64, 67, 0.15);\n",
              "      fill: #174EA6;\n",
              "    }\n",
              "\n",
              "    [theme=dark] .colab-df-convert {\n",
              "      background-color: #3B4455;\n",
              "      fill: #D2E3FC;\n",
              "    }\n",
              "\n",
              "    [theme=dark] .colab-df-convert:hover {\n",
              "      background-color: #434B5C;\n",
              "      box-shadow: 0px 1px 3px 1px rgba(0, 0, 0, 0.15);\n",
              "      filter: drop-shadow(0px 1px 2px rgba(0, 0, 0, 0.3));\n",
              "      fill: #FFFFFF;\n",
              "    }\n",
              "  </style>\n",
              "\n",
              "      <script>\n",
              "        const buttonEl =\n",
              "          document.querySelector('#df-63d4473a-0184-4af1-89ba-d977b41a581b button.colab-df-convert');\n",
              "        buttonEl.style.display =\n",
              "          google.colab.kernel.accessAllowed ? 'block' : 'none';\n",
              "\n",
              "        async function convertToInteractive(key) {\n",
              "          const element = document.querySelector('#df-63d4473a-0184-4af1-89ba-d977b41a581b');\n",
              "          const dataTable =\n",
              "            await google.colab.kernel.invokeFunction('convertToInteractive',\n",
              "                                                     [key], {});\n",
              "          if (!dataTable) return;\n",
              "\n",
              "          const docLinkHtml = 'Like what you see? Visit the ' +\n",
              "            '<a target=\"_blank\" href=https://colab.research.google.com/notebooks/data_table.ipynb>data table notebook</a>'\n",
              "            + ' to learn more about interactive tables.';\n",
              "          element.innerHTML = '';\n",
              "          dataTable['output_type'] = 'display_data';\n",
              "          await google.colab.output.renderOutput(dataTable, element);\n",
              "          const docLink = document.createElement('div');\n",
              "          docLink.innerHTML = docLinkHtml;\n",
              "          element.appendChild(docLink);\n",
              "        }\n",
              "      </script>\n",
              "    </div>\n",
              "  </div>\n",
              "  "
            ]
          },
          "metadata": {},
          "execution_count": 36
        }
      ]
    },
    {
      "cell_type": "code",
      "source": [
        "X=insurance_onehot.drop(columns=['charges'])\n",
        "X"
      ],
      "metadata": {
        "colab": {
          "base_uri": "https://localhost:8080/",
          "height": 488
        },
        "id": "ryYhVMMclXuX",
        "outputId": "305f6cb1-7ade-4a28-a594-961f2cf5c179"
      },
      "execution_count": null,
      "outputs": [
        {
          "output_type": "execute_result",
          "data": {
            "text/plain": [
              "      age     bmi  children  sex_female  sex_male  smoker_no  smoker_yes  \\\n",
              "0      19  27.900         0           1         0          0           1   \n",
              "1      18  33.770         1           0         1          1           0   \n",
              "2      28  33.000         3           0         1          1           0   \n",
              "3      33  22.705         0           0         1          1           0   \n",
              "4      32  28.880         0           0         1          1           0   \n",
              "...   ...     ...       ...         ...       ...        ...         ...   \n",
              "1333   50  30.970         3           0         1          1           0   \n",
              "1334   18  31.920         0           1         0          1           0   \n",
              "1335   18  36.850         0           1         0          1           0   \n",
              "1336   21  25.800         0           1         0          1           0   \n",
              "1337   61  29.070         0           1         0          0           1   \n",
              "\n",
              "      region_northeast  region_northwest  region_southeast  region_southwest  \n",
              "0                    0                 0                 0                 1  \n",
              "1                    0                 0                 1                 0  \n",
              "2                    0                 0                 1                 0  \n",
              "3                    0                 1                 0                 0  \n",
              "4                    0                 1                 0                 0  \n",
              "...                ...               ...               ...               ...  \n",
              "1333                 0                 1                 0                 0  \n",
              "1334                 1                 0                 0                 0  \n",
              "1335                 0                 0                 1                 0  \n",
              "1336                 0                 0                 0                 1  \n",
              "1337                 0                 1                 0                 0  \n",
              "\n",
              "[1338 rows x 11 columns]"
            ],
            "text/html": [
              "\n",
              "  <div id=\"df-0e7b53f3-be3c-40fc-bc3e-fd706641e2fe\">\n",
              "    <div class=\"colab-df-container\">\n",
              "      <div>\n",
              "<style scoped>\n",
              "    .dataframe tbody tr th:only-of-type {\n",
              "        vertical-align: middle;\n",
              "    }\n",
              "\n",
              "    .dataframe tbody tr th {\n",
              "        vertical-align: top;\n",
              "    }\n",
              "\n",
              "    .dataframe thead th {\n",
              "        text-align: right;\n",
              "    }\n",
              "</style>\n",
              "<table border=\"1\" class=\"dataframe\">\n",
              "  <thead>\n",
              "    <tr style=\"text-align: right;\">\n",
              "      <th></th>\n",
              "      <th>age</th>\n",
              "      <th>bmi</th>\n",
              "      <th>children</th>\n",
              "      <th>sex_female</th>\n",
              "      <th>sex_male</th>\n",
              "      <th>smoker_no</th>\n",
              "      <th>smoker_yes</th>\n",
              "      <th>region_northeast</th>\n",
              "      <th>region_northwest</th>\n",
              "      <th>region_southeast</th>\n",
              "      <th>region_southwest</th>\n",
              "    </tr>\n",
              "  </thead>\n",
              "  <tbody>\n",
              "    <tr>\n",
              "      <th>0</th>\n",
              "      <td>19</td>\n",
              "      <td>27.900</td>\n",
              "      <td>0</td>\n",
              "      <td>1</td>\n",
              "      <td>0</td>\n",
              "      <td>0</td>\n",
              "      <td>1</td>\n",
              "      <td>0</td>\n",
              "      <td>0</td>\n",
              "      <td>0</td>\n",
              "      <td>1</td>\n",
              "    </tr>\n",
              "    <tr>\n",
              "      <th>1</th>\n",
              "      <td>18</td>\n",
              "      <td>33.770</td>\n",
              "      <td>1</td>\n",
              "      <td>0</td>\n",
              "      <td>1</td>\n",
              "      <td>1</td>\n",
              "      <td>0</td>\n",
              "      <td>0</td>\n",
              "      <td>0</td>\n",
              "      <td>1</td>\n",
              "      <td>0</td>\n",
              "    </tr>\n",
              "    <tr>\n",
              "      <th>2</th>\n",
              "      <td>28</td>\n",
              "      <td>33.000</td>\n",
              "      <td>3</td>\n",
              "      <td>0</td>\n",
              "      <td>1</td>\n",
              "      <td>1</td>\n",
              "      <td>0</td>\n",
              "      <td>0</td>\n",
              "      <td>0</td>\n",
              "      <td>1</td>\n",
              "      <td>0</td>\n",
              "    </tr>\n",
              "    <tr>\n",
              "      <th>3</th>\n",
              "      <td>33</td>\n",
              "      <td>22.705</td>\n",
              "      <td>0</td>\n",
              "      <td>0</td>\n",
              "      <td>1</td>\n",
              "      <td>1</td>\n",
              "      <td>0</td>\n",
              "      <td>0</td>\n",
              "      <td>1</td>\n",
              "      <td>0</td>\n",
              "      <td>0</td>\n",
              "    </tr>\n",
              "    <tr>\n",
              "      <th>4</th>\n",
              "      <td>32</td>\n",
              "      <td>28.880</td>\n",
              "      <td>0</td>\n",
              "      <td>0</td>\n",
              "      <td>1</td>\n",
              "      <td>1</td>\n",
              "      <td>0</td>\n",
              "      <td>0</td>\n",
              "      <td>1</td>\n",
              "      <td>0</td>\n",
              "      <td>0</td>\n",
              "    </tr>\n",
              "    <tr>\n",
              "      <th>...</th>\n",
              "      <td>...</td>\n",
              "      <td>...</td>\n",
              "      <td>...</td>\n",
              "      <td>...</td>\n",
              "      <td>...</td>\n",
              "      <td>...</td>\n",
              "      <td>...</td>\n",
              "      <td>...</td>\n",
              "      <td>...</td>\n",
              "      <td>...</td>\n",
              "      <td>...</td>\n",
              "    </tr>\n",
              "    <tr>\n",
              "      <th>1333</th>\n",
              "      <td>50</td>\n",
              "      <td>30.970</td>\n",
              "      <td>3</td>\n",
              "      <td>0</td>\n",
              "      <td>1</td>\n",
              "      <td>1</td>\n",
              "      <td>0</td>\n",
              "      <td>0</td>\n",
              "      <td>1</td>\n",
              "      <td>0</td>\n",
              "      <td>0</td>\n",
              "    </tr>\n",
              "    <tr>\n",
              "      <th>1334</th>\n",
              "      <td>18</td>\n",
              "      <td>31.920</td>\n",
              "      <td>0</td>\n",
              "      <td>1</td>\n",
              "      <td>0</td>\n",
              "      <td>1</td>\n",
              "      <td>0</td>\n",
              "      <td>1</td>\n",
              "      <td>0</td>\n",
              "      <td>0</td>\n",
              "      <td>0</td>\n",
              "    </tr>\n",
              "    <tr>\n",
              "      <th>1335</th>\n",
              "      <td>18</td>\n",
              "      <td>36.850</td>\n",
              "      <td>0</td>\n",
              "      <td>1</td>\n",
              "      <td>0</td>\n",
              "      <td>1</td>\n",
              "      <td>0</td>\n",
              "      <td>0</td>\n",
              "      <td>0</td>\n",
              "      <td>1</td>\n",
              "      <td>0</td>\n",
              "    </tr>\n",
              "    <tr>\n",
              "      <th>1336</th>\n",
              "      <td>21</td>\n",
              "      <td>25.800</td>\n",
              "      <td>0</td>\n",
              "      <td>1</td>\n",
              "      <td>0</td>\n",
              "      <td>1</td>\n",
              "      <td>0</td>\n",
              "      <td>0</td>\n",
              "      <td>0</td>\n",
              "      <td>0</td>\n",
              "      <td>1</td>\n",
              "    </tr>\n",
              "    <tr>\n",
              "      <th>1337</th>\n",
              "      <td>61</td>\n",
              "      <td>29.070</td>\n",
              "      <td>0</td>\n",
              "      <td>1</td>\n",
              "      <td>0</td>\n",
              "      <td>0</td>\n",
              "      <td>1</td>\n",
              "      <td>0</td>\n",
              "      <td>1</td>\n",
              "      <td>0</td>\n",
              "      <td>0</td>\n",
              "    </tr>\n",
              "  </tbody>\n",
              "</table>\n",
              "<p>1338 rows × 11 columns</p>\n",
              "</div>\n",
              "      <button class=\"colab-df-convert\" onclick=\"convertToInteractive('df-0e7b53f3-be3c-40fc-bc3e-fd706641e2fe')\"\n",
              "              title=\"Convert this dataframe to an interactive table.\"\n",
              "              style=\"display:none;\">\n",
              "        \n",
              "  <svg xmlns=\"http://www.w3.org/2000/svg\" height=\"24px\"viewBox=\"0 0 24 24\"\n",
              "       width=\"24px\">\n",
              "    <path d=\"M0 0h24v24H0V0z\" fill=\"none\"/>\n",
              "    <path d=\"M18.56 5.44l.94 2.06.94-2.06 2.06-.94-2.06-.94-.94-2.06-.94 2.06-2.06.94zm-11 1L8.5 8.5l.94-2.06 2.06-.94-2.06-.94L8.5 2.5l-.94 2.06-2.06.94zm10 10l.94 2.06.94-2.06 2.06-.94-2.06-.94-.94-2.06-.94 2.06-2.06.94z\"/><path d=\"M17.41 7.96l-1.37-1.37c-.4-.4-.92-.59-1.43-.59-.52 0-1.04.2-1.43.59L10.3 9.45l-7.72 7.72c-.78.78-.78 2.05 0 2.83L4 21.41c.39.39.9.59 1.41.59.51 0 1.02-.2 1.41-.59l7.78-7.78 2.81-2.81c.8-.78.8-2.07 0-2.86zM5.41 20L4 18.59l7.72-7.72 1.47 1.35L5.41 20z\"/>\n",
              "  </svg>\n",
              "      </button>\n",
              "      \n",
              "  <style>\n",
              "    .colab-df-container {\n",
              "      display:flex;\n",
              "      flex-wrap:wrap;\n",
              "      gap: 12px;\n",
              "    }\n",
              "\n",
              "    .colab-df-convert {\n",
              "      background-color: #E8F0FE;\n",
              "      border: none;\n",
              "      border-radius: 50%;\n",
              "      cursor: pointer;\n",
              "      display: none;\n",
              "      fill: #1967D2;\n",
              "      height: 32px;\n",
              "      padding: 0 0 0 0;\n",
              "      width: 32px;\n",
              "    }\n",
              "\n",
              "    .colab-df-convert:hover {\n",
              "      background-color: #E2EBFA;\n",
              "      box-shadow: 0px 1px 2px rgba(60, 64, 67, 0.3), 0px 1px 3px 1px rgba(60, 64, 67, 0.15);\n",
              "      fill: #174EA6;\n",
              "    }\n",
              "\n",
              "    [theme=dark] .colab-df-convert {\n",
              "      background-color: #3B4455;\n",
              "      fill: #D2E3FC;\n",
              "    }\n",
              "\n",
              "    [theme=dark] .colab-df-convert:hover {\n",
              "      background-color: #434B5C;\n",
              "      box-shadow: 0px 1px 3px 1px rgba(0, 0, 0, 0.15);\n",
              "      filter: drop-shadow(0px 1px 2px rgba(0, 0, 0, 0.3));\n",
              "      fill: #FFFFFF;\n",
              "    }\n",
              "  </style>\n",
              "\n",
              "      <script>\n",
              "        const buttonEl =\n",
              "          document.querySelector('#df-0e7b53f3-be3c-40fc-bc3e-fd706641e2fe button.colab-df-convert');\n",
              "        buttonEl.style.display =\n",
              "          google.colab.kernel.accessAllowed ? 'block' : 'none';\n",
              "\n",
              "        async function convertToInteractive(key) {\n",
              "          const element = document.querySelector('#df-0e7b53f3-be3c-40fc-bc3e-fd706641e2fe');\n",
              "          const dataTable =\n",
              "            await google.colab.kernel.invokeFunction('convertToInteractive',\n",
              "                                                     [key], {});\n",
              "          if (!dataTable) return;\n",
              "\n",
              "          const docLinkHtml = 'Like what you see? Visit the ' +\n",
              "            '<a target=\"_blank\" href=https://colab.research.google.com/notebooks/data_table.ipynb>data table notebook</a>'\n",
              "            + ' to learn more about interactive tables.';\n",
              "          element.innerHTML = '';\n",
              "          dataTable['output_type'] = 'display_data';\n",
              "          await google.colab.output.renderOutput(dataTable, element);\n",
              "          const docLink = document.createElement('div');\n",
              "          docLink.innerHTML = docLinkHtml;\n",
              "          element.appendChild(docLink);\n",
              "        }\n",
              "      </script>\n",
              "    </div>\n",
              "  </div>\n",
              "  "
            ]
          },
          "metadata": {},
          "execution_count": 37
        }
      ]
    },
    {
      "cell_type": "code",
      "source": [
        "y=insurance_onehot['charges']\n",
        "y"
      ],
      "metadata": {
        "colab": {
          "base_uri": "https://localhost:8080/"
        },
        "id": "b8LSLpiwlt0q",
        "outputId": "93a9578a-13cc-4a25-fb02-2d26b95f9605"
      },
      "execution_count": null,
      "outputs": [
        {
          "output_type": "execute_result",
          "data": {
            "text/plain": [
              "0       16884.92400\n",
              "1        1725.55230\n",
              "2        4449.46200\n",
              "3       21984.47061\n",
              "4        3866.85520\n",
              "           ...     \n",
              "1333    10600.54830\n",
              "1334     2205.98080\n",
              "1335     1629.83350\n",
              "1336     2007.94500\n",
              "1337    29141.36030\n",
              "Name: charges, Length: 1338, dtype: float64"
            ]
          },
          "metadata": {},
          "execution_count": 38
        }
      ]
    },
    {
      "cell_type": "code",
      "source": [
        "X.shape,y.shape"
      ],
      "metadata": {
        "colab": {
          "base_uri": "https://localhost:8080/"
        },
        "id": "UDCGaqUnlxs6",
        "outputId": "2c319b4a-3855-4c8e-ada7-93f33c575918"
      },
      "execution_count": null,
      "outputs": [
        {
          "output_type": "execute_result",
          "data": {
            "text/plain": [
              "((1338, 11), (1338,))"
            ]
          },
          "metadata": {},
          "execution_count": 39
        }
      ]
    },
    {
      "cell_type": "code",
      "source": [
        "from sklearn.model_selection import train_test_split\n",
        "X_train,X_test,y_train,y_test=train_test_split(X,y,test_size=0.2,random_state=42)\n"
      ],
      "metadata": {
        "id": "MZ9XHAGul1dR"
      },
      "execution_count": null,
      "outputs": []
    },
    {
      "cell_type": "code",
      "source": [
        "X_train"
      ],
      "metadata": {
        "colab": {
          "base_uri": "https://localhost:8080/",
          "height": 488
        },
        "id": "7ziJdAThAJCO",
        "outputId": "273b9910-6f14-42da-b185-97bd7cf9874a"
      },
      "execution_count": null,
      "outputs": [
        {
          "output_type": "execute_result",
          "data": {
            "text/plain": [
              "      age     bmi  children  sex_female  sex_male  smoker_no  smoker_yes  \\\n",
              "560    46  19.950         2           1         0          1           0   \n",
              "1285   47  24.320         0           1         0          1           0   \n",
              "1142   52  24.860         0           1         0          1           0   \n",
              "969    39  34.320         5           1         0          1           0   \n",
              "486    54  21.470         3           1         0          1           0   \n",
              "...   ...     ...       ...         ...       ...        ...         ...   \n",
              "1095   18  31.350         4           1         0          1           0   \n",
              "1130   39  23.870         5           1         0          1           0   \n",
              "1294   58  25.175         0           0         1          1           0   \n",
              "860    37  47.600         2           1         0          0           1   \n",
              "1126   55  29.900         0           0         1          1           0   \n",
              "\n",
              "      region_northeast  region_northwest  region_southeast  region_southwest  \n",
              "560                  0                 1                 0                 0  \n",
              "1285                 1                 0                 0                 0  \n",
              "1142                 0                 0                 1                 0  \n",
              "969                  0                 0                 1                 0  \n",
              "486                  0                 1                 0                 0  \n",
              "...                ...               ...               ...               ...  \n",
              "1095                 1                 0                 0                 0  \n",
              "1130                 0                 0                 1                 0  \n",
              "1294                 1                 0                 0                 0  \n",
              "860                  0                 0                 0                 1  \n",
              "1126                 0                 0                 0                 1  \n",
              "\n",
              "[1070 rows x 11 columns]"
            ],
            "text/html": [
              "\n",
              "  <div id=\"df-6fb8e02d-72e0-4b21-a5dc-75f70cd7a720\">\n",
              "    <div class=\"colab-df-container\">\n",
              "      <div>\n",
              "<style scoped>\n",
              "    .dataframe tbody tr th:only-of-type {\n",
              "        vertical-align: middle;\n",
              "    }\n",
              "\n",
              "    .dataframe tbody tr th {\n",
              "        vertical-align: top;\n",
              "    }\n",
              "\n",
              "    .dataframe thead th {\n",
              "        text-align: right;\n",
              "    }\n",
              "</style>\n",
              "<table border=\"1\" class=\"dataframe\">\n",
              "  <thead>\n",
              "    <tr style=\"text-align: right;\">\n",
              "      <th></th>\n",
              "      <th>age</th>\n",
              "      <th>bmi</th>\n",
              "      <th>children</th>\n",
              "      <th>sex_female</th>\n",
              "      <th>sex_male</th>\n",
              "      <th>smoker_no</th>\n",
              "      <th>smoker_yes</th>\n",
              "      <th>region_northeast</th>\n",
              "      <th>region_northwest</th>\n",
              "      <th>region_southeast</th>\n",
              "      <th>region_southwest</th>\n",
              "    </tr>\n",
              "  </thead>\n",
              "  <tbody>\n",
              "    <tr>\n",
              "      <th>560</th>\n",
              "      <td>46</td>\n",
              "      <td>19.950</td>\n",
              "      <td>2</td>\n",
              "      <td>1</td>\n",
              "      <td>0</td>\n",
              "      <td>1</td>\n",
              "      <td>0</td>\n",
              "      <td>0</td>\n",
              "      <td>1</td>\n",
              "      <td>0</td>\n",
              "      <td>0</td>\n",
              "    </tr>\n",
              "    <tr>\n",
              "      <th>1285</th>\n",
              "      <td>47</td>\n",
              "      <td>24.320</td>\n",
              "      <td>0</td>\n",
              "      <td>1</td>\n",
              "      <td>0</td>\n",
              "      <td>1</td>\n",
              "      <td>0</td>\n",
              "      <td>1</td>\n",
              "      <td>0</td>\n",
              "      <td>0</td>\n",
              "      <td>0</td>\n",
              "    </tr>\n",
              "    <tr>\n",
              "      <th>1142</th>\n",
              "      <td>52</td>\n",
              "      <td>24.860</td>\n",
              "      <td>0</td>\n",
              "      <td>1</td>\n",
              "      <td>0</td>\n",
              "      <td>1</td>\n",
              "      <td>0</td>\n",
              "      <td>0</td>\n",
              "      <td>0</td>\n",
              "      <td>1</td>\n",
              "      <td>0</td>\n",
              "    </tr>\n",
              "    <tr>\n",
              "      <th>969</th>\n",
              "      <td>39</td>\n",
              "      <td>34.320</td>\n",
              "      <td>5</td>\n",
              "      <td>1</td>\n",
              "      <td>0</td>\n",
              "      <td>1</td>\n",
              "      <td>0</td>\n",
              "      <td>0</td>\n",
              "      <td>0</td>\n",
              "      <td>1</td>\n",
              "      <td>0</td>\n",
              "    </tr>\n",
              "    <tr>\n",
              "      <th>486</th>\n",
              "      <td>54</td>\n",
              "      <td>21.470</td>\n",
              "      <td>3</td>\n",
              "      <td>1</td>\n",
              "      <td>0</td>\n",
              "      <td>1</td>\n",
              "      <td>0</td>\n",
              "      <td>0</td>\n",
              "      <td>1</td>\n",
              "      <td>0</td>\n",
              "      <td>0</td>\n",
              "    </tr>\n",
              "    <tr>\n",
              "      <th>...</th>\n",
              "      <td>...</td>\n",
              "      <td>...</td>\n",
              "      <td>...</td>\n",
              "      <td>...</td>\n",
              "      <td>...</td>\n",
              "      <td>...</td>\n",
              "      <td>...</td>\n",
              "      <td>...</td>\n",
              "      <td>...</td>\n",
              "      <td>...</td>\n",
              "      <td>...</td>\n",
              "    </tr>\n",
              "    <tr>\n",
              "      <th>1095</th>\n",
              "      <td>18</td>\n",
              "      <td>31.350</td>\n",
              "      <td>4</td>\n",
              "      <td>1</td>\n",
              "      <td>0</td>\n",
              "      <td>1</td>\n",
              "      <td>0</td>\n",
              "      <td>1</td>\n",
              "      <td>0</td>\n",
              "      <td>0</td>\n",
              "      <td>0</td>\n",
              "    </tr>\n",
              "    <tr>\n",
              "      <th>1130</th>\n",
              "      <td>39</td>\n",
              "      <td>23.870</td>\n",
              "      <td>5</td>\n",
              "      <td>1</td>\n",
              "      <td>0</td>\n",
              "      <td>1</td>\n",
              "      <td>0</td>\n",
              "      <td>0</td>\n",
              "      <td>0</td>\n",
              "      <td>1</td>\n",
              "      <td>0</td>\n",
              "    </tr>\n",
              "    <tr>\n",
              "      <th>1294</th>\n",
              "      <td>58</td>\n",
              "      <td>25.175</td>\n",
              "      <td>0</td>\n",
              "      <td>0</td>\n",
              "      <td>1</td>\n",
              "      <td>1</td>\n",
              "      <td>0</td>\n",
              "      <td>1</td>\n",
              "      <td>0</td>\n",
              "      <td>0</td>\n",
              "      <td>0</td>\n",
              "    </tr>\n",
              "    <tr>\n",
              "      <th>860</th>\n",
              "      <td>37</td>\n",
              "      <td>47.600</td>\n",
              "      <td>2</td>\n",
              "      <td>1</td>\n",
              "      <td>0</td>\n",
              "      <td>0</td>\n",
              "      <td>1</td>\n",
              "      <td>0</td>\n",
              "      <td>0</td>\n",
              "      <td>0</td>\n",
              "      <td>1</td>\n",
              "    </tr>\n",
              "    <tr>\n",
              "      <th>1126</th>\n",
              "      <td>55</td>\n",
              "      <td>29.900</td>\n",
              "      <td>0</td>\n",
              "      <td>0</td>\n",
              "      <td>1</td>\n",
              "      <td>1</td>\n",
              "      <td>0</td>\n",
              "      <td>0</td>\n",
              "      <td>0</td>\n",
              "      <td>0</td>\n",
              "      <td>1</td>\n",
              "    </tr>\n",
              "  </tbody>\n",
              "</table>\n",
              "<p>1070 rows × 11 columns</p>\n",
              "</div>\n",
              "      <button class=\"colab-df-convert\" onclick=\"convertToInteractive('df-6fb8e02d-72e0-4b21-a5dc-75f70cd7a720')\"\n",
              "              title=\"Convert this dataframe to an interactive table.\"\n",
              "              style=\"display:none;\">\n",
              "        \n",
              "  <svg xmlns=\"http://www.w3.org/2000/svg\" height=\"24px\"viewBox=\"0 0 24 24\"\n",
              "       width=\"24px\">\n",
              "    <path d=\"M0 0h24v24H0V0z\" fill=\"none\"/>\n",
              "    <path d=\"M18.56 5.44l.94 2.06.94-2.06 2.06-.94-2.06-.94-.94-2.06-.94 2.06-2.06.94zm-11 1L8.5 8.5l.94-2.06 2.06-.94-2.06-.94L8.5 2.5l-.94 2.06-2.06.94zm10 10l.94 2.06.94-2.06 2.06-.94-2.06-.94-.94-2.06-.94 2.06-2.06.94z\"/><path d=\"M17.41 7.96l-1.37-1.37c-.4-.4-.92-.59-1.43-.59-.52 0-1.04.2-1.43.59L10.3 9.45l-7.72 7.72c-.78.78-.78 2.05 0 2.83L4 21.41c.39.39.9.59 1.41.59.51 0 1.02-.2 1.41-.59l7.78-7.78 2.81-2.81c.8-.78.8-2.07 0-2.86zM5.41 20L4 18.59l7.72-7.72 1.47 1.35L5.41 20z\"/>\n",
              "  </svg>\n",
              "      </button>\n",
              "      \n",
              "  <style>\n",
              "    .colab-df-container {\n",
              "      display:flex;\n",
              "      flex-wrap:wrap;\n",
              "      gap: 12px;\n",
              "    }\n",
              "\n",
              "    .colab-df-convert {\n",
              "      background-color: #E8F0FE;\n",
              "      border: none;\n",
              "      border-radius: 50%;\n",
              "      cursor: pointer;\n",
              "      display: none;\n",
              "      fill: #1967D2;\n",
              "      height: 32px;\n",
              "      padding: 0 0 0 0;\n",
              "      width: 32px;\n",
              "    }\n",
              "\n",
              "    .colab-df-convert:hover {\n",
              "      background-color: #E2EBFA;\n",
              "      box-shadow: 0px 1px 2px rgba(60, 64, 67, 0.3), 0px 1px 3px 1px rgba(60, 64, 67, 0.15);\n",
              "      fill: #174EA6;\n",
              "    }\n",
              "\n",
              "    [theme=dark] .colab-df-convert {\n",
              "      background-color: #3B4455;\n",
              "      fill: #D2E3FC;\n",
              "    }\n",
              "\n",
              "    [theme=dark] .colab-df-convert:hover {\n",
              "      background-color: #434B5C;\n",
              "      box-shadow: 0px 1px 3px 1px rgba(0, 0, 0, 0.15);\n",
              "      filter: drop-shadow(0px 1px 2px rgba(0, 0, 0, 0.3));\n",
              "      fill: #FFFFFF;\n",
              "    }\n",
              "  </style>\n",
              "\n",
              "      <script>\n",
              "        const buttonEl =\n",
              "          document.querySelector('#df-6fb8e02d-72e0-4b21-a5dc-75f70cd7a720 button.colab-df-convert');\n",
              "        buttonEl.style.display =\n",
              "          google.colab.kernel.accessAllowed ? 'block' : 'none';\n",
              "\n",
              "        async function convertToInteractive(key) {\n",
              "          const element = document.querySelector('#df-6fb8e02d-72e0-4b21-a5dc-75f70cd7a720');\n",
              "          const dataTable =\n",
              "            await google.colab.kernel.invokeFunction('convertToInteractive',\n",
              "                                                     [key], {});\n",
              "          if (!dataTable) return;\n",
              "\n",
              "          const docLinkHtml = 'Like what you see? Visit the ' +\n",
              "            '<a target=\"_blank\" href=https://colab.research.google.com/notebooks/data_table.ipynb>data table notebook</a>'\n",
              "            + ' to learn more about interactive tables.';\n",
              "          element.innerHTML = '';\n",
              "          dataTable['output_type'] = 'display_data';\n",
              "          await google.colab.output.renderOutput(dataTable, element);\n",
              "          const docLink = document.createElement('div');\n",
              "          docLink.innerHTML = docLinkHtml;\n",
              "          element.appendChild(docLink);\n",
              "        }\n",
              "      </script>\n",
              "    </div>\n",
              "  </div>\n",
              "  "
            ]
          },
          "metadata": {},
          "execution_count": 41
        }
      ]
    },
    {
      "cell_type": "code",
      "source": [
        "X_test"
      ],
      "metadata": {
        "colab": {
          "base_uri": "https://localhost:8080/",
          "height": 488
        },
        "id": "ktB3SZg0ALmN",
        "outputId": "dc0ec9b2-8ebf-49a7-d3c6-55b0f18fa348"
      },
      "execution_count": null,
      "outputs": [
        {
          "output_type": "execute_result",
          "data": {
            "text/plain": [
              "      age     bmi  children  sex_female  sex_male  smoker_no  smoker_yes  \\\n",
              "764    45  25.175         2           1         0          1           0   \n",
              "887    36  30.020         0           1         0          1           0   \n",
              "890    64  26.885         0           1         0          0           1   \n",
              "1293   46  25.745         3           0         1          1           0   \n",
              "259    19  31.920         0           0         1          0           1   \n",
              "...   ...     ...       ...         ...       ...        ...         ...   \n",
              "109    63  35.090         0           0         1          0           1   \n",
              "575    58  27.170         0           1         0          1           0   \n",
              "535    38  28.025         1           0         1          1           0   \n",
              "543    54  47.410         0           1         0          0           1   \n",
              "846    51  34.200         1           1         0          1           0   \n",
              "\n",
              "      region_northeast  region_northwest  region_southeast  region_southwest  \n",
              "764                  1                 0                 0                 0  \n",
              "887                  0                 1                 0                 0  \n",
              "890                  0                 1                 0                 0  \n",
              "1293                 0                 1                 0                 0  \n",
              "259                  0                 1                 0                 0  \n",
              "...                ...               ...               ...               ...  \n",
              "109                  0                 0                 1                 0  \n",
              "575                  0                 1                 0                 0  \n",
              "535                  1                 0                 0                 0  \n",
              "543                  0                 0                 1                 0  \n",
              "846                  0                 0                 0                 1  \n",
              "\n",
              "[268 rows x 11 columns]"
            ],
            "text/html": [
              "\n",
              "  <div id=\"df-1e67a848-9217-4f71-add9-8fdcf8ee9f59\">\n",
              "    <div class=\"colab-df-container\">\n",
              "      <div>\n",
              "<style scoped>\n",
              "    .dataframe tbody tr th:only-of-type {\n",
              "        vertical-align: middle;\n",
              "    }\n",
              "\n",
              "    .dataframe tbody tr th {\n",
              "        vertical-align: top;\n",
              "    }\n",
              "\n",
              "    .dataframe thead th {\n",
              "        text-align: right;\n",
              "    }\n",
              "</style>\n",
              "<table border=\"1\" class=\"dataframe\">\n",
              "  <thead>\n",
              "    <tr style=\"text-align: right;\">\n",
              "      <th></th>\n",
              "      <th>age</th>\n",
              "      <th>bmi</th>\n",
              "      <th>children</th>\n",
              "      <th>sex_female</th>\n",
              "      <th>sex_male</th>\n",
              "      <th>smoker_no</th>\n",
              "      <th>smoker_yes</th>\n",
              "      <th>region_northeast</th>\n",
              "      <th>region_northwest</th>\n",
              "      <th>region_southeast</th>\n",
              "      <th>region_southwest</th>\n",
              "    </tr>\n",
              "  </thead>\n",
              "  <tbody>\n",
              "    <tr>\n",
              "      <th>764</th>\n",
              "      <td>45</td>\n",
              "      <td>25.175</td>\n",
              "      <td>2</td>\n",
              "      <td>1</td>\n",
              "      <td>0</td>\n",
              "      <td>1</td>\n",
              "      <td>0</td>\n",
              "      <td>1</td>\n",
              "      <td>0</td>\n",
              "      <td>0</td>\n",
              "      <td>0</td>\n",
              "    </tr>\n",
              "    <tr>\n",
              "      <th>887</th>\n",
              "      <td>36</td>\n",
              "      <td>30.020</td>\n",
              "      <td>0</td>\n",
              "      <td>1</td>\n",
              "      <td>0</td>\n",
              "      <td>1</td>\n",
              "      <td>0</td>\n",
              "      <td>0</td>\n",
              "      <td>1</td>\n",
              "      <td>0</td>\n",
              "      <td>0</td>\n",
              "    </tr>\n",
              "    <tr>\n",
              "      <th>890</th>\n",
              "      <td>64</td>\n",
              "      <td>26.885</td>\n",
              "      <td>0</td>\n",
              "      <td>1</td>\n",
              "      <td>0</td>\n",
              "      <td>0</td>\n",
              "      <td>1</td>\n",
              "      <td>0</td>\n",
              "      <td>1</td>\n",
              "      <td>0</td>\n",
              "      <td>0</td>\n",
              "    </tr>\n",
              "    <tr>\n",
              "      <th>1293</th>\n",
              "      <td>46</td>\n",
              "      <td>25.745</td>\n",
              "      <td>3</td>\n",
              "      <td>0</td>\n",
              "      <td>1</td>\n",
              "      <td>1</td>\n",
              "      <td>0</td>\n",
              "      <td>0</td>\n",
              "      <td>1</td>\n",
              "      <td>0</td>\n",
              "      <td>0</td>\n",
              "    </tr>\n",
              "    <tr>\n",
              "      <th>259</th>\n",
              "      <td>19</td>\n",
              "      <td>31.920</td>\n",
              "      <td>0</td>\n",
              "      <td>0</td>\n",
              "      <td>1</td>\n",
              "      <td>0</td>\n",
              "      <td>1</td>\n",
              "      <td>0</td>\n",
              "      <td>1</td>\n",
              "      <td>0</td>\n",
              "      <td>0</td>\n",
              "    </tr>\n",
              "    <tr>\n",
              "      <th>...</th>\n",
              "      <td>...</td>\n",
              "      <td>...</td>\n",
              "      <td>...</td>\n",
              "      <td>...</td>\n",
              "      <td>...</td>\n",
              "      <td>...</td>\n",
              "      <td>...</td>\n",
              "      <td>...</td>\n",
              "      <td>...</td>\n",
              "      <td>...</td>\n",
              "      <td>...</td>\n",
              "    </tr>\n",
              "    <tr>\n",
              "      <th>109</th>\n",
              "      <td>63</td>\n",
              "      <td>35.090</td>\n",
              "      <td>0</td>\n",
              "      <td>0</td>\n",
              "      <td>1</td>\n",
              "      <td>0</td>\n",
              "      <td>1</td>\n",
              "      <td>0</td>\n",
              "      <td>0</td>\n",
              "      <td>1</td>\n",
              "      <td>0</td>\n",
              "    </tr>\n",
              "    <tr>\n",
              "      <th>575</th>\n",
              "      <td>58</td>\n",
              "      <td>27.170</td>\n",
              "      <td>0</td>\n",
              "      <td>1</td>\n",
              "      <td>0</td>\n",
              "      <td>1</td>\n",
              "      <td>0</td>\n",
              "      <td>0</td>\n",
              "      <td>1</td>\n",
              "      <td>0</td>\n",
              "      <td>0</td>\n",
              "    </tr>\n",
              "    <tr>\n",
              "      <th>535</th>\n",
              "      <td>38</td>\n",
              "      <td>28.025</td>\n",
              "      <td>1</td>\n",
              "      <td>0</td>\n",
              "      <td>1</td>\n",
              "      <td>1</td>\n",
              "      <td>0</td>\n",
              "      <td>1</td>\n",
              "      <td>0</td>\n",
              "      <td>0</td>\n",
              "      <td>0</td>\n",
              "    </tr>\n",
              "    <tr>\n",
              "      <th>543</th>\n",
              "      <td>54</td>\n",
              "      <td>47.410</td>\n",
              "      <td>0</td>\n",
              "      <td>1</td>\n",
              "      <td>0</td>\n",
              "      <td>0</td>\n",
              "      <td>1</td>\n",
              "      <td>0</td>\n",
              "      <td>0</td>\n",
              "      <td>1</td>\n",
              "      <td>0</td>\n",
              "    </tr>\n",
              "    <tr>\n",
              "      <th>846</th>\n",
              "      <td>51</td>\n",
              "      <td>34.200</td>\n",
              "      <td>1</td>\n",
              "      <td>1</td>\n",
              "      <td>0</td>\n",
              "      <td>1</td>\n",
              "      <td>0</td>\n",
              "      <td>0</td>\n",
              "      <td>0</td>\n",
              "      <td>0</td>\n",
              "      <td>1</td>\n",
              "    </tr>\n",
              "  </tbody>\n",
              "</table>\n",
              "<p>268 rows × 11 columns</p>\n",
              "</div>\n",
              "      <button class=\"colab-df-convert\" onclick=\"convertToInteractive('df-1e67a848-9217-4f71-add9-8fdcf8ee9f59')\"\n",
              "              title=\"Convert this dataframe to an interactive table.\"\n",
              "              style=\"display:none;\">\n",
              "        \n",
              "  <svg xmlns=\"http://www.w3.org/2000/svg\" height=\"24px\"viewBox=\"0 0 24 24\"\n",
              "       width=\"24px\">\n",
              "    <path d=\"M0 0h24v24H0V0z\" fill=\"none\"/>\n",
              "    <path d=\"M18.56 5.44l.94 2.06.94-2.06 2.06-.94-2.06-.94-.94-2.06-.94 2.06-2.06.94zm-11 1L8.5 8.5l.94-2.06 2.06-.94-2.06-.94L8.5 2.5l-.94 2.06-2.06.94zm10 10l.94 2.06.94-2.06 2.06-.94-2.06-.94-.94-2.06-.94 2.06-2.06.94z\"/><path d=\"M17.41 7.96l-1.37-1.37c-.4-.4-.92-.59-1.43-.59-.52 0-1.04.2-1.43.59L10.3 9.45l-7.72 7.72c-.78.78-.78 2.05 0 2.83L4 21.41c.39.39.9.59 1.41.59.51 0 1.02-.2 1.41-.59l7.78-7.78 2.81-2.81c.8-.78.8-2.07 0-2.86zM5.41 20L4 18.59l7.72-7.72 1.47 1.35L5.41 20z\"/>\n",
              "  </svg>\n",
              "      </button>\n",
              "      \n",
              "  <style>\n",
              "    .colab-df-container {\n",
              "      display:flex;\n",
              "      flex-wrap:wrap;\n",
              "      gap: 12px;\n",
              "    }\n",
              "\n",
              "    .colab-df-convert {\n",
              "      background-color: #E8F0FE;\n",
              "      border: none;\n",
              "      border-radius: 50%;\n",
              "      cursor: pointer;\n",
              "      display: none;\n",
              "      fill: #1967D2;\n",
              "      height: 32px;\n",
              "      padding: 0 0 0 0;\n",
              "      width: 32px;\n",
              "    }\n",
              "\n",
              "    .colab-df-convert:hover {\n",
              "      background-color: #E2EBFA;\n",
              "      box-shadow: 0px 1px 2px rgba(60, 64, 67, 0.3), 0px 1px 3px 1px rgba(60, 64, 67, 0.15);\n",
              "      fill: #174EA6;\n",
              "    }\n",
              "\n",
              "    [theme=dark] .colab-df-convert {\n",
              "      background-color: #3B4455;\n",
              "      fill: #D2E3FC;\n",
              "    }\n",
              "\n",
              "    [theme=dark] .colab-df-convert:hover {\n",
              "      background-color: #434B5C;\n",
              "      box-shadow: 0px 1px 3px 1px rgba(0, 0, 0, 0.15);\n",
              "      filter: drop-shadow(0px 1px 2px rgba(0, 0, 0, 0.3));\n",
              "      fill: #FFFFFF;\n",
              "    }\n",
              "  </style>\n",
              "\n",
              "      <script>\n",
              "        const buttonEl =\n",
              "          document.querySelector('#df-1e67a848-9217-4f71-add9-8fdcf8ee9f59 button.colab-df-convert');\n",
              "        buttonEl.style.display =\n",
              "          google.colab.kernel.accessAllowed ? 'block' : 'none';\n",
              "\n",
              "        async function convertToInteractive(key) {\n",
              "          const element = document.querySelector('#df-1e67a848-9217-4f71-add9-8fdcf8ee9f59');\n",
              "          const dataTable =\n",
              "            await google.colab.kernel.invokeFunction('convertToInteractive',\n",
              "                                                     [key], {});\n",
              "          if (!dataTable) return;\n",
              "\n",
              "          const docLinkHtml = 'Like what you see? Visit the ' +\n",
              "            '<a target=\"_blank\" href=https://colab.research.google.com/notebooks/data_table.ipynb>data table notebook</a>'\n",
              "            + ' to learn more about interactive tables.';\n",
              "          element.innerHTML = '';\n",
              "          dataTable['output_type'] = 'display_data';\n",
              "          await google.colab.output.renderOutput(dataTable, element);\n",
              "          const docLink = document.createElement('div');\n",
              "          docLink.innerHTML = docLinkHtml;\n",
              "          element.appendChild(docLink);\n",
              "        }\n",
              "      </script>\n",
              "    </div>\n",
              "  </div>\n",
              "  "
            ]
          },
          "metadata": {},
          "execution_count": 42
        }
      ]
    },
    {
      "cell_type": "code",
      "source": [
        "# build a neural network\n",
        "tf.random.set_seed=42\n",
        "\n",
        "insurance_model=tf.keras.Sequential(\n",
        "    [\n",
        "        tf.keras.layers.Dense(10),\n",
        "        tf.keras.layers.Dense(1)\n",
        "    ]\n",
        ")\n",
        "insurance_model.compile(\n",
        "    loss=tf.keras.losses.mae,\n",
        "    optimizer=tf.keras.optimizers.SGD(),\n",
        "    metrics=['mae']\n",
        ")\n",
        "insurance_model.fit(X_train,y_train,epochs=100)"
      ],
      "metadata": {
        "colab": {
          "base_uri": "https://localhost:8080/"
        },
        "id": "dGFJFkb2ASfM",
        "outputId": "7f6a8f6c-ff7d-498d-8337-e4121710ca47"
      },
      "execution_count": null,
      "outputs": [
        {
          "output_type": "stream",
          "name": "stdout",
          "text": [
            "Epoch 1/100\n",
            "34/34 [==============================] - 0s 930us/step - loss: 8631.1699 - mae: 8631.1699\n",
            "Epoch 2/100\n",
            "34/34 [==============================] - 0s 875us/step - loss: 7885.9961 - mae: 7885.9961\n",
            "Epoch 3/100\n",
            "34/34 [==============================] - 0s 878us/step - loss: 7603.3013 - mae: 7603.3013\n",
            "Epoch 4/100\n",
            "34/34 [==============================] - 0s 896us/step - loss: 7823.3589 - mae: 7823.3589\n",
            "Epoch 5/100\n",
            "34/34 [==============================] - 0s 1ms/step - loss: 7659.8521 - mae: 7659.8521\n",
            "Epoch 6/100\n",
            "34/34 [==============================] - 0s 1ms/step - loss: 7586.3882 - mae: 7586.3882\n",
            "Epoch 7/100\n",
            "34/34 [==============================] - 0s 948us/step - loss: 7565.8052 - mae: 7565.8052\n",
            "Epoch 8/100\n",
            "34/34 [==============================] - 0s 914us/step - loss: 7790.4629 - mae: 7790.4629\n",
            "Epoch 9/100\n",
            "34/34 [==============================] - 0s 908us/step - loss: 7599.0791 - mae: 7599.0791\n",
            "Epoch 10/100\n",
            "34/34 [==============================] - 0s 852us/step - loss: 7772.8926 - mae: 7772.8926\n",
            "Epoch 11/100\n",
            "34/34 [==============================] - 0s 867us/step - loss: 7442.7949 - mae: 7442.7949\n",
            "Epoch 12/100\n",
            "34/34 [==============================] - 0s 1ms/step - loss: 7633.3530 - mae: 7633.3530\n",
            "Epoch 13/100\n",
            "34/34 [==============================] - 0s 921us/step - loss: 7755.0718 - mae: 7755.0718\n",
            "Epoch 14/100\n",
            "34/34 [==============================] - 0s 1ms/step - loss: 7703.1006 - mae: 7703.1006\n",
            "Epoch 15/100\n",
            "34/34 [==============================] - 0s 939us/step - loss: 7395.8096 - mae: 7395.8096\n",
            "Epoch 16/100\n",
            "34/34 [==============================] - 0s 959us/step - loss: 7773.0117 - mae: 7773.0117\n",
            "Epoch 17/100\n",
            "34/34 [==============================] - 0s 967us/step - loss: 7493.9004 - mae: 7493.9004\n",
            "Epoch 18/100\n",
            "34/34 [==============================] - 0s 927us/step - loss: 7815.0376 - mae: 7815.0376\n",
            "Epoch 19/100\n",
            "34/34 [==============================] - 0s 1ms/step - loss: 7720.2300 - mae: 7720.2300\n",
            "Epoch 20/100\n",
            "34/34 [==============================] - 0s 903us/step - loss: 7946.0859 - mae: 7946.0859\n",
            "Epoch 21/100\n",
            "34/34 [==============================] - 0s 897us/step - loss: 7342.1792 - mae: 7342.1792\n",
            "Epoch 22/100\n",
            "34/34 [==============================] - 0s 931us/step - loss: 7800.8418 - mae: 7800.8418\n",
            "Epoch 23/100\n",
            "34/34 [==============================] - 0s 894us/step - loss: 7700.9531 - mae: 7700.9531\n",
            "Epoch 24/100\n",
            "34/34 [==============================] - 0s 905us/step - loss: 7505.6685 - mae: 7505.6685\n",
            "Epoch 25/100\n",
            "34/34 [==============================] - 0s 985us/step - loss: 7660.1406 - mae: 7660.1406\n",
            "Epoch 26/100\n",
            "34/34 [==============================] - 0s 862us/step - loss: 7668.0400 - mae: 7668.0400\n",
            "Epoch 27/100\n",
            "34/34 [==============================] - 0s 897us/step - loss: 7381.6582 - mae: 7381.6582\n",
            "Epoch 28/100\n",
            "34/34 [==============================] - 0s 897us/step - loss: 7490.3530 - mae: 7490.3530\n",
            "Epoch 29/100\n",
            "34/34 [==============================] - 0s 846us/step - loss: 7694.5571 - mae: 7694.5571\n",
            "Epoch 30/100\n",
            "34/34 [==============================] - 0s 896us/step - loss: 7429.4858 - mae: 7429.4858\n",
            "Epoch 31/100\n",
            "34/34 [==============================] - 0s 906us/step - loss: 7364.4375 - mae: 7364.4375\n",
            "Epoch 32/100\n",
            "34/34 [==============================] - 0s 940us/step - loss: 7537.7974 - mae: 7537.7974\n",
            "Epoch 33/100\n",
            "34/34 [==============================] - 0s 915us/step - loss: 7444.7710 - mae: 7444.7710\n",
            "Epoch 34/100\n",
            "34/34 [==============================] - 0s 1ms/step - loss: 7526.4292 - mae: 7526.4292\n",
            "Epoch 35/100\n",
            "34/34 [==============================] - 0s 945us/step - loss: 7443.5322 - mae: 7443.5322\n",
            "Epoch 36/100\n",
            "34/34 [==============================] - 0s 997us/step - loss: 7586.9229 - mae: 7586.9229\n",
            "Epoch 37/100\n",
            "34/34 [==============================] - 0s 1ms/step - loss: 7527.5571 - mae: 7527.5571\n",
            "Epoch 38/100\n",
            "34/34 [==============================] - 0s 881us/step - loss: 7400.6191 - mae: 7400.6191\n",
            "Epoch 39/100\n",
            "34/34 [==============================] - 0s 944us/step - loss: 7520.1655 - mae: 7520.1655\n",
            "Epoch 40/100\n",
            "34/34 [==============================] - 0s 991us/step - loss: 7488.5034 - mae: 7488.5034\n",
            "Epoch 41/100\n",
            "34/34 [==============================] - 0s 918us/step - loss: 7690.0610 - mae: 7690.0610\n",
            "Epoch 42/100\n",
            "34/34 [==============================] - 0s 987us/step - loss: 7396.4346 - mae: 7396.4346\n",
            "Epoch 43/100\n",
            "34/34 [==============================] - 0s 861us/step - loss: 7729.7344 - mae: 7729.7344\n",
            "Epoch 44/100\n",
            "34/34 [==============================] - 0s 866us/step - loss: 7475.2354 - mae: 7475.2354\n",
            "Epoch 45/100\n",
            "34/34 [==============================] - 0s 907us/step - loss: 7496.4375 - mae: 7496.4375\n",
            "Epoch 46/100\n",
            "34/34 [==============================] - 0s 1ms/step - loss: 7393.9805 - mae: 7393.9805\n",
            "Epoch 47/100\n",
            "34/34 [==============================] - 0s 884us/step - loss: 7432.9893 - mae: 7432.9893\n",
            "Epoch 48/100\n",
            "34/34 [==============================] - 0s 902us/step - loss: 7615.9551 - mae: 7615.9551\n",
            "Epoch 49/100\n",
            "34/34 [==============================] - 0s 932us/step - loss: 7534.0488 - mae: 7534.0488\n",
            "Epoch 50/100\n",
            "34/34 [==============================] - 0s 905us/step - loss: 7457.4150 - mae: 7457.4150\n",
            "Epoch 51/100\n",
            "34/34 [==============================] - 0s 941us/step - loss: 7421.2715 - mae: 7421.2715\n",
            "Epoch 52/100\n",
            "34/34 [==============================] - 0s 977us/step - loss: 7437.3032 - mae: 7437.3032\n",
            "Epoch 53/100\n",
            "34/34 [==============================] - 0s 933us/step - loss: 7487.2114 - mae: 7487.2114\n",
            "Epoch 54/100\n",
            "34/34 [==============================] - 0s 903us/step - loss: 7366.3042 - mae: 7366.3042\n",
            "Epoch 55/100\n",
            "34/34 [==============================] - 0s 911us/step - loss: 7414.4595 - mae: 7414.4595\n",
            "Epoch 56/100\n",
            "34/34 [==============================] - 0s 888us/step - loss: 7372.9404 - mae: 7372.9404\n",
            "Epoch 57/100\n",
            "34/34 [==============================] - 0s 967us/step - loss: 7533.6011 - mae: 7533.6011\n",
            "Epoch 58/100\n",
            "34/34 [==============================] - 0s 1ms/step - loss: 7511.7788 - mae: 7511.7788\n",
            "Epoch 59/100\n",
            "34/34 [==============================] - 0s 1ms/step - loss: 7670.4805 - mae: 7670.4805\n",
            "Epoch 60/100\n",
            "34/34 [==============================] - 0s 945us/step - loss: 7407.4937 - mae: 7407.4937\n",
            "Epoch 61/100\n",
            "34/34 [==============================] - 0s 934us/step - loss: 7427.7148 - mae: 7427.7148\n",
            "Epoch 62/100\n",
            "34/34 [==============================] - 0s 933us/step - loss: 7439.9033 - mae: 7439.9033\n",
            "Epoch 63/100\n",
            "34/34 [==============================] - 0s 1ms/step - loss: 7404.4302 - mae: 7404.4302\n",
            "Epoch 64/100\n",
            "34/34 [==============================] - 0s 940us/step - loss: 7244.3232 - mae: 7244.3232\n",
            "Epoch 65/100\n",
            "34/34 [==============================] - 0s 1ms/step - loss: 7499.5044 - mae: 7499.5044\n",
            "Epoch 66/100\n",
            "34/34 [==============================] - 0s 896us/step - loss: 7294.8735 - mae: 7294.8735\n",
            "Epoch 67/100\n",
            "34/34 [==============================] - 0s 922us/step - loss: 7446.8027 - mae: 7446.8027\n",
            "Epoch 68/100\n",
            "34/34 [==============================] - 0s 965us/step - loss: 7592.7451 - mae: 7592.7451\n",
            "Epoch 69/100\n",
            "34/34 [==============================] - 0s 875us/step - loss: 7594.0337 - mae: 7594.0337\n",
            "Epoch 70/100\n",
            "34/34 [==============================] - 0s 1ms/step - loss: 7692.7432 - mae: 7692.7432\n",
            "Epoch 71/100\n",
            "34/34 [==============================] - 0s 900us/step - loss: 7433.3667 - mae: 7433.3667\n",
            "Epoch 72/100\n",
            "34/34 [==============================] - 0s 1ms/step - loss: 7407.8877 - mae: 7407.8877\n",
            "Epoch 73/100\n",
            "34/34 [==============================] - 0s 998us/step - loss: 7412.7227 - mae: 7412.7227\n",
            "Epoch 74/100\n",
            "34/34 [==============================] - 0s 909us/step - loss: 7474.1680 - mae: 7474.1680\n",
            "Epoch 75/100\n",
            "34/34 [==============================] - 0s 929us/step - loss: 7284.6826 - mae: 7284.6826\n",
            "Epoch 76/100\n",
            "34/34 [==============================] - 0s 859us/step - loss: 7259.4199 - mae: 7259.4199\n",
            "Epoch 77/100\n",
            "34/34 [==============================] - 0s 892us/step - loss: 7534.4653 - mae: 7534.4653\n",
            "Epoch 78/100\n",
            "34/34 [==============================] - 0s 901us/step - loss: 7131.1421 - mae: 7131.1421\n",
            "Epoch 79/100\n",
            "34/34 [==============================] - 0s 885us/step - loss: 7497.5176 - mae: 7497.5176\n",
            "Epoch 80/100\n",
            "34/34 [==============================] - 0s 875us/step - loss: 7221.8208 - mae: 7221.8208\n",
            "Epoch 81/100\n",
            "34/34 [==============================] - 0s 882us/step - loss: 7353.6406 - mae: 7353.6406\n",
            "Epoch 82/100\n",
            "34/34 [==============================] - 0s 948us/step - loss: 7272.2041 - mae: 7272.2041\n",
            "Epoch 83/100\n",
            "34/34 [==============================] - 0s 876us/step - loss: 7444.7271 - mae: 7444.7271\n",
            "Epoch 84/100\n",
            "34/34 [==============================] - 0s 899us/step - loss: 7142.1079 - mae: 7142.1079\n",
            "Epoch 85/100\n",
            "34/34 [==============================] - 0s 1ms/step - loss: 7435.7485 - mae: 7435.7485\n",
            "Epoch 86/100\n",
            "34/34 [==============================] - 0s 879us/step - loss: 7503.7109 - mae: 7503.7109\n",
            "Epoch 87/100\n",
            "34/34 [==============================] - 0s 921us/step - loss: 7277.6284 - mae: 7277.6284\n",
            "Epoch 88/100\n",
            "34/34 [==============================] - 0s 1ms/step - loss: 7263.2910 - mae: 7263.2910\n",
            "Epoch 89/100\n",
            "34/34 [==============================] - 0s 888us/step - loss: 7379.3501 - mae: 7379.3501\n",
            "Epoch 90/100\n",
            "34/34 [==============================] - 0s 884us/step - loss: 6929.1597 - mae: 6929.1597\n",
            "Epoch 91/100\n",
            "34/34 [==============================] - 0s 893us/step - loss: 7018.6621 - mae: 7018.6621\n",
            "Epoch 92/100\n",
            "34/34 [==============================] - 0s 933us/step - loss: 7244.2134 - mae: 7244.2134\n",
            "Epoch 93/100\n",
            "34/34 [==============================] - 0s 1ms/step - loss: 7568.0986 - mae: 7568.0986\n",
            "Epoch 94/100\n",
            "34/34 [==============================] - 0s 1ms/step - loss: 7357.2661 - mae: 7357.2661\n",
            "Epoch 95/100\n",
            "34/34 [==============================] - 0s 984us/step - loss: 7476.5503 - mae: 7476.5503\n",
            "Epoch 96/100\n",
            "34/34 [==============================] - 0s 904us/step - loss: 7176.8501 - mae: 7176.8501\n",
            "Epoch 97/100\n",
            "34/34 [==============================] - 0s 944us/step - loss: 7177.4971 - mae: 7177.4971\n",
            "Epoch 98/100\n",
            "34/34 [==============================] - 0s 958us/step - loss: 7335.5103 - mae: 7335.5103\n",
            "Epoch 99/100\n",
            "34/34 [==============================] - 0s 1ms/step - loss: 7438.1997 - mae: 7438.1997\n",
            "Epoch 100/100\n",
            "34/34 [==============================] - 0s 908us/step - loss: 7187.0220 - mae: 7187.0220\n"
          ]
        },
        {
          "output_type": "execute_result",
          "data": {
            "text/plain": [
              "<keras.callbacks.History at 0x7fd35ff09840>"
            ]
          },
          "metadata": {},
          "execution_count": 45
        }
      ]
    },
    {
      "cell_type": "code",
      "source": [
        "X_train.shape"
      ],
      "metadata": {
        "colab": {
          "base_uri": "https://localhost:8080/"
        },
        "id": "z_CLKcR3BGJs",
        "outputId": "2570fbf6-5d4d-47b5-df6f-88d5204a3db7"
      },
      "execution_count": null,
      "outputs": [
        {
          "output_type": "execute_result",
          "data": {
            "text/plain": [
              "(1070, 11)"
            ]
          },
          "metadata": {},
          "execution_count": 46
        }
      ]
    },
    {
      "cell_type": "code",
      "source": [
        "# check the results of insurance model\n",
        "insurance_model.evaluate(X_test,y_test)"
      ],
      "metadata": {
        "colab": {
          "base_uri": "https://localhost:8080/"
        },
        "id": "VSR6hEOMBMMP",
        "outputId": "f6186d34-ccec-413f-deb1-71cc69ad035f"
      },
      "execution_count": null,
      "outputs": [
        {
          "output_type": "stream",
          "name": "stdout",
          "text": [
            "9/9 [==============================] - 0s 2ms/step - loss: 8754.3770 - mae: 8754.3770\n"
          ]
        },
        {
          "output_type": "execute_result",
          "data": {
            "text/plain": [
              "[8754.376953125, 8754.376953125]"
            ]
          },
          "metadata": {},
          "execution_count": 47
        }
      ]
    },
    {
      "cell_type": "code",
      "source": [
        "# above is very differ\n",
        "# build a neural network\n",
        "tf.random.set_seed=42\n",
        "\n",
        "insurance_model=tf.keras.Sequential(\n",
        "    [\n",
        "        tf.keras.layers.Dense(100),\n",
        "        tf.keras.layers.Dense(100),\n",
        "        tf.keras.layers.Dense(1)\n",
        "    ]\n",
        ")\n",
        "insurance_model.compile(\n",
        "    loss=tf.keras.losses.mae,\n",
        "    optimizer=tf.keras.optimizers.Adam(),\n",
        "    metrics=['mae']\n",
        ")\n",
        "insurance_model.fit(X_train,y_train,epochs=100,verbose=1)"
      ],
      "metadata": {
        "colab": {
          "base_uri": "https://localhost:8080/"
        },
        "id": "ixnGAKfmBrNM",
        "outputId": "5559fc98-2f12-4f91-848c-27f6c0e670ce"
      },
      "execution_count": null,
      "outputs": [
        {
          "output_type": "stream",
          "name": "stdout",
          "text": [
            "Epoch 1/100\n",
            "34/34 [==============================] - 2s 2ms/step - loss: 13181.4561 - mae: 13181.4561\n",
            "Epoch 2/100\n",
            "34/34 [==============================] - 0s 2ms/step - loss: 12404.0693 - mae: 12404.0693\n",
            "Epoch 3/100\n",
            "34/34 [==============================] - 0s 5ms/step - loss: 10286.6992 - mae: 10286.6992\n",
            "Epoch 4/100\n",
            "34/34 [==============================] - 0s 3ms/step - loss: 7721.5493 - mae: 7721.5493\n",
            "Epoch 5/100\n",
            "34/34 [==============================] - 0s 2ms/step - loss: 7365.3149 - mae: 7365.3149\n",
            "Epoch 6/100\n",
            "34/34 [==============================] - 0s 1ms/step - loss: 7326.1172 - mae: 7326.1172\n",
            "Epoch 7/100\n",
            "34/34 [==============================] - 0s 1ms/step - loss: 7274.5801 - mae: 7274.5801\n",
            "Epoch 8/100\n",
            "34/34 [==============================] - 0s 1ms/step - loss: 7233.5029 - mae: 7233.5029\n",
            "Epoch 9/100\n",
            "34/34 [==============================] - 0s 1ms/step - loss: 7191.0479 - mae: 7191.0479\n",
            "Epoch 10/100\n",
            "34/34 [==============================] - 0s 1ms/step - loss: 7148.8203 - mae: 7148.8203\n",
            "Epoch 11/100\n",
            "34/34 [==============================] - 0s 1ms/step - loss: 7105.5791 - mae: 7105.5791\n",
            "Epoch 12/100\n",
            "34/34 [==============================] - 0s 1ms/step - loss: 7054.8711 - mae: 7054.8711\n",
            "Epoch 13/100\n",
            "34/34 [==============================] - 0s 2ms/step - loss: 7002.8418 - mae: 7002.8418\n",
            "Epoch 14/100\n",
            "34/34 [==============================] - 0s 1ms/step - loss: 6950.9556 - mae: 6950.9556\n",
            "Epoch 15/100\n",
            "34/34 [==============================] - 0s 1ms/step - loss: 6902.2300 - mae: 6902.2300\n",
            "Epoch 16/100\n",
            "34/34 [==============================] - 0s 1ms/step - loss: 6842.0815 - mae: 6842.0815\n",
            "Epoch 17/100\n",
            "34/34 [==============================] - 0s 1ms/step - loss: 6786.2148 - mae: 6786.2148\n",
            "Epoch 18/100\n",
            "34/34 [==============================] - 0s 1ms/step - loss: 6722.1460 - mae: 6722.1460\n",
            "Epoch 19/100\n",
            "34/34 [==============================] - 0s 2ms/step - loss: 6661.4648 - mae: 6661.4648\n",
            "Epoch 20/100\n",
            "34/34 [==============================] - 0s 1ms/step - loss: 6607.4009 - mae: 6607.4009\n",
            "Epoch 21/100\n",
            "34/34 [==============================] - 0s 1ms/step - loss: 6560.8052 - mae: 6560.8052\n",
            "Epoch 22/100\n",
            "34/34 [==============================] - 0s 1ms/step - loss: 6536.5820 - mae: 6536.5820\n",
            "Epoch 23/100\n",
            "34/34 [==============================] - 0s 1ms/step - loss: 6506.8481 - mae: 6506.8481\n",
            "Epoch 24/100\n",
            "34/34 [==============================] - 0s 1ms/step - loss: 6486.4141 - mae: 6486.4141\n",
            "Epoch 25/100\n",
            "34/34 [==============================] - 0s 1ms/step - loss: 6457.1011 - mae: 6457.1011\n",
            "Epoch 26/100\n",
            "34/34 [==============================] - 0s 1ms/step - loss: 6438.4956 - mae: 6438.4956\n",
            "Epoch 27/100\n",
            "34/34 [==============================] - 0s 1ms/step - loss: 6415.5161 - mae: 6415.5161\n",
            "Epoch 28/100\n",
            "34/34 [==============================] - 0s 1ms/step - loss: 6391.2573 - mae: 6391.2573\n",
            "Epoch 29/100\n",
            "34/34 [==============================] - 0s 1ms/step - loss: 6367.5732 - mae: 6367.5732\n",
            "Epoch 30/100\n",
            "34/34 [==============================] - 0s 1ms/step - loss: 6352.1606 - mae: 6352.1606\n",
            "Epoch 31/100\n",
            "34/34 [==============================] - 0s 1ms/step - loss: 6321.1406 - mae: 6321.1406\n",
            "Epoch 32/100\n",
            "34/34 [==============================] - 0s 2ms/step - loss: 6296.1504 - mae: 6296.1504\n",
            "Epoch 33/100\n",
            "34/34 [==============================] - 0s 1ms/step - loss: 6270.3950 - mae: 6270.3950\n",
            "Epoch 34/100\n",
            "34/34 [==============================] - 0s 1ms/step - loss: 6241.9653 - mae: 6241.9653\n",
            "Epoch 35/100\n",
            "34/34 [==============================] - 0s 1ms/step - loss: 6212.0903 - mae: 6212.0903\n",
            "Epoch 36/100\n",
            "34/34 [==============================] - 0s 2ms/step - loss: 6180.8809 - mae: 6180.8809\n",
            "Epoch 37/100\n",
            "34/34 [==============================] - 0s 2ms/step - loss: 6143.2437 - mae: 6143.2437\n",
            "Epoch 38/100\n",
            "34/34 [==============================] - 0s 2ms/step - loss: 6113.0869 - mae: 6113.0869\n",
            "Epoch 39/100\n",
            "34/34 [==============================] - 0s 1ms/step - loss: 6081.9048 - mae: 6081.9048\n",
            "Epoch 40/100\n",
            "34/34 [==============================] - 0s 1ms/step - loss: 6032.2026 - mae: 6032.2026\n",
            "Epoch 41/100\n",
            "34/34 [==============================] - 0s 1ms/step - loss: 5988.5972 - mae: 5988.5972\n",
            "Epoch 42/100\n",
            "34/34 [==============================] - 0s 1ms/step - loss: 5938.1245 - mae: 5938.1245\n",
            "Epoch 43/100\n",
            "34/34 [==============================] - 0s 1ms/step - loss: 5896.0400 - mae: 5896.0400\n",
            "Epoch 44/100\n",
            "34/34 [==============================] - 0s 1ms/step - loss: 5832.7876 - mae: 5832.7876\n",
            "Epoch 45/100\n",
            "34/34 [==============================] - 0s 1ms/step - loss: 5774.7134 - mae: 5774.7134\n",
            "Epoch 46/100\n",
            "34/34 [==============================] - 0s 1ms/step - loss: 5728.5635 - mae: 5728.5635\n",
            "Epoch 47/100\n",
            "34/34 [==============================] - 0s 1ms/step - loss: 5648.2061 - mae: 5648.2061\n",
            "Epoch 48/100\n",
            "34/34 [==============================] - 0s 1ms/step - loss: 5563.6650 - mae: 5563.6650\n",
            "Epoch 49/100\n",
            "34/34 [==============================] - 0s 1ms/step - loss: 5474.8467 - mae: 5474.8467\n",
            "Epoch 50/100\n",
            "34/34 [==============================] - 0s 1ms/step - loss: 5387.1094 - mae: 5387.1094\n",
            "Epoch 51/100\n",
            "34/34 [==============================] - 0s 1ms/step - loss: 5279.0879 - mae: 5279.0879\n",
            "Epoch 52/100\n",
            "34/34 [==============================] - 0s 1ms/step - loss: 5168.2573 - mae: 5168.2573\n",
            "Epoch 53/100\n",
            "34/34 [==============================] - 0s 1ms/step - loss: 5040.8032 - mae: 5040.8032\n",
            "Epoch 54/100\n",
            "34/34 [==============================] - 0s 1ms/step - loss: 4906.3750 - mae: 4906.3750\n",
            "Epoch 55/100\n",
            "34/34 [==============================] - 0s 1ms/step - loss: 4736.8921 - mae: 4736.8921\n",
            "Epoch 56/100\n",
            "34/34 [==============================] - 0s 1ms/step - loss: 4569.9854 - mae: 4569.9854\n",
            "Epoch 57/100\n",
            "34/34 [==============================] - 0s 1ms/step - loss: 4387.2754 - mae: 4387.2754\n",
            "Epoch 58/100\n",
            "34/34 [==============================] - 0s 1ms/step - loss: 4231.5933 - mae: 4231.5933\n",
            "Epoch 59/100\n",
            "34/34 [==============================] - 0s 1ms/step - loss: 4051.9495 - mae: 4051.9495\n",
            "Epoch 60/100\n",
            "34/34 [==============================] - 0s 1ms/step - loss: 3955.7197 - mae: 3955.7197\n",
            "Epoch 61/100\n",
            "34/34 [==============================] - 0s 1ms/step - loss: 3898.9780 - mae: 3898.9780\n",
            "Epoch 62/100\n",
            "34/34 [==============================] - 0s 1ms/step - loss: 3868.8984 - mae: 3868.8984\n",
            "Epoch 63/100\n",
            "34/34 [==============================] - 0s 1ms/step - loss: 3841.9814 - mae: 3841.9814\n",
            "Epoch 64/100\n",
            "34/34 [==============================] - 0s 1ms/step - loss: 3825.5200 - mae: 3825.5200\n",
            "Epoch 65/100\n",
            "34/34 [==============================] - 0s 1ms/step - loss: 3813.1658 - mae: 3813.1658\n",
            "Epoch 66/100\n",
            "34/34 [==============================] - 0s 1ms/step - loss: 3794.1711 - mae: 3794.1711\n",
            "Epoch 67/100\n",
            "34/34 [==============================] - 0s 1ms/step - loss: 3802.3186 - mae: 3802.3186\n",
            "Epoch 68/100\n",
            "34/34 [==============================] - 0s 1ms/step - loss: 3787.0264 - mae: 3787.0264\n",
            "Epoch 69/100\n",
            "34/34 [==============================] - 0s 1ms/step - loss: 3788.1475 - mae: 3788.1475\n",
            "Epoch 70/100\n",
            "34/34 [==============================] - 0s 1ms/step - loss: 3775.8789 - mae: 3775.8789\n",
            "Epoch 71/100\n",
            "34/34 [==============================] - 0s 1ms/step - loss: 3773.4070 - mae: 3773.4070\n",
            "Epoch 72/100\n",
            "34/34 [==============================] - 0s 1ms/step - loss: 3768.1506 - mae: 3768.1506\n",
            "Epoch 73/100\n",
            "34/34 [==============================] - 0s 1ms/step - loss: 3785.5679 - mae: 3785.5679\n",
            "Epoch 74/100\n",
            "34/34 [==============================] - 0s 1ms/step - loss: 3774.1008 - mae: 3774.1008\n",
            "Epoch 75/100\n",
            "34/34 [==============================] - 0s 1ms/step - loss: 3760.8464 - mae: 3760.8464\n",
            "Epoch 76/100\n",
            "34/34 [==============================] - 0s 1ms/step - loss: 3750.0530 - mae: 3750.0530\n",
            "Epoch 77/100\n",
            "34/34 [==============================] - 0s 1ms/step - loss: 3762.6345 - mae: 3762.6345\n",
            "Epoch 78/100\n",
            "34/34 [==============================] - 0s 1ms/step - loss: 3747.9255 - mae: 3747.9255\n",
            "Epoch 79/100\n",
            "34/34 [==============================] - 0s 1ms/step - loss: 3764.3313 - mae: 3764.3313\n",
            "Epoch 80/100\n",
            "34/34 [==============================] - 0s 1ms/step - loss: 3758.3928 - mae: 3758.3928\n",
            "Epoch 81/100\n",
            "34/34 [==============================] - 0s 1ms/step - loss: 3735.3535 - mae: 3735.3535\n",
            "Epoch 82/100\n",
            "34/34 [==============================] - 0s 1ms/step - loss: 3739.3340 - mae: 3739.3340\n",
            "Epoch 83/100\n",
            "34/34 [==============================] - 0s 1ms/step - loss: 3736.6453 - mae: 3736.6453\n",
            "Epoch 84/100\n",
            "34/34 [==============================] - 0s 1ms/step - loss: 3746.6958 - mae: 3746.6958\n",
            "Epoch 85/100\n",
            "34/34 [==============================] - 0s 1ms/step - loss: 3731.7278 - mae: 3731.7278\n",
            "Epoch 86/100\n",
            "34/34 [==============================] - 0s 1ms/step - loss: 3726.8279 - mae: 3726.8279\n",
            "Epoch 87/100\n",
            "34/34 [==============================] - 0s 1ms/step - loss: 3723.3557 - mae: 3723.3557\n",
            "Epoch 88/100\n",
            "34/34 [==============================] - 0s 1ms/step - loss: 3718.9497 - mae: 3718.9497\n",
            "Epoch 89/100\n",
            "34/34 [==============================] - 0s 1ms/step - loss: 3720.8728 - mae: 3720.8728\n",
            "Epoch 90/100\n",
            "34/34 [==============================] - 0s 1ms/step - loss: 3711.8599 - mae: 3711.8599\n",
            "Epoch 91/100\n",
            "34/34 [==============================] - 0s 1ms/step - loss: 3706.9150 - mae: 3706.9150\n",
            "Epoch 92/100\n",
            "34/34 [==============================] - 0s 1ms/step - loss: 3720.8115 - mae: 3720.8115\n",
            "Epoch 93/100\n",
            "34/34 [==============================] - 0s 1ms/step - loss: 3706.0686 - mae: 3706.0686\n",
            "Epoch 94/100\n",
            "34/34 [==============================] - 0s 1ms/step - loss: 3702.8159 - mae: 3702.8159\n",
            "Epoch 95/100\n",
            "34/34 [==============================] - 0s 1ms/step - loss: 3696.7283 - mae: 3696.7283\n",
            "Epoch 96/100\n",
            "34/34 [==============================] - 0s 1ms/step - loss: 3710.8013 - mae: 3710.8013\n",
            "Epoch 97/100\n",
            "34/34 [==============================] - 0s 1ms/step - loss: 3691.0010 - mae: 3691.0010\n",
            "Epoch 98/100\n",
            "34/34 [==============================] - 0s 1ms/step - loss: 3688.8191 - mae: 3688.8191\n",
            "Epoch 99/100\n",
            "34/34 [==============================] - 0s 1ms/step - loss: 3705.5381 - mae: 3705.5381\n",
            "Epoch 100/100\n",
            "34/34 [==============================] - 0s 1ms/step - loss: 3699.4546 - mae: 3699.4546\n"
          ]
        },
        {
          "output_type": "execute_result",
          "data": {
            "text/plain": [
              "<keras.callbacks.History at 0x7fd3557f3cd0>"
            ]
          },
          "metadata": {},
          "execution_count": 54
        }
      ]
    },
    {
      "cell_type": "code",
      "source": [
        "insurance_model.evaluate(X_test,y_test)"
      ],
      "metadata": {
        "colab": {
          "base_uri": "https://localhost:8080/"
        },
        "id": "6lzTtlYvCSOo",
        "outputId": "ed79809f-9203-41e6-f932-691d7c0f85fe"
      },
      "execution_count": null,
      "outputs": [
        {
          "output_type": "stream",
          "name": "stdout",
          "text": [
            "9/9 [==============================] - 0s 1ms/step - loss: 3503.5715 - mae: 3503.5715\n"
          ]
        },
        {
          "output_type": "execute_result",
          "data": {
            "text/plain": [
              "[3503.571533203125, 3503.571533203125]"
            ]
          },
          "metadata": {},
          "execution_count": 55
        }
      ]
    },
    {
      "cell_type": "code",
      "source": [
        "# above is very differ\n",
        "# build a neural network\n",
        "tf.random.set_seed=42\n",
        "\n",
        "insurance_model=tf.keras.Sequential(\n",
        "    [\n",
        "        tf.keras.layers.Dense(100),\n",
        "        tf.keras.layers.Dense(100),\n",
        "        tf.keras.layers.Dense(1)\n",
        "    ]\n",
        ")\n",
        "insurance_model.compile(\n",
        "    loss=tf.keras.losses.mae,\n",
        "    optimizer=tf.keras.optimizers.Adam(),\n",
        "    metrics=['mae']\n",
        ")\n",
        "history=insurance_model.fit(X_train,y_train,epochs=200,verbose=1)"
      ],
      "metadata": {
        "colab": {
          "base_uri": "https://localhost:8080/"
        },
        "id": "XT13pU35DHhA",
        "outputId": "d07268ba-0f9a-4c4d-963c-59e0fe091a60"
      },
      "execution_count": null,
      "outputs": [
        {
          "output_type": "stream",
          "name": "stdout",
          "text": [
            "Epoch 1/200\n",
            "34/34 [==============================] - 1s 1ms/step - loss: 13177.6807 - mae: 13177.6807\n",
            "Epoch 2/200\n",
            "34/34 [==============================] - 0s 1ms/step - loss: 12376.8330 - mae: 12376.8330\n",
            "Epoch 3/200\n",
            "34/34 [==============================] - 0s 1ms/step - loss: 10248.6475 - mae: 10248.6475\n",
            "Epoch 4/200\n",
            "34/34 [==============================] - 0s 1ms/step - loss: 7777.1587 - mae: 7777.1587\n",
            "Epoch 5/200\n",
            "34/34 [==============================] - 0s 1ms/step - loss: 7441.2144 - mae: 7441.2144\n",
            "Epoch 6/200\n",
            "34/34 [==============================] - 0s 1ms/step - loss: 7399.7534 - mae: 7399.7534\n",
            "Epoch 7/200\n",
            "34/34 [==============================] - 0s 1ms/step - loss: 7347.2432 - mae: 7347.2432\n",
            "Epoch 8/200\n",
            "34/34 [==============================] - 0s 1ms/step - loss: 7307.7549 - mae: 7307.7549\n",
            "Epoch 9/200\n",
            "34/34 [==============================] - 0s 1ms/step - loss: 7266.3950 - mae: 7266.3950\n",
            "Epoch 10/200\n",
            "34/34 [==============================] - 0s 1ms/step - loss: 7225.7397 - mae: 7225.7397\n",
            "Epoch 11/200\n",
            "34/34 [==============================] - 0s 1ms/step - loss: 7186.5371 - mae: 7186.5371\n",
            "Epoch 12/200\n",
            "34/34 [==============================] - 0s 1ms/step - loss: 7136.3452 - mae: 7136.3452\n",
            "Epoch 13/200\n",
            "34/34 [==============================] - 0s 1ms/step - loss: 7087.0449 - mae: 7087.0449\n",
            "Epoch 14/200\n",
            "34/34 [==============================] - 0s 1ms/step - loss: 7034.7451 - mae: 7034.7451\n",
            "Epoch 15/200\n",
            "34/34 [==============================] - 0s 1ms/step - loss: 6987.5913 - mae: 6987.5913\n",
            "Epoch 16/200\n",
            "34/34 [==============================] - 0s 1ms/step - loss: 6929.9194 - mae: 6929.9194\n",
            "Epoch 17/200\n",
            "34/34 [==============================] - 0s 1ms/step - loss: 6878.5098 - mae: 6878.5098\n",
            "Epoch 18/200\n",
            "34/34 [==============================] - 0s 1ms/step - loss: 6813.8970 - mae: 6813.8970\n",
            "Epoch 19/200\n",
            "34/34 [==============================] - 0s 1ms/step - loss: 6750.2329 - mae: 6750.2329\n",
            "Epoch 20/200\n",
            "34/34 [==============================] - 0s 1ms/step - loss: 6685.6025 - mae: 6685.6025\n",
            "Epoch 21/200\n",
            "34/34 [==============================] - 0s 1ms/step - loss: 6624.9209 - mae: 6624.9209\n",
            "Epoch 22/200\n",
            "34/34 [==============================] - 0s 1ms/step - loss: 6579.4463 - mae: 6579.4463\n",
            "Epoch 23/200\n",
            "34/34 [==============================] - 0s 1ms/step - loss: 6532.7744 - mae: 6532.7744\n",
            "Epoch 24/200\n",
            "34/34 [==============================] - 0s 1ms/step - loss: 6505.8716 - mae: 6505.8716\n",
            "Epoch 25/200\n",
            "34/34 [==============================] - 0s 1ms/step - loss: 6473.9658 - mae: 6473.9658\n",
            "Epoch 26/200\n",
            "34/34 [==============================] - 0s 1ms/step - loss: 6454.7310 - mae: 6454.7310\n",
            "Epoch 27/200\n",
            "34/34 [==============================] - 0s 1ms/step - loss: 6431.4097 - mae: 6431.4097\n",
            "Epoch 28/200\n",
            "34/34 [==============================] - 0s 1ms/step - loss: 6406.5474 - mae: 6406.5474\n",
            "Epoch 29/200\n",
            "34/34 [==============================] - 0s 1ms/step - loss: 6385.0591 - mae: 6385.0591\n",
            "Epoch 30/200\n",
            "34/34 [==============================] - 0s 1ms/step - loss: 6366.8101 - mae: 6366.8101\n",
            "Epoch 31/200\n",
            "34/34 [==============================] - 0s 1ms/step - loss: 6337.1646 - mae: 6337.1646\n",
            "Epoch 32/200\n",
            "34/34 [==============================] - 0s 1ms/step - loss: 6315.4517 - mae: 6315.4517\n",
            "Epoch 33/200\n",
            "34/34 [==============================] - 0s 1ms/step - loss: 6287.4927 - mae: 6287.4927\n",
            "Epoch 34/200\n",
            "34/34 [==============================] - 0s 1ms/step - loss: 6262.8232 - mae: 6262.8232\n",
            "Epoch 35/200\n",
            "34/34 [==============================] - 0s 1ms/step - loss: 6233.7324 - mae: 6233.7324\n",
            "Epoch 36/200\n",
            "34/34 [==============================] - 0s 1ms/step - loss: 6203.3862 - mae: 6203.3862\n",
            "Epoch 37/200\n",
            "34/34 [==============================] - 0s 1ms/step - loss: 6172.7246 - mae: 6172.7246\n",
            "Epoch 38/200\n",
            "34/34 [==============================] - 0s 1ms/step - loss: 6138.7397 - mae: 6138.7397\n",
            "Epoch 39/200\n",
            "34/34 [==============================] - 0s 1ms/step - loss: 6112.0278 - mae: 6112.0278\n",
            "Epoch 40/200\n",
            "34/34 [==============================] - 0s 1ms/step - loss: 6065.6094 - mae: 6065.6094\n",
            "Epoch 41/200\n",
            "34/34 [==============================] - 0s 1ms/step - loss: 6027.1670 - mae: 6027.1670\n",
            "Epoch 42/200\n",
            "34/34 [==============================] - 0s 1ms/step - loss: 5980.4355 - mae: 5980.4355\n",
            "Epoch 43/200\n",
            "34/34 [==============================] - 0s 1ms/step - loss: 5944.1279 - mae: 5944.1279\n",
            "Epoch 44/200\n",
            "34/34 [==============================] - 0s 1ms/step - loss: 5884.5303 - mae: 5884.5303\n",
            "Epoch 45/200\n",
            "34/34 [==============================] - 0s 1ms/step - loss: 5832.9839 - mae: 5832.9839\n",
            "Epoch 46/200\n",
            "34/34 [==============================] - 0s 1ms/step - loss: 5793.1191 - mae: 5793.1191\n",
            "Epoch 47/200\n",
            "34/34 [==============================] - 0s 1ms/step - loss: 5718.7061 - mae: 5718.7061\n",
            "Epoch 48/200\n",
            "34/34 [==============================] - 0s 1ms/step - loss: 5649.6802 - mae: 5649.6802\n",
            "Epoch 49/200\n",
            "34/34 [==============================] - 0s 1ms/step - loss: 5569.0586 - mae: 5569.0586\n",
            "Epoch 50/200\n",
            "34/34 [==============================] - 0s 1ms/step - loss: 5489.9966 - mae: 5489.9966\n",
            "Epoch 51/200\n",
            "34/34 [==============================] - 0s 1ms/step - loss: 5394.9946 - mae: 5394.9946\n",
            "Epoch 52/200\n",
            "34/34 [==============================] - 0s 1ms/step - loss: 5294.7275 - mae: 5294.7275\n",
            "Epoch 53/200\n",
            "34/34 [==============================] - 0s 1ms/step - loss: 5189.0312 - mae: 5189.0312\n",
            "Epoch 54/200\n",
            "34/34 [==============================] - 0s 1ms/step - loss: 5065.8071 - mae: 5065.8071\n",
            "Epoch 55/200\n",
            "34/34 [==============================] - 0s 1ms/step - loss: 4923.6660 - mae: 4923.6660\n",
            "Epoch 56/200\n",
            "34/34 [==============================] - 0s 1ms/step - loss: 4774.9590 - mae: 4774.9590\n",
            "Epoch 57/200\n",
            "34/34 [==============================] - 0s 1ms/step - loss: 4607.8037 - mae: 4607.8037\n",
            "Epoch 58/200\n",
            "34/34 [==============================] - 0s 1ms/step - loss: 4453.5640 - mae: 4453.5640\n",
            "Epoch 59/200\n",
            "34/34 [==============================] - 0s 1ms/step - loss: 4240.0513 - mae: 4240.0513\n",
            "Epoch 60/200\n",
            "34/34 [==============================] - 0s 1ms/step - loss: 4082.2505 - mae: 4082.2505\n",
            "Epoch 61/200\n",
            "34/34 [==============================] - 0s 1ms/step - loss: 3983.2019 - mae: 3983.2019\n",
            "Epoch 62/200\n",
            "34/34 [==============================] - 0s 1ms/step - loss: 3927.6172 - mae: 3927.6172\n",
            "Epoch 63/200\n",
            "34/34 [==============================] - 0s 1ms/step - loss: 3870.7090 - mae: 3870.7090\n",
            "Epoch 64/200\n",
            "34/34 [==============================] - 0s 1ms/step - loss: 3838.5537 - mae: 3838.5537\n",
            "Epoch 65/200\n",
            "34/34 [==============================] - 0s 1ms/step - loss: 3822.9246 - mae: 3822.9246\n",
            "Epoch 66/200\n",
            "34/34 [==============================] - 0s 1ms/step - loss: 3802.3535 - mae: 3802.3535\n",
            "Epoch 67/200\n",
            "34/34 [==============================] - 0s 1ms/step - loss: 3807.8147 - mae: 3807.8147\n",
            "Epoch 68/200\n",
            "34/34 [==============================] - 0s 1ms/step - loss: 3795.0017 - mae: 3795.0017\n",
            "Epoch 69/200\n",
            "34/34 [==============================] - 0s 1ms/step - loss: 3793.0229 - mae: 3793.0229\n",
            "Epoch 70/200\n",
            "34/34 [==============================] - 0s 1ms/step - loss: 3787.3806 - mae: 3787.3806\n",
            "Epoch 71/200\n",
            "34/34 [==============================] - 0s 1ms/step - loss: 3780.2188 - mae: 3780.2188\n",
            "Epoch 72/200\n",
            "34/34 [==============================] - 0s 1ms/step - loss: 3774.5559 - mae: 3774.5559\n",
            "Epoch 73/200\n",
            "34/34 [==============================] - 0s 1ms/step - loss: 3782.9519 - mae: 3782.9519\n",
            "Epoch 74/200\n",
            "34/34 [==============================] - 0s 1ms/step - loss: 3794.1370 - mae: 3794.1370\n",
            "Epoch 75/200\n",
            "34/34 [==============================] - 0s 1ms/step - loss: 3778.2539 - mae: 3778.2539\n",
            "Epoch 76/200\n",
            "34/34 [==============================] - 0s 1ms/step - loss: 3757.0881 - mae: 3757.0881\n",
            "Epoch 77/200\n",
            "34/34 [==============================] - 0s 1ms/step - loss: 3772.4670 - mae: 3772.4670\n",
            "Epoch 78/200\n",
            "34/34 [==============================] - 0s 1ms/step - loss: 3749.3984 - mae: 3749.3984\n",
            "Epoch 79/200\n",
            "34/34 [==============================] - 0s 1ms/step - loss: 3766.7610 - mae: 3766.7610\n",
            "Epoch 80/200\n",
            "34/34 [==============================] - 0s 2ms/step - loss: 3763.1746 - mae: 3763.1746\n",
            "Epoch 81/200\n",
            "34/34 [==============================] - 0s 1ms/step - loss: 3738.8789 - mae: 3738.8789\n",
            "Epoch 82/200\n",
            "34/34 [==============================] - 0s 1ms/step - loss: 3743.8506 - mae: 3743.8506\n",
            "Epoch 83/200\n",
            "34/34 [==============================] - 0s 1ms/step - loss: 3744.1885 - mae: 3744.1885\n",
            "Epoch 84/200\n",
            "34/34 [==============================] - 0s 1ms/step - loss: 3751.8296 - mae: 3751.8296\n",
            "Epoch 85/200\n",
            "34/34 [==============================] - 0s 1ms/step - loss: 3732.8887 - mae: 3732.8887\n",
            "Epoch 86/200\n",
            "34/34 [==============================] - 0s 1ms/step - loss: 3734.6765 - mae: 3734.6765\n",
            "Epoch 87/200\n",
            "34/34 [==============================] - 0s 1ms/step - loss: 3724.4219 - mae: 3724.4219\n",
            "Epoch 88/200\n",
            "34/34 [==============================] - 0s 1ms/step - loss: 3726.7727 - mae: 3726.7727\n",
            "Epoch 89/200\n",
            "34/34 [==============================] - 0s 1ms/step - loss: 3725.0278 - mae: 3725.0278\n",
            "Epoch 90/200\n",
            "34/34 [==============================] - 0s 1ms/step - loss: 3715.9536 - mae: 3715.9536\n",
            "Epoch 91/200\n",
            "34/34 [==============================] - 0s 1ms/step - loss: 3712.3752 - mae: 3712.3752\n",
            "Epoch 92/200\n",
            "34/34 [==============================] - 0s 1ms/step - loss: 3719.7146 - mae: 3719.7146\n",
            "Epoch 93/200\n",
            "34/34 [==============================] - 0s 1ms/step - loss: 3707.9680 - mae: 3707.9680\n",
            "Epoch 94/200\n",
            "34/34 [==============================] - 0s 1ms/step - loss: 3710.1733 - mae: 3710.1733\n",
            "Epoch 95/200\n",
            "34/34 [==============================] - 0s 1ms/step - loss: 3700.7839 - mae: 3700.7839\n",
            "Epoch 96/200\n",
            "34/34 [==============================] - 0s 1ms/step - loss: 3716.2480 - mae: 3716.2480\n",
            "Epoch 97/200\n",
            "34/34 [==============================] - 0s 1ms/step - loss: 3694.7498 - mae: 3694.7498\n",
            "Epoch 98/200\n",
            "34/34 [==============================] - 0s 1ms/step - loss: 3696.7163 - mae: 3696.7163\n",
            "Epoch 99/200\n",
            "34/34 [==============================] - 0s 1ms/step - loss: 3711.1296 - mae: 3711.1296\n",
            "Epoch 100/200\n",
            "34/34 [==============================] - 0s 1ms/step - loss: 3705.7661 - mae: 3705.7661\n",
            "Epoch 101/200\n",
            "34/34 [==============================] - 0s 1ms/step - loss: 3700.4368 - mae: 3700.4368\n",
            "Epoch 102/200\n",
            "34/34 [==============================] - 0s 1ms/step - loss: 3677.8660 - mae: 3677.8660\n",
            "Epoch 103/200\n",
            "34/34 [==============================] - 0s 1ms/step - loss: 3687.4429 - mae: 3687.4429\n",
            "Epoch 104/200\n",
            "34/34 [==============================] - 0s 1ms/step - loss: 3683.4941 - mae: 3683.4941\n",
            "Epoch 105/200\n",
            "34/34 [==============================] - 0s 1ms/step - loss: 3685.9414 - mae: 3685.9414\n",
            "Epoch 106/200\n",
            "34/34 [==============================] - 0s 1ms/step - loss: 3679.8433 - mae: 3679.8433\n",
            "Epoch 107/200\n",
            "34/34 [==============================] - 0s 1ms/step - loss: 3664.6501 - mae: 3664.6501\n",
            "Epoch 108/200\n",
            "34/34 [==============================] - 0s 1ms/step - loss: 3667.1653 - mae: 3667.1653\n",
            "Epoch 109/200\n",
            "34/34 [==============================] - 0s 1ms/step - loss: 3664.1604 - mae: 3664.1604\n",
            "Epoch 110/200\n",
            "34/34 [==============================] - 0s 1ms/step - loss: 3655.9702 - mae: 3655.9702\n",
            "Epoch 111/200\n",
            "34/34 [==============================] - 0s 1ms/step - loss: 3665.1277 - mae: 3665.1277\n",
            "Epoch 112/200\n",
            "34/34 [==============================] - 0s 1ms/step - loss: 3665.0486 - mae: 3665.0486\n",
            "Epoch 113/200\n",
            "34/34 [==============================] - 0s 1ms/step - loss: 3674.7051 - mae: 3674.7051\n",
            "Epoch 114/200\n",
            "34/34 [==============================] - 0s 1ms/step - loss: 3660.6387 - mae: 3660.6387\n",
            "Epoch 115/200\n",
            "34/34 [==============================] - 0s 1ms/step - loss: 3647.7307 - mae: 3647.7307\n",
            "Epoch 116/200\n",
            "34/34 [==============================] - 0s 1ms/step - loss: 3653.0913 - mae: 3653.0913\n",
            "Epoch 117/200\n",
            "34/34 [==============================] - 0s 1ms/step - loss: 3650.4104 - mae: 3650.4104\n",
            "Epoch 118/200\n",
            "34/34 [==============================] - 0s 1ms/step - loss: 3645.4082 - mae: 3645.4082\n",
            "Epoch 119/200\n",
            "34/34 [==============================] - 0s 1ms/step - loss: 3645.9714 - mae: 3645.9714\n",
            "Epoch 120/200\n",
            "34/34 [==============================] - 0s 1ms/step - loss: 3623.5020 - mae: 3623.5020\n",
            "Epoch 121/200\n",
            "34/34 [==============================] - 0s 1ms/step - loss: 3641.3633 - mae: 3641.3633\n",
            "Epoch 122/200\n",
            "34/34 [==============================] - 0s 1ms/step - loss: 3637.1028 - mae: 3637.1028\n",
            "Epoch 123/200\n",
            "34/34 [==============================] - 0s 1ms/step - loss: 3643.3733 - mae: 3643.3733\n",
            "Epoch 124/200\n",
            "34/34 [==============================] - 0s 1ms/step - loss: 3619.9690 - mae: 3619.9690\n",
            "Epoch 125/200\n",
            "34/34 [==============================] - 0s 1ms/step - loss: 3640.6182 - mae: 3640.6182\n",
            "Epoch 126/200\n",
            "34/34 [==============================] - 0s 1ms/step - loss: 3615.0552 - mae: 3615.0552\n",
            "Epoch 127/200\n",
            "34/34 [==============================] - 0s 1ms/step - loss: 3615.6169 - mae: 3615.6169\n",
            "Epoch 128/200\n",
            "34/34 [==============================] - 0s 1ms/step - loss: 3604.6184 - mae: 3604.6184\n",
            "Epoch 129/200\n",
            "34/34 [==============================] - 0s 1ms/step - loss: 3596.5486 - mae: 3596.5486\n",
            "Epoch 130/200\n",
            "34/34 [==============================] - 0s 1ms/step - loss: 3612.4868 - mae: 3612.4868\n",
            "Epoch 131/200\n",
            "34/34 [==============================] - 0s 1ms/step - loss: 3604.3496 - mae: 3604.3496\n",
            "Epoch 132/200\n",
            "34/34 [==============================] - 0s 1ms/step - loss: 3592.7683 - mae: 3592.7683\n",
            "Epoch 133/200\n",
            "34/34 [==============================] - 0s 1ms/step - loss: 3586.6541 - mae: 3586.6541\n",
            "Epoch 134/200\n",
            "34/34 [==============================] - 0s 1ms/step - loss: 3579.6743 - mae: 3579.6743\n",
            "Epoch 135/200\n",
            "34/34 [==============================] - 0s 1ms/step - loss: 3585.0117 - mae: 3585.0117\n",
            "Epoch 136/200\n",
            "34/34 [==============================] - 0s 1ms/step - loss: 3575.3113 - mae: 3575.3113\n",
            "Epoch 137/200\n",
            "34/34 [==============================] - 0s 1ms/step - loss: 3579.7109 - mae: 3579.7109\n",
            "Epoch 138/200\n",
            "34/34 [==============================] - 0s 1ms/step - loss: 3573.3162 - mae: 3573.3162\n",
            "Epoch 139/200\n",
            "34/34 [==============================] - 0s 1ms/step - loss: 3584.3301 - mae: 3584.3301\n",
            "Epoch 140/200\n",
            "34/34 [==============================] - 0s 1ms/step - loss: 3559.5354 - mae: 3559.5354\n",
            "Epoch 141/200\n",
            "34/34 [==============================] - 0s 1ms/step - loss: 3583.4294 - mae: 3583.4294\n",
            "Epoch 142/200\n",
            "34/34 [==============================] - 0s 1ms/step - loss: 3581.9917 - mae: 3581.9917\n",
            "Epoch 143/200\n",
            "34/34 [==============================] - 0s 1ms/step - loss: 3555.5015 - mae: 3555.5015\n",
            "Epoch 144/200\n",
            "34/34 [==============================] - 0s 1ms/step - loss: 3552.2473 - mae: 3552.2473\n",
            "Epoch 145/200\n",
            "34/34 [==============================] - 0s 1ms/step - loss: 3563.3728 - mae: 3563.3728\n",
            "Epoch 146/200\n",
            "34/34 [==============================] - 0s 1ms/step - loss: 3556.7163 - mae: 3556.7163\n",
            "Epoch 147/200\n",
            "34/34 [==============================] - 0s 1ms/step - loss: 3567.6277 - mae: 3567.6277\n",
            "Epoch 148/200\n",
            "34/34 [==============================] - 0s 1ms/step - loss: 3568.5125 - mae: 3568.5125\n",
            "Epoch 149/200\n",
            "34/34 [==============================] - 0s 1ms/step - loss: 3567.4844 - mae: 3567.4844\n",
            "Epoch 150/200\n",
            "34/34 [==============================] - 0s 1ms/step - loss: 3543.7014 - mae: 3543.7014\n",
            "Epoch 151/200\n",
            "34/34 [==============================] - 0s 1ms/step - loss: 3572.4680 - mae: 3572.4680\n",
            "Epoch 152/200\n",
            "34/34 [==============================] - 0s 1ms/step - loss: 3542.2004 - mae: 3542.2004\n",
            "Epoch 153/200\n",
            "34/34 [==============================] - 0s 1ms/step - loss: 3546.2104 - mae: 3546.2104\n",
            "Epoch 154/200\n",
            "34/34 [==============================] - 0s 1ms/step - loss: 3541.2341 - mae: 3541.2341\n",
            "Epoch 155/200\n",
            "34/34 [==============================] - 0s 1ms/step - loss: 3534.8635 - mae: 3534.8635\n",
            "Epoch 156/200\n",
            "34/34 [==============================] - 0s 1ms/step - loss: 3528.1628 - mae: 3528.1628\n",
            "Epoch 157/200\n",
            "34/34 [==============================] - 0s 1ms/step - loss: 3545.7966 - mae: 3545.7966\n",
            "Epoch 158/200\n",
            "34/34 [==============================] - 0s 1ms/step - loss: 3544.8342 - mae: 3544.8342\n",
            "Epoch 159/200\n",
            "34/34 [==============================] - 0s 1ms/step - loss: 3523.1355 - mae: 3523.1355\n",
            "Epoch 160/200\n",
            "34/34 [==============================] - 0s 1ms/step - loss: 3525.6401 - mae: 3525.6401\n",
            "Epoch 161/200\n",
            "34/34 [==============================] - 0s 1ms/step - loss: 3518.3845 - mae: 3518.3845\n",
            "Epoch 162/200\n",
            "34/34 [==============================] - 0s 1ms/step - loss: 3507.4338 - mae: 3507.4338\n",
            "Epoch 163/200\n",
            "34/34 [==============================] - 0s 1ms/step - loss: 3508.8699 - mae: 3508.8699\n",
            "Epoch 164/200\n",
            "34/34 [==============================] - 0s 1ms/step - loss: 3526.5542 - mae: 3526.5542\n",
            "Epoch 165/200\n",
            "34/34 [==============================] - 0s 1ms/step - loss: 3515.7070 - mae: 3515.7070\n",
            "Epoch 166/200\n",
            "34/34 [==============================] - 0s 1ms/step - loss: 3499.9382 - mae: 3499.9382\n",
            "Epoch 167/200\n",
            "34/34 [==============================] - 0s 1ms/step - loss: 3502.5513 - mae: 3502.5513\n",
            "Epoch 168/200\n",
            "34/34 [==============================] - 0s 1ms/step - loss: 3494.4656 - mae: 3494.4656\n",
            "Epoch 169/200\n",
            "34/34 [==============================] - 0s 1ms/step - loss: 3493.6462 - mae: 3493.6462\n",
            "Epoch 170/200\n",
            "34/34 [==============================] - 0s 1ms/step - loss: 3486.9487 - mae: 3486.9487\n",
            "Epoch 171/200\n",
            "34/34 [==============================] - 0s 1ms/step - loss: 3492.0627 - mae: 3492.0627\n",
            "Epoch 172/200\n",
            "34/34 [==============================] - 0s 1ms/step - loss: 3511.7637 - mae: 3511.7637\n",
            "Epoch 173/200\n",
            "34/34 [==============================] - 0s 1ms/step - loss: 3526.3696 - mae: 3526.3696\n",
            "Epoch 174/200\n",
            "34/34 [==============================] - 0s 1ms/step - loss: 3501.5212 - mae: 3501.5212\n",
            "Epoch 175/200\n",
            "34/34 [==============================] - 0s 1ms/step - loss: 3505.6370 - mae: 3505.6370\n",
            "Epoch 176/200\n",
            "34/34 [==============================] - 0s 1ms/step - loss: 3493.8328 - mae: 3493.8328\n",
            "Epoch 177/200\n",
            "34/34 [==============================] - 0s 1ms/step - loss: 3491.1658 - mae: 3491.1658\n",
            "Epoch 178/200\n",
            "34/34 [==============================] - 0s 1ms/step - loss: 3475.9673 - mae: 3475.9673\n",
            "Epoch 179/200\n",
            "34/34 [==============================] - 0s 1ms/step - loss: 3500.6782 - mae: 3500.6782\n",
            "Epoch 180/200\n",
            "34/34 [==============================] - 0s 1ms/step - loss: 3505.0776 - mae: 3505.0776\n",
            "Epoch 181/200\n",
            "34/34 [==============================] - 0s 1ms/step - loss: 3493.9663 - mae: 3493.9663\n",
            "Epoch 182/200\n",
            "34/34 [==============================] - 0s 1ms/step - loss: 3502.1367 - mae: 3502.1367\n",
            "Epoch 183/200\n",
            "34/34 [==============================] - 0s 1ms/step - loss: 3490.9485 - mae: 3490.9485\n",
            "Epoch 184/200\n",
            "34/34 [==============================] - 0s 1ms/step - loss: 3507.0696 - mae: 3507.0696\n",
            "Epoch 185/200\n",
            "34/34 [==============================] - 0s 1ms/step - loss: 3494.3098 - mae: 3494.3098\n",
            "Epoch 186/200\n",
            "34/34 [==============================] - 0s 1ms/step - loss: 3514.9045 - mae: 3514.9045\n",
            "Epoch 187/200\n",
            "34/34 [==============================] - 0s 1ms/step - loss: 3488.1143 - mae: 3488.1143\n",
            "Epoch 188/200\n",
            "34/34 [==============================] - 0s 1ms/step - loss: 3490.2136 - mae: 3490.2136\n",
            "Epoch 189/200\n",
            "34/34 [==============================] - 0s 2ms/step - loss: 3481.0083 - mae: 3481.0083\n",
            "Epoch 190/200\n",
            "34/34 [==============================] - 0s 2ms/step - loss: 3494.7988 - mae: 3494.7988\n",
            "Epoch 191/200\n",
            "34/34 [==============================] - 0s 2ms/step - loss: 3482.7251 - mae: 3482.7251\n",
            "Epoch 192/200\n",
            "34/34 [==============================] - 0s 2ms/step - loss: 3505.1973 - mae: 3505.1973\n",
            "Epoch 193/200\n",
            "34/34 [==============================] - 0s 1ms/step - loss: 3483.5220 - mae: 3483.5220\n",
            "Epoch 194/200\n",
            "34/34 [==============================] - 0s 2ms/step - loss: 3488.9319 - mae: 3488.9319\n",
            "Epoch 195/200\n",
            "34/34 [==============================] - 0s 1ms/step - loss: 3489.0557 - mae: 3489.0557\n",
            "Epoch 196/200\n",
            "34/34 [==============================] - 0s 2ms/step - loss: 3517.7361 - mae: 3517.7361\n",
            "Epoch 197/200\n",
            "34/34 [==============================] - 0s 2ms/step - loss: 3493.5842 - mae: 3493.5842\n",
            "Epoch 198/200\n",
            "34/34 [==============================] - 0s 1ms/step - loss: 3483.7202 - mae: 3483.7202\n",
            "Epoch 199/200\n",
            "34/34 [==============================] - 0s 2ms/step - loss: 3477.5178 - mae: 3477.5178\n",
            "Epoch 200/200\n",
            "34/34 [==============================] - 0s 1ms/step - loss: 3477.3728 - mae: 3477.3728\n"
          ]
        }
      ]
    },
    {
      "cell_type": "code",
      "source": [
        "pd.DataFrame(history.history).plot()\n",
        "plt.xlabel('epochs')\n",
        "plt.ylabel('loss')"
      ],
      "metadata": {
        "colab": {
          "base_uri": "https://localhost:8080/",
          "height": 466
        },
        "id": "tdS5bQO1DhN6",
        "outputId": "f33ad608-4319-4362-88e1-269980113fcd"
      },
      "execution_count": null,
      "outputs": [
        {
          "output_type": "execute_result",
          "data": {
            "text/plain": [
              "Text(0, 0.5, 'loss')"
            ]
          },
          "metadata": {},
          "execution_count": 59
        },
        {
          "output_type": "display_data",
          "data": {
            "text/plain": [
              "<Figure size 640x480 with 1 Axes>"
            ],
            "image/png": "[encoded data removed]"
          },
          "metadata": {}
        }
      ]
    },
    {
      "cell_type": "markdown",
      "source": [
        "How long should we train for\n",
        "\n",
        "above plot we can stop until there no much difference in epochs"
      ],
      "metadata": {
        "id": "qmVJcuLmD9IF"
      }
    },
    {
      "cell_type": "markdown",
      "source": [
        "Preprocessing data (normalization and stasndardization)"
      ],
      "metadata": {
        "id": "EjAE2qExEel3"
      }
    },
    {
      "cell_type": "code",
      "source": [
        "import pandas as pd\n",
        "import matplotlib.pyplot as plt\n",
        "import tensorflow as tf\n"
      ],
      "metadata": {
        "id": "n4CsUkOMF7ix"
      },
      "execution_count": null,
      "outputs": []
    },
    {
      "cell_type": "code",
      "source": [
        "insurance=pd.read_csv('insurance.csv')\n",
        "insurance"
      ],
      "metadata": {
        "colab": {
          "base_uri": "https://localhost:8080/",
          "height": 424
        },
        "id": "eNT1wGv0GGA5",
        "outputId": "2e1efdc6-43b2-42d1-ffca-63d4cdfd71ab"
      },
      "execution_count": null,
      "outputs": [
        {
          "output_type": "execute_result",
          "data": {
            "text/plain": [
              "      age     sex     bmi  children smoker     region      charges\n",
              "0      19  female  27.900         0    yes  southwest  16884.92400\n",
              "1      18    male  33.770         1     no  southeast   1725.55230\n",
              "2      28    male  33.000         3     no  southeast   4449.46200\n",
              "3      33    male  22.705         0     no  northwest  21984.47061\n",
              "4      32    male  28.880         0     no  northwest   3866.85520\n",
              "...   ...     ...     ...       ...    ...        ...          ...\n",
              "1333   50    male  30.970         3     no  northwest  10600.54830\n",
              "1334   18  female  31.920         0     no  northeast   2205.98080\n",
              "1335   18  female  36.850         0     no  southeast   1629.83350\n",
              "1336   21  female  25.800         0     no  southwest   2007.94500\n",
              "1337   61  female  29.070         0    yes  northwest  29141.36030\n",
              "\n",
              "[1338 rows x 7 columns]"
            ],
            "text/html": [
              "\n",
              "  <div id=\"df-fe4c77dd-17e9-4113-8b48-af0eb9713dee\">\n",
              "    <div class=\"colab-df-container\">\n",
              "      <div>\n",
              "<style scoped>\n",
              "    .dataframe tbody tr th:only-of-type {\n",
              "        vertical-align: middle;\n",
              "    }\n",
              "\n",
              "    .dataframe tbody tr th {\n",
              "        vertical-align: top;\n",
              "    }\n",
              "\n",
              "    .dataframe thead th {\n",
              "        text-align: right;\n",
              "    }\n",
              "</style>\n",
              "<table border=\"1\" class=\"dataframe\">\n",
              "  <thead>\n",
              "    <tr style=\"text-align: right;\">\n",
              "      <th></th>\n",
              "      <th>age</th>\n",
              "      <th>sex</th>\n",
              "      <th>bmi</th>\n",
              "      <th>children</th>\n",
              "      <th>smoker</th>\n",
              "      <th>region</th>\n",
              "      <th>charges</th>\n",
              "    </tr>\n",
              "  </thead>\n",
              "  <tbody>\n",
              "    <tr>\n",
              "      <th>0</th>\n",
              "      <td>19</td>\n",
              "      <td>female</td>\n",
              "      <td>27.900</td>\n",
              "      <td>0</td>\n",
              "      <td>yes</td>\n",
              "      <td>southwest</td>\n",
              "      <td>16884.92400</td>\n",
              "    </tr>\n",
              "    <tr>\n",
              "      <th>1</th>\n",
              "      <td>18</td>\n",
              "      <td>male</td>\n",
              "      <td>33.770</td>\n",
              "      <td>1</td>\n",
              "      <td>no</td>\n",
              "      <td>southeast</td>\n",
              "      <td>1725.55230</td>\n",
              "    </tr>\n",
              "    <tr>\n",
              "      <th>2</th>\n",
              "      <td>28</td>\n",
              "      <td>male</td>\n",
              "      <td>33.000</td>\n",
              "      <td>3</td>\n",
              "      <td>no</td>\n",
              "      <td>southeast</td>\n",
              "      <td>4449.46200</td>\n",
              "    </tr>\n",
              "    <tr>\n",
              "      <th>3</th>\n",
              "      <td>33</td>\n",
              "      <td>male</td>\n",
              "      <td>22.705</td>\n",
              "      <td>0</td>\n",
              "      <td>no</td>\n",
              "      <td>northwest</td>\n",
              "      <td>21984.47061</td>\n",
              "    </tr>\n",
              "    <tr>\n",
              "      <th>4</th>\n",
              "      <td>32</td>\n",
              "      <td>male</td>\n",
              "      <td>28.880</td>\n",
              "      <td>0</td>\n",
              "      <td>no</td>\n",
              "      <td>northwest</td>\n",
              "      <td>3866.85520</td>\n",
              "    </tr>\n",
              "    <tr>\n",
              "      <th>...</th>\n",
              "      <td>...</td>\n",
              "      <td>...</td>\n",
              "      <td>...</td>\n",
              "      <td>...</td>\n",
              "      <td>...</td>\n",
              "      <td>...</td>\n",
              "      <td>...</td>\n",
              "    </tr>\n",
              "    <tr>\n",
              "      <th>1333</th>\n",
              "      <td>50</td>\n",
              "      <td>male</td>\n",
              "      <td>30.970</td>\n",
              "      <td>3</td>\n",
              "      <td>no</td>\n",
              "      <td>northwest</td>\n",
              "      <td>10600.54830</td>\n",
              "    </tr>\n",
              "    <tr>\n",
              "      <th>1334</th>\n",
              "      <td>18</td>\n",
              "      <td>female</td>\n",
              "      <td>31.920</td>\n",
              "      <td>0</td>\n",
              "      <td>no</td>\n",
              "      <td>northeast</td>\n",
              "      <td>2205.98080</td>\n",
              "    </tr>\n",
              "    <tr>\n",
              "      <th>1335</th>\n",
              "      <td>18</td>\n",
              "      <td>female</td>\n",
              "      <td>36.850</td>\n",
              "      <td>0</td>\n",
              "      <td>no</td>\n",
              "      <td>southeast</td>\n",
              "      <td>1629.83350</td>\n",
              "    </tr>\n",
              "    <tr>\n",
              "      <th>1336</th>\n",
              "      <td>21</td>\n",
              "      <td>female</td>\n",
              "      <td>25.800</td>\n",
              "      <td>0</td>\n",
              "      <td>no</td>\n",
              "      <td>southwest</td>\n",
              "      <td>2007.94500</td>\n",
              "    </tr>\n",
              "    <tr>\n",
              "      <th>1337</th>\n",
              "      <td>61</td>\n",
              "      <td>female</td>\n",
              "      <td>29.070</td>\n",
              "      <td>0</td>\n",
              "      <td>yes</td>\n",
              "      <td>northwest</td>\n",
              "      <td>29141.36030</td>\n",
              "    </tr>\n",
              "  </tbody>\n",
              "</table>\n",
              "<p>1338 rows × 7 columns</p>\n",
              "</div>\n",
              "      <button class=\"colab-df-convert\" onclick=\"convertToInteractive('df-fe4c77dd-17e9-4113-8b48-af0eb9713dee')\"\n",
              "              title=\"Convert this dataframe to an interactive table.\"\n",
              "              style=\"display:none;\">\n",
              "        \n",
              "  <svg xmlns=\"http://www.w3.org/2000/svg\" height=\"24px\"viewBox=\"0 0 24 24\"\n",
              "       width=\"24px\">\n",
              "    <path d=\"M0 0h24v24H0V0z\" fill=\"none\"/>\n",
              "    <path d=\"M18.56 5.44l.94 2.06.94-2.06 2.06-.94-2.06-.94-.94-2.06-.94 2.06-2.06.94zm-11 1L8.5 8.5l.94-2.06 2.06-.94-2.06-.94L8.5 2.5l-.94 2.06-2.06.94zm10 10l.94 2.06.94-2.06 2.06-.94-2.06-.94-.94-2.06-.94 2.06-2.06.94z\"/><path d=\"M17.41 7.96l-1.37-1.37c-.4-.4-.92-.59-1.43-.59-.52 0-1.04.2-1.43.59L10.3 9.45l-7.72 7.72c-.78.78-.78 2.05 0 2.83L4 21.41c.39.39.9.59 1.41.59.51 0 1.02-.2 1.41-.59l7.78-7.78 2.81-2.81c.8-.78.8-2.07 0-2.86zM5.41 20L4 18.59l7.72-7.72 1.47 1.35L5.41 20z\"/>\n",
              "  </svg>\n",
              "      </button>\n",
              "      \n",
              "  <style>\n",
              "    .colab-df-container {\n",
              "      display:flex;\n",
              "      flex-wrap:wrap;\n",
              "      gap: 12px;\n",
              "    }\n",
              "\n",
              "    .colab-df-convert {\n",
              "      background-color: #E8F0FE;\n",
              "      border: none;\n",
              "      border-radius: 50%;\n",
              "      cursor: pointer;\n",
              "      display: none;\n",
              "      fill: #1967D2;\n",
              "      height: 32px;\n",
              "      padding: 0 0 0 0;\n",
              "      width: 32px;\n",
              "    }\n",
              "\n",
              "    .colab-df-convert:hover {\n",
              "      background-color: #E2EBFA;\n",
              "      box-shadow: 0px 1px 2px rgba(60, 64, 67, 0.3), 0px 1px 3px 1px rgba(60, 64, 67, 0.15);\n",
              "      fill: #174EA6;\n",
              "    }\n",
              "\n",
              "    [theme=dark] .colab-df-convert {\n",
              "      background-color: #3B4455;\n",
              "      fill: #D2E3FC;\n",
              "    }\n",
              "\n",
              "    [theme=dark] .colab-df-convert:hover {\n",
              "      background-color: #434B5C;\n",
              "      box-shadow: 0px 1px 3px 1px rgba(0, 0, 0, 0.15);\n",
              "      filter: drop-shadow(0px 1px 2px rgba(0, 0, 0, 0.3));\n",
              "      fill: #FFFFFF;\n",
              "    }\n",
              "  </style>\n",
              "\n",
              "      <script>\n",
              "        const buttonEl =\n",
              "          document.querySelector('#df-fe4c77dd-17e9-4113-8b48-af0eb9713dee button.colab-df-convert');\n",
              "        buttonEl.style.display =\n",
              "          google.colab.kernel.accessAllowed ? 'block' : 'none';\n",
              "\n",
              "        async function convertToInteractive(key) {\n",
              "          const element = document.querySelector('#df-fe4c77dd-17e9-4113-8b48-af0eb9713dee');\n",
              "          const dataTable =\n",
              "            await google.colab.kernel.invokeFunction('convertToInteractive',\n",
              "                                                     [key], {});\n",
              "          if (!dataTable) return;\n",
              "\n",
              "          const docLinkHtml = 'Like what you see? Visit the ' +\n",
              "            '<a target=\"_blank\" href=https://colab.research.google.com/notebooks/data_table.ipynb>data table notebook</a>'\n",
              "            + ' to learn more about interactive tables.';\n",
              "          element.innerHTML = '';\n",
              "          dataTable['output_type'] = 'display_data';\n",
              "          await google.colab.output.renderOutput(dataTable, element);\n",
              "          const docLink = document.createElement('div');\n",
              "          docLink.innerHTML = docLinkHtml;\n",
              "          element.appendChild(docLink);\n",
              "        }\n",
              "      </script>\n",
              "    </div>\n",
              "  </div>\n",
              "  "
            ]
          },
          "metadata": {},
          "execution_count": 61
        }
      ]
    },
    {
      "cell_type": "code",
      "source": [
        "from sklearn.compose import make_column_transformer\n",
        "from sklearn.preprocessing import MinMaxScaler, OneHotEncoder\n",
        "from sklearn.model_selection import train_test_split\n",
        "# create a column transformer\n",
        "ct=make_column_transformer(\n",
        "    (MinMaxScaler(),['age','bmi','children']),\n",
        "    (OneHotEncoder(handle_unknown='ignore'),['sex','smoker','region'])\n",
        ")\n",
        "#create X and y values\n",
        "X=insurance.drop(columns=['charges'])\n",
        "y=insurance['charges']\n",
        "\n",
        "X_train,X_test,y_train,y_test=train_test_split(X,y,test_size=0.2,random_state=42)\n",
        "\n",
        "#fit the column transformer to our training data\n",
        "ct.fit(X_train)\n",
        "\n",
        "#transform training and test data with normalization(Minmaxscalar)\n",
        "X_train_normal=ct.transform(X_train)\n",
        "X_test_normal=ct.transform(X_test)\n"
      ],
      "metadata": {
        "id": "MfixWBdUGOl3"
      },
      "execution_count": null,
      "outputs": []
    },
    {
      "cell_type": "code",
      "source": [
        "X_train.loc[0]"
      ],
      "metadata": {
        "colab": {
          "base_uri": "https://localhost:8080/"
        },
        "id": "jA_LpBW9KtdD",
        "outputId": "43439d21-b4fe-44a2-e557-874ccd64673d"
      },
      "execution_count": null,
      "outputs": [
        {
          "output_type": "execute_result",
          "data": {
            "text/plain": [
              "age                19\n",
              "sex            female\n",
              "bmi              27.9\n",
              "children            0\n",
              "smoker            yes\n",
              "region      southwest\n",
              "Name: 0, dtype: object"
            ]
          },
          "metadata": {},
          "execution_count": 65
        }
      ]
    },
    {
      "cell_type": "code",
      "source": [
        "X_train_normal[0]"
      ],
      "metadata": {
        "colab": {
          "base_uri": "https://localhost:8080/"
        },
        "id": "7wQ0T_kFKnm4",
        "outputId": "382f4908-80cf-45ac-b0e2-52e4c9108dc2"
      },
      "execution_count": null,
      "outputs": [
        {
          "output_type": "execute_result",
          "data": {
            "text/plain": [
              "array([0.60869565, 0.10734463, 0.4       , 1.        , 0.        ,\n",
              "       1.        , 0.        , 0.        , 1.        , 0.        ,\n",
              "       0.        ])"
            ]
          },
          "metadata": {},
          "execution_count": 66
        }
      ]
    },
    {
      "cell_type": "code",
      "source": [
        "tf.random.set_seed=42\n",
        "\n",
        "insurance_model_2=tf.keras.Sequential(\n",
        "    [\n",
        "        tf.keras.layers.Dense(100),\n",
        "        tf.keras.layers.Dense(10),\n",
        "        tf.keras.layers.Dense(1)\n",
        "    ]\n",
        ")\n",
        "insurance_model_2.compile(\n",
        "    loss=tf.keras.losses.mae,\n",
        "    optimizer=tf.keras.optimizers.Adam(),\n",
        "    metrics=['mae']\n",
        ")\n",
        "history=insurance_model_2.fit(X_train_normal,y_train,epochs=200,verbose=1)\n"
      ],
      "metadata": {
        "colab": {
          "base_uri": "https://localhost:8080/"
        },
        "id": "Y4WY0RZ_b5GF",
        "outputId": "d37fda40-5e55-4fa3-fb7b-0b6d8d66826e"
      },
      "execution_count": null,
      "outputs": [
        {
          "output_type": "stream",
          "name": "stdout",
          "text": [
            "Epoch 1/200\n",
            "34/34 [==============================] - 1s 1ms/step - loss: 13344.1299 - mae: 13344.1299\n",
            "Epoch 2/200\n",
            "34/34 [==============================] - 0s 1ms/step - loss: 13335.8438 - mae: 13335.8438\n",
            "Epoch 3/200\n",
            "34/34 [==============================] - 0s 1ms/step - loss: 13314.9180 - mae: 13314.9180\n",
            "Epoch 4/200\n",
            "34/34 [==============================] - 0s 1ms/step - loss: 13270.8613 - mae: 13270.8613\n",
            "Epoch 5/200\n",
            "34/34 [==============================] - 0s 1ms/step - loss: 13192.6338 - mae: 13192.6338\n",
            "Epoch 6/200\n",
            "34/34 [==============================] - 0s 1ms/step - loss: 13069.3730 - mae: 13069.3730\n",
            "Epoch 7/200\n",
            "34/34 [==============================] - 0s 1ms/step - loss: 12890.7959 - mae: 12890.7959\n",
            "Epoch 8/200\n",
            "34/34 [==============================] - 0s 1ms/step - loss: 12646.7139 - mae: 12646.7139\n",
            "Epoch 9/200\n",
            "34/34 [==============================] - 0s 1ms/step - loss: 12326.9678 - mae: 12326.9678\n",
            "Epoch 10/200\n",
            "34/34 [==============================] - 0s 1ms/step - loss: 11927.9238 - mae: 11927.9238\n",
            "Epoch 11/200\n",
            "34/34 [==============================] - 0s 1ms/step - loss: 11457.5186 - mae: 11457.5186\n",
            "Epoch 12/200\n",
            "34/34 [==============================] - 0s 1ms/step - loss: 10954.2197 - mae: 10954.2197\n",
            "Epoch 13/200\n",
            "34/34 [==============================] - 0s 1ms/step - loss: 10453.9424 - mae: 10453.9424\n",
            "Epoch 14/200\n",
            "34/34 [==============================] - 0s 1ms/step - loss: 9956.4316 - mae: 9956.4316\n",
            "Epoch 15/200\n",
            "34/34 [==============================] - 0s 1ms/step - loss: 9488.1895 - mae: 9488.1895\n",
            "Epoch 16/200\n",
            "34/34 [==============================] - 0s 1ms/step - loss: 9073.0098 - mae: 9073.0098\n",
            "Epoch 17/200\n",
            "34/34 [==============================] - 0s 1ms/step - loss: 8727.1875 - mae: 8727.1875\n",
            "Epoch 18/200\n",
            "34/34 [==============================] - 0s 1ms/step - loss: 8448.0156 - mae: 8448.0156\n",
            "Epoch 19/200\n",
            "34/34 [==============================] - 0s 1ms/step - loss: 8234.9268 - mae: 8234.9268\n",
            "Epoch 20/200\n",
            "34/34 [==============================] - 0s 1ms/step - loss: 8087.6064 - mae: 8087.6064\n",
            "Epoch 21/200\n",
            "34/34 [==============================] - 0s 1ms/step - loss: 7978.5391 - mae: 7978.5391\n",
            "Epoch 22/200\n",
            "34/34 [==============================] - 0s 1ms/step - loss: 7904.5298 - mae: 7904.5298\n",
            "Epoch 23/200\n",
            "34/34 [==============================] - 0s 1ms/step - loss: 7846.2456 - mae: 7846.2456\n",
            "Epoch 24/200\n",
            "34/34 [==============================] - 0s 2ms/step - loss: 7795.3857 - mae: 7795.3857\n",
            "Epoch 25/200\n",
            "34/34 [==============================] - 0s 1ms/step - loss: 7757.3745 - mae: 7757.3745\n",
            "Epoch 26/200\n",
            "34/34 [==============================] - 0s 1ms/step - loss: 7705.7896 - mae: 7705.7896\n",
            "Epoch 27/200\n",
            "34/34 [==============================] - 0s 1ms/step - loss: 7663.0649 - mae: 7663.0649\n",
            "Epoch 28/200\n",
            "34/34 [==============================] - 0s 1ms/step - loss: 7619.9614 - mae: 7619.9614\n",
            "Epoch 29/200\n",
            "34/34 [==============================] - 0s 1ms/step - loss: 7577.3496 - mae: 7577.3496\n",
            "Epoch 30/200\n",
            "34/34 [==============================] - 0s 1ms/step - loss: 7534.3384 - mae: 7534.3384\n",
            "Epoch 31/200\n",
            "34/34 [==============================] - 0s 1ms/step - loss: 7490.5566 - mae: 7490.5566\n",
            "Epoch 32/200\n",
            "34/34 [==============================] - 0s 1ms/step - loss: 7446.4922 - mae: 7446.4922\n",
            "Epoch 33/200\n",
            "34/34 [==============================] - 0s 1ms/step - loss: 7402.2808 - mae: 7402.2808\n",
            "Epoch 34/200\n",
            "34/34 [==============================] - 0s 1ms/step - loss: 7354.2261 - mae: 7354.2261\n",
            "Epoch 35/200\n",
            "34/34 [==============================] - 0s 1ms/step - loss: 7307.7051 - mae: 7307.7051\n",
            "Epoch 36/200\n",
            "34/34 [==============================] - 0s 1ms/step - loss: 7257.9619 - mae: 7257.9619\n",
            "Epoch 37/200\n",
            "34/34 [==============================] - 0s 1ms/step - loss: 7208.0420 - mae: 7208.0420\n",
            "Epoch 38/200\n",
            "34/34 [==============================] - 0s 1ms/step - loss: 7157.3018 - mae: 7157.3018\n",
            "Epoch 39/200\n",
            "34/34 [==============================] - 0s 1ms/step - loss: 7102.8535 - mae: 7102.8535\n",
            "Epoch 40/200\n",
            "34/34 [==============================] - 0s 1ms/step - loss: 7047.6465 - mae: 7047.6465\n",
            "Epoch 41/200\n",
            "34/34 [==============================] - 0s 1ms/step - loss: 6991.4854 - mae: 6991.4854\n",
            "Epoch 42/200\n",
            "34/34 [==============================] - 0s 1ms/step - loss: 6932.6069 - mae: 6932.6069\n",
            "Epoch 43/200\n",
            "34/34 [==============================] - 0s 1ms/step - loss: 6870.1460 - mae: 6870.1460\n",
            "Epoch 44/200\n",
            "34/34 [==============================] - 0s 1ms/step - loss: 6804.1538 - mae: 6804.1538\n",
            "Epoch 45/200\n",
            "34/34 [==============================] - 0s 1ms/step - loss: 6737.4868 - mae: 6737.4868\n",
            "Epoch 46/200\n",
            "34/34 [==============================] - 0s 1ms/step - loss: 6668.8975 - mae: 6668.8975\n",
            "Epoch 47/200\n",
            "34/34 [==============================] - 0s 1ms/step - loss: 6598.1919 - mae: 6598.1919\n",
            "Epoch 48/200\n",
            "34/34 [==============================] - 0s 1ms/step - loss: 6519.6333 - mae: 6519.6333\n",
            "Epoch 49/200\n",
            "34/34 [==============================] - 0s 1ms/step - loss: 6441.1484 - mae: 6441.1484\n",
            "Epoch 50/200\n",
            "34/34 [==============================] - 0s 1ms/step - loss: 6355.9102 - mae: 6355.9102\n",
            "Epoch 51/200\n",
            "34/34 [==============================] - 0s 1ms/step - loss: 6272.6470 - mae: 6272.6470\n",
            "Epoch 52/200\n",
            "34/34 [==============================] - 0s 1ms/step - loss: 6179.7754 - mae: 6179.7754\n",
            "Epoch 53/200\n",
            "34/34 [==============================] - 0s 2ms/step - loss: 6084.4863 - mae: 6084.4863\n",
            "Epoch 54/200\n",
            "34/34 [==============================] - 0s 2ms/step - loss: 5986.5127 - mae: 5986.5127\n",
            "Epoch 55/200\n",
            "34/34 [==============================] - 0s 2ms/step - loss: 5879.6948 - mae: 5879.6948\n",
            "Epoch 56/200\n",
            "34/34 [==============================] - 0s 1ms/step - loss: 5772.0327 - mae: 5772.0327\n",
            "Epoch 57/200\n",
            "34/34 [==============================] - 0s 1ms/step - loss: 5656.6582 - mae: 5656.6582\n",
            "Epoch 58/200\n",
            "34/34 [==============================] - 0s 1ms/step - loss: 5539.2334 - mae: 5539.2334\n",
            "Epoch 59/200\n",
            "34/34 [==============================] - 0s 1ms/step - loss: 5421.8740 - mae: 5421.8740\n",
            "Epoch 60/200\n",
            "34/34 [==============================] - 0s 1ms/step - loss: 5299.3149 - mae: 5299.3149\n",
            "Epoch 61/200\n",
            "34/34 [==============================] - 0s 1ms/step - loss: 5172.5308 - mae: 5172.5308\n",
            "Epoch 62/200\n",
            "34/34 [==============================] - 0s 1ms/step - loss: 5043.0391 - mae: 5043.0391\n",
            "Epoch 63/200\n",
            "34/34 [==============================] - 0s 1ms/step - loss: 4914.5015 - mae: 4914.5015\n",
            "Epoch 64/200\n",
            "34/34 [==============================] - 0s 1ms/step - loss: 4783.1401 - mae: 4783.1401\n",
            "Epoch 65/200\n",
            "34/34 [==============================] - 0s 1ms/step - loss: 4656.1440 - mae: 4656.1440\n",
            "Epoch 66/200\n",
            "34/34 [==============================] - 0s 2ms/step - loss: 4529.6987 - mae: 4529.6987\n",
            "Epoch 67/200\n",
            "34/34 [==============================] - 0s 2ms/step - loss: 4418.9033 - mae: 4418.9033\n",
            "Epoch 68/200\n",
            "34/34 [==============================] - 0s 1ms/step - loss: 4310.7847 - mae: 4310.7847\n",
            "Epoch 69/200\n",
            "34/34 [==============================] - 0s 1ms/step - loss: 4208.3853 - mae: 4208.3853\n",
            "Epoch 70/200\n",
            "34/34 [==============================] - 0s 1ms/step - loss: 4114.3994 - mae: 4114.3994\n",
            "Epoch 71/200\n",
            "34/34 [==============================] - 0s 1ms/step - loss: 4026.7678 - mae: 4026.7678\n",
            "Epoch 72/200\n",
            "34/34 [==============================] - 0s 1ms/step - loss: 3950.4094 - mae: 3950.4094\n",
            "Epoch 73/200\n",
            "34/34 [==============================] - 0s 1ms/step - loss: 3885.0068 - mae: 3885.0068\n",
            "Epoch 74/200\n",
            "34/34 [==============================] - 0s 1ms/step - loss: 3830.6074 - mae: 3830.6074\n",
            "Epoch 75/200\n",
            "34/34 [==============================] - 0s 1ms/step - loss: 3787.1416 - mae: 3787.1416\n",
            "Epoch 76/200\n",
            "34/34 [==============================] - 0s 1ms/step - loss: 3753.6631 - mae: 3753.6631\n",
            "Epoch 77/200\n",
            "34/34 [==============================] - 0s 1ms/step - loss: 3727.2783 - mae: 3727.2783\n",
            "Epoch 78/200\n",
            "34/34 [==============================] - 0s 1ms/step - loss: 3708.7524 - mae: 3708.7524\n",
            "Epoch 79/200\n",
            "34/34 [==============================] - 0s 1ms/step - loss: 3695.0493 - mae: 3695.0493\n",
            "Epoch 80/200\n",
            "34/34 [==============================] - 0s 2ms/step - loss: 3685.5447 - mae: 3685.5447\n",
            "Epoch 81/200\n",
            "34/34 [==============================] - 0s 1ms/step - loss: 3678.3057 - mae: 3678.3057\n",
            "Epoch 82/200\n",
            "34/34 [==============================] - 0s 1ms/step - loss: 3674.3816 - mae: 3674.3816\n",
            "Epoch 83/200\n",
            "34/34 [==============================] - 0s 2ms/step - loss: 3668.5686 - mae: 3668.5686\n",
            "Epoch 84/200\n",
            "34/34 [==============================] - 0s 2ms/step - loss: 3665.0251 - mae: 3665.0251\n",
            "Epoch 85/200\n",
            "34/34 [==============================] - 0s 2ms/step - loss: 3662.0776 - mae: 3662.0776\n",
            "Epoch 86/200\n",
            "34/34 [==============================] - 0s 1ms/step - loss: 3660.2231 - mae: 3660.2231\n",
            "Epoch 87/200\n",
            "34/34 [==============================] - 0s 1ms/step - loss: 3657.4177 - mae: 3657.4177\n",
            "Epoch 88/200\n",
            "34/34 [==============================] - 0s 1ms/step - loss: 3654.9492 - mae: 3654.9492\n",
            "Epoch 89/200\n",
            "34/34 [==============================] - 0s 1ms/step - loss: 3653.1785 - mae: 3653.1785\n",
            "Epoch 90/200\n",
            "34/34 [==============================] - 0s 1ms/step - loss: 3651.6067 - mae: 3651.6067\n",
            "Epoch 91/200\n",
            "34/34 [==============================] - 0s 1ms/step - loss: 3648.6106 - mae: 3648.6106\n",
            "Epoch 92/200\n",
            "34/34 [==============================] - 0s 1ms/step - loss: 3647.8936 - mae: 3647.8936\n",
            "Epoch 93/200\n",
            "34/34 [==============================] - 0s 1ms/step - loss: 3645.8196 - mae: 3645.8196\n",
            "Epoch 94/200\n",
            "34/34 [==============================] - 0s 1ms/step - loss: 3643.9810 - mae: 3643.9810\n",
            "Epoch 95/200\n",
            "34/34 [==============================] - 0s 1ms/step - loss: 3645.0400 - mae: 3645.0400\n",
            "Epoch 96/200\n",
            "34/34 [==============================] - 0s 1ms/step - loss: 3641.9597 - mae: 3641.9597\n",
            "Epoch 97/200\n",
            "34/34 [==============================] - 0s 1ms/step - loss: 3639.5554 - mae: 3639.5554\n",
            "Epoch 98/200\n",
            "34/34 [==============================] - 0s 1ms/step - loss: 3637.4333 - mae: 3637.4333\n",
            "Epoch 99/200\n",
            "34/34 [==============================] - 0s 1ms/step - loss: 3636.9473 - mae: 3636.9473\n",
            "Epoch 100/200\n",
            "34/34 [==============================] - 0s 1ms/step - loss: 3635.3335 - mae: 3635.3335\n",
            "Epoch 101/200\n",
            "34/34 [==============================] - 0s 1ms/step - loss: 3632.4514 - mae: 3632.4514\n",
            "Epoch 102/200\n",
            "34/34 [==============================] - 0s 1ms/step - loss: 3630.0471 - mae: 3630.0471\n",
            "Epoch 103/200\n",
            "34/34 [==============================] - 0s 1ms/step - loss: 3628.8311 - mae: 3628.8311\n",
            "Epoch 104/200\n",
            "34/34 [==============================] - 0s 1ms/step - loss: 3626.3953 - mae: 3626.3953\n",
            "Epoch 105/200\n",
            "34/34 [==============================] - 0s 1ms/step - loss: 3624.9299 - mae: 3624.9299\n",
            "Epoch 106/200\n",
            "34/34 [==============================] - 0s 1ms/step - loss: 3623.4998 - mae: 3623.4998\n",
            "Epoch 107/200\n",
            "34/34 [==============================] - 0s 1ms/step - loss: 3622.7576 - mae: 3622.7576\n",
            "Epoch 108/200\n",
            "34/34 [==============================] - 0s 1ms/step - loss: 3620.3025 - mae: 3620.3025\n",
            "Epoch 109/200\n",
            "34/34 [==============================] - 0s 1ms/step - loss: 3620.6965 - mae: 3620.6965\n",
            "Epoch 110/200\n",
            "34/34 [==============================] - 0s 1ms/step - loss: 3617.4272 - mae: 3617.4272\n",
            "Epoch 111/200\n",
            "34/34 [==============================] - 0s 1ms/step - loss: 3614.9075 - mae: 3614.9075\n",
            "Epoch 112/200\n",
            "34/34 [==============================] - 0s 1ms/step - loss: 3612.7627 - mae: 3612.7627\n",
            "Epoch 113/200\n",
            "34/34 [==============================] - 0s 1ms/step - loss: 3611.2256 - mae: 3611.2256\n",
            "Epoch 114/200\n",
            "34/34 [==============================] - 0s 1ms/step - loss: 3610.2590 - mae: 3610.2590\n",
            "Epoch 115/200\n",
            "34/34 [==============================] - 0s 1ms/step - loss: 3608.5298 - mae: 3608.5298\n",
            "Epoch 116/200\n",
            "34/34 [==============================] - 0s 1ms/step - loss: 3607.1526 - mae: 3607.1526\n",
            "Epoch 117/200\n",
            "34/34 [==============================] - 0s 1ms/step - loss: 3604.0952 - mae: 3604.0952\n",
            "Epoch 118/200\n",
            "34/34 [==============================] - 0s 1ms/step - loss: 3600.4678 - mae: 3600.4678\n",
            "Epoch 119/200\n",
            "34/34 [==============================] - 0s 1ms/step - loss: 3602.2756 - mae: 3602.2756\n",
            "Epoch 120/200\n",
            "34/34 [==============================] - 0s 1ms/step - loss: 3599.6101 - mae: 3599.6101\n",
            "Epoch 121/200\n",
            "34/34 [==============================] - 0s 1ms/step - loss: 3594.5369 - mae: 3594.5369\n",
            "Epoch 122/200\n",
            "34/34 [==============================] - 0s 1ms/step - loss: 3593.9194 - mae: 3593.9194\n",
            "Epoch 123/200\n",
            "34/34 [==============================] - 0s 1ms/step - loss: 3591.8774 - mae: 3591.8774\n",
            "Epoch 124/200\n",
            "34/34 [==============================] - 0s 1ms/step - loss: 3589.6597 - mae: 3589.6597\n",
            "Epoch 125/200\n",
            "34/34 [==============================] - 0s 1ms/step - loss: 3587.5569 - mae: 3587.5569\n",
            "Epoch 126/200\n",
            "34/34 [==============================] - 0s 1ms/step - loss: 3586.7300 - mae: 3586.7300\n",
            "Epoch 127/200\n",
            "34/34 [==============================] - 0s 1ms/step - loss: 3587.0867 - mae: 3587.0867\n",
            "Epoch 128/200\n",
            "34/34 [==============================] - 0s 1ms/step - loss: 3583.4199 - mae: 3583.4199\n",
            "Epoch 129/200\n",
            "34/34 [==============================] - 0s 1ms/step - loss: 3582.0681 - mae: 3582.0681\n",
            "Epoch 130/200\n",
            "34/34 [==============================] - 0s 1ms/step - loss: 3578.4502 - mae: 3578.4502\n",
            "Epoch 131/200\n",
            "34/34 [==============================] - 0s 1ms/step - loss: 3577.0874 - mae: 3577.0874\n",
            "Epoch 132/200\n",
            "34/34 [==============================] - 0s 1ms/step - loss: 3574.1929 - mae: 3574.1929\n",
            "Epoch 133/200\n",
            "34/34 [==============================] - 0s 1ms/step - loss: 3572.6079 - mae: 3572.6079\n",
            "Epoch 134/200\n",
            "34/34 [==============================] - 0s 1ms/step - loss: 3570.5464 - mae: 3570.5464\n",
            "Epoch 135/200\n",
            "34/34 [==============================] - 0s 1ms/step - loss: 3568.6335 - mae: 3568.6335\n",
            "Epoch 136/200\n",
            "34/34 [==============================] - 0s 1ms/step - loss: 3567.2410 - mae: 3567.2410\n",
            "Epoch 137/200\n",
            "34/34 [==============================] - 0s 1ms/step - loss: 3565.4058 - mae: 3565.4058\n",
            "Epoch 138/200\n",
            "34/34 [==============================] - 0s 1ms/step - loss: 3563.2566 - mae: 3563.2566\n",
            "Epoch 139/200\n",
            "34/34 [==============================] - 0s 1ms/step - loss: 3562.5476 - mae: 3562.5476\n",
            "Epoch 140/200\n",
            "34/34 [==============================] - 0s 1ms/step - loss: 3560.3936 - mae: 3560.3936\n",
            "Epoch 141/200\n",
            "34/34 [==============================] - 0s 1ms/step - loss: 3560.4116 - mae: 3560.4116\n",
            "Epoch 142/200\n",
            "34/34 [==============================] - 0s 1ms/step - loss: 3557.4253 - mae: 3557.4253\n",
            "Epoch 143/200\n",
            "34/34 [==============================] - 0s 1ms/step - loss: 3557.5283 - mae: 3557.5283\n",
            "Epoch 144/200\n",
            "34/34 [==============================] - 0s 1ms/step - loss: 3554.4070 - mae: 3554.4070\n",
            "Epoch 145/200\n",
            "34/34 [==============================] - 0s 1ms/step - loss: 3552.5840 - mae: 3552.5840\n",
            "Epoch 146/200\n",
            "34/34 [==============================] - 0s 1ms/step - loss: 3552.8367 - mae: 3552.8367\n",
            "Epoch 147/200\n",
            "34/34 [==============================] - 0s 1ms/step - loss: 3550.5054 - mae: 3550.5054\n",
            "Epoch 148/200\n",
            "34/34 [==============================] - 0s 1ms/step - loss: 3549.1731 - mae: 3549.1731\n",
            "Epoch 149/200\n",
            "34/34 [==============================] - 0s 1ms/step - loss: 3546.3359 - mae: 3546.3359\n",
            "Epoch 150/200\n",
            "34/34 [==============================] - 0s 1ms/step - loss: 3545.9307 - mae: 3545.9307\n",
            "Epoch 151/200\n",
            "34/34 [==============================] - 0s 1ms/step - loss: 3544.2942 - mae: 3544.2942\n",
            "Epoch 152/200\n",
            "34/34 [==============================] - 0s 1ms/step - loss: 3542.6765 - mae: 3542.6765\n",
            "Epoch 153/200\n",
            "34/34 [==============================] - 0s 1ms/step - loss: 3541.1191 - mae: 3541.1191\n",
            "Epoch 154/200\n",
            "34/34 [==============================] - 0s 1ms/step - loss: 3542.5725 - mae: 3542.5725\n",
            "Epoch 155/200\n",
            "34/34 [==============================] - 0s 1ms/step - loss: 3540.1558 - mae: 3540.1558\n",
            "Epoch 156/200\n",
            "34/34 [==============================] - 0s 1ms/step - loss: 3538.2122 - mae: 3538.2122\n",
            "Epoch 157/200\n",
            "34/34 [==============================] - 0s 1ms/step - loss: 3536.8687 - mae: 3536.8687\n",
            "Epoch 158/200\n",
            "34/34 [==============================] - 0s 1ms/step - loss: 3533.8633 - mae: 3533.8633\n",
            "Epoch 159/200\n",
            "34/34 [==============================] - 0s 1ms/step - loss: 3532.3325 - mae: 3532.3325\n",
            "Epoch 160/200\n",
            "34/34 [==============================] - 0s 1ms/step - loss: 3532.1809 - mae: 3532.1809\n",
            "Epoch 161/200\n",
            "34/34 [==============================] - 0s 1ms/step - loss: 3529.0000 - mae: 3529.0000\n",
            "Epoch 162/200\n",
            "34/34 [==============================] - 0s 1ms/step - loss: 3528.3523 - mae: 3528.3523\n",
            "Epoch 163/200\n",
            "34/34 [==============================] - 0s 1ms/step - loss: 3526.6006 - mae: 3526.6006\n",
            "Epoch 164/200\n",
            "34/34 [==============================] - 0s 1ms/step - loss: 3525.9641 - mae: 3525.9641\n",
            "Epoch 165/200\n",
            "34/34 [==============================] - 0s 1ms/step - loss: 3523.9387 - mae: 3523.9387\n",
            "Epoch 166/200\n",
            "34/34 [==============================] - 0s 1ms/step - loss: 3522.4827 - mae: 3522.4827\n",
            "Epoch 167/200\n",
            "34/34 [==============================] - 0s 1ms/step - loss: 3521.3550 - mae: 3521.3550\n",
            "Epoch 168/200\n",
            "34/34 [==============================] - 0s 1ms/step - loss: 3519.9485 - mae: 3519.9485\n",
            "Epoch 169/200\n",
            "34/34 [==============================] - 0s 1ms/step - loss: 3518.7236 - mae: 3518.7236\n",
            "Epoch 170/200\n",
            "34/34 [==============================] - 0s 1ms/step - loss: 3517.6855 - mae: 3517.6855\n",
            "Epoch 171/200\n",
            "34/34 [==============================] - 0s 1ms/step - loss: 3517.2263 - mae: 3517.2263\n",
            "Epoch 172/200\n",
            "34/34 [==============================] - 0s 1ms/step - loss: 3515.5769 - mae: 3515.5769\n",
            "Epoch 173/200\n",
            "34/34 [==============================] - 0s 1ms/step - loss: 3514.2854 - mae: 3514.2854\n",
            "Epoch 174/200\n",
            "34/34 [==============================] - 0s 1ms/step - loss: 3513.1560 - mae: 3513.1560\n",
            "Epoch 175/200\n",
            "34/34 [==============================] - 0s 1ms/step - loss: 3511.7456 - mae: 3511.7456\n",
            "Epoch 176/200\n",
            "34/34 [==============================] - 0s 1ms/step - loss: 3511.6465 - mae: 3511.6465\n",
            "Epoch 177/200\n",
            "34/34 [==============================] - 0s 1ms/step - loss: 3511.8694 - mae: 3511.8694\n",
            "Epoch 178/200\n",
            "34/34 [==============================] - 0s 1ms/step - loss: 3509.6912 - mae: 3509.6912\n",
            "Epoch 179/200\n",
            "34/34 [==============================] - 0s 1ms/step - loss: 3511.4768 - mae: 3511.4768\n",
            "Epoch 180/200\n",
            "34/34 [==============================] - 0s 1ms/step - loss: 3506.4641 - mae: 3506.4641\n",
            "Epoch 181/200\n",
            "34/34 [==============================] - 0s 1ms/step - loss: 3504.4790 - mae: 3504.4790\n",
            "Epoch 182/200\n",
            "34/34 [==============================] - 0s 1ms/step - loss: 3503.9009 - mae: 3503.9009\n",
            "Epoch 183/200\n",
            "34/34 [==============================] - 0s 1ms/step - loss: 3502.0461 - mae: 3502.0461\n",
            "Epoch 184/200\n",
            "34/34 [==============================] - 0s 1ms/step - loss: 3501.2295 - mae: 3501.2295\n",
            "Epoch 185/200\n",
            "34/34 [==============================] - 0s 1ms/step - loss: 3500.8408 - mae: 3500.8408\n",
            "Epoch 186/200\n",
            "34/34 [==============================] - 0s 1ms/step - loss: 3498.3457 - mae: 3498.3457\n",
            "Epoch 187/200\n",
            "34/34 [==============================] - 0s 1ms/step - loss: 3498.7917 - mae: 3498.7917\n",
            "Epoch 188/200\n",
            "34/34 [==============================] - 0s 1ms/step - loss: 3495.9778 - mae: 3495.9778\n",
            "Epoch 189/200\n",
            "34/34 [==============================] - 0s 1ms/step - loss: 3494.3103 - mae: 3494.3103\n",
            "Epoch 190/200\n",
            "34/34 [==============================] - 0s 1ms/step - loss: 3496.1873 - mae: 3496.1873\n",
            "Epoch 191/200\n",
            "34/34 [==============================] - 0s 1ms/step - loss: 3500.9995 - mae: 3500.9998\n",
            "Epoch 192/200\n",
            "34/34 [==============================] - 0s 1ms/step - loss: 3491.3711 - mae: 3491.3711\n",
            "Epoch 193/200\n",
            "34/34 [==============================] - 0s 1ms/step - loss: 3491.5046 - mae: 3491.5046\n",
            "Epoch 194/200\n",
            "34/34 [==============================] - 0s 1ms/step - loss: 3488.1929 - mae: 3488.1929\n",
            "Epoch 195/200\n",
            "34/34 [==============================] - 0s 1ms/step - loss: 3487.4546 - mae: 3487.4546\n",
            "Epoch 196/200\n",
            "34/34 [==============================] - 0s 1ms/step - loss: 3488.5396 - mae: 3488.5396\n",
            "Epoch 197/200\n",
            "34/34 [==============================] - 0s 1ms/step - loss: 3485.4780 - mae: 3485.4780\n",
            "Epoch 198/200\n",
            "34/34 [==============================] - 0s 1ms/step - loss: 3483.9795 - mae: 3483.9795\n",
            "Epoch 199/200\n",
            "34/34 [==============================] - 0s 1ms/step - loss: 3482.9524 - mae: 3482.9524\n",
            "Epoch 200/200\n",
            "34/34 [==============================] - 0s 1ms/step - loss: 3483.6306 - mae: 3483.6306\n"
          ]
        }
      ]
    },
    {
      "cell_type": "code",
      "source": [
        "pd.DataFrame(history.history).plot()"
      ],
      "metadata": {
        "colab": {
          "base_uri": "https://localhost:8080/",
          "height": 447
        },
        "id": "0gmTYBvAcMI4",
        "outputId": "a896c4b5-7960-4246-847b-2ab3183587a5"
      },
      "execution_count": null,
      "outputs": [
        {
          "output_type": "execute_result",
          "data": {
            "text/plain": [
              "<Axes: >"
            ]
          },
          "metadata": {},
          "execution_count": 71
        },
        {
          "output_type": "display_data",
          "data": {
            "text/plain": [
              "<Figure size 640x480 with 1 Axes>"
            ],
            "image/png": "[encoded data removed]"
          },
          "metadata": {}
        }
      ]
    },
    {
      "cell_type": "code",
      "source": [
        "insurance_model_2.evaluate(X_test_normal,y_test)"
      ],
      "metadata": {
        "colab": {
          "base_uri": "https://localhost:8080/"
        },
        "id": "dw7YAqaQclPP",
        "outputId": "d20adc6b-9147-4503-9998-7622cd826c50"
      },
      "execution_count": null,
      "outputs": [
        {
          "output_type": "stream",
          "name": "stdout",
          "text": [
            "9/9 [==============================] - 0s 2ms/step - loss: 3170.6426 - mae: 3170.6426\n"
          ]
        },
        {
          "output_type": "execute_result",
          "data": {
            "text/plain": [
              "[3170.642578125, 3170.642578125]"
            ]
          },
          "metadata": {},
          "execution_count": 72
        }
      ]
    }
  ]
}